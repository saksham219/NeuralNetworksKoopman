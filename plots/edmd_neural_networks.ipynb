{
  "cells": [
    {
      "cell_type": "markdown",
      "id": "a1000a1d",
      "metadata": {
        "id": "a1000a1d"
      },
      "source": [
        "### Generate weights from NN training"
      ]
    },
    {
      "cell_type": "code",
      "execution_count": null,
      "id": "79db7708",
      "metadata": {
        "scrolled": true,
        "id": "79db7708"
      },
      "outputs": [],
      "source": [
        "import numpy as np\n",
        "import torch\n",
        "import torchvision\n",
        "import matplotlib.pyplot as plt\n",
        "import torch.nn as nn\n",
        "import torch.nn.functional as F\n",
        "import pandas as pd\n",
        "import scipy\n",
        "from torchvision import transforms\n",
        "import pickle"
      ]
    },
    {
      "cell_type": "code",
      "source": [
        "import os\n",
        "os.getcwd()"
      ],
      "metadata": {
        "colab": {
          "base_uri": "https://localhost:8080/",
          "height": 35
        },
        "id": "cAjNQP8K_ii2",
        "outputId": "0997c125-35da-4e75-8a5d-ef60c437e1df"
      },
      "id": "cAjNQP8K_ii2",
      "execution_count": null,
      "outputs": [
        {
          "output_type": "execute_result",
          "data": {
            "text/plain": [
              "'/content'"
            ],
            "application/vnd.google.colaboratory.intrinsic+json": {
              "type": "string"
            }
          },
          "metadata": {},
          "execution_count": 2
        }
      ]
    },
    {
      "cell_type": "code",
      "execution_count": null,
      "id": "97122e1b",
      "metadata": {
        "id": "97122e1b"
      },
      "outputs": [],
      "source": [
        "transform = torchvision.transforms.Compose([\n",
        "            torchvision.transforms.CenterCrop(21),\n",
        "            torchvision.transforms.ToTensor(),\n",
        "            # Apply with Lambda your custom transformation\n",
        "#             torchvision.transforms.Lambda(lambda x:x/255.0),\n",
        "        ])"
      ]
    },
    {
      "cell_type": "code",
      "execution_count": null,
      "id": "50c9de75",
      "metadata": {
        "id": "50c9de75"
      },
      "outputs": [],
      "source": [
        "mnist_dev = torchvision.datasets.MNIST(\"./data\", train=True, download=True, transform = transform)\n",
        "mnist_test = torchvision.datasets.MNIST(\"./data\", train=False, download=True, transform = transform)"
      ]
    },
    {
      "cell_type": "code",
      "source": [
        "from google.colab import drive\n",
        "drive.mount('/content/drive')\n",
        "%cd /content/drive/MyDrive/Colab\\ Notebooks/TUM/Seminar\n",
        "%ls"
      ],
      "metadata": {
        "colab": {
          "base_uri": "https://localhost:8080/"
        },
        "id": "twe10EjL_6_a",
        "outputId": "895d49c4-3a32-472d-ea46-a3db23f97dbf"
      },
      "id": "twe10EjL_6_a",
      "execution_count": null,
      "outputs": [
        {
          "output_type": "stream",
          "name": "stdout",
          "text": [
            "Drive already mounted at /content/drive; to attempt to forcibly remount, call drive.mount(\"/content/drive\", force_remount=True).\n",
            "/content/drive/MyDrive/Colab Notebooks/TUM/Seminar\n",
            "edmd_graphs.ipynb  edmd_neural_networks.ipynb  \u001b[0m\u001b[01;34mout\u001b[0m/\n"
          ]
        }
      ]
    },
    {
      "cell_type": "code",
      "execution_count": null,
      "id": "e18b95fe",
      "metadata": {
        "id": "e18b95fe"
      },
      "outputs": [],
      "source": [
        "n_train = 60000\n",
        "n_test = len(mnist_dev) - n_train\n",
        "train_dataset, val_dataset = torch.utils.data.random_split(mnist_dev, [n_train, n_test])"
      ]
    },
    {
      "cell_type": "code",
      "execution_count": null,
      "id": "d275a456",
      "metadata": {
        "scrolled": true,
        "colab": {
          "base_uri": "https://localhost:8080/"
        },
        "id": "d275a456",
        "outputId": "bbc76538-5b44-4066-cd8b-51760e8dc50e"
      },
      "outputs": [
        {
          "output_type": "execute_result",
          "data": {
            "text/plain": [
              "60000"
            ]
          },
          "metadata": {},
          "execution_count": 11
        }
      ],
      "source": [
        "len(train_dataset)"
      ]
    },
    {
      "cell_type": "code",
      "execution_count": null,
      "id": "0b9c8dd6",
      "metadata": {
        "colab": {
          "base_uri": "https://localhost:8080/"
        },
        "id": "0b9c8dd6",
        "outputId": "c97da8c8-c431-4489-99a3-bd167be8bed5"
      },
      "outputs": [
        {
          "output_type": "execute_result",
          "data": {
            "text/plain": [
              "torch.Size([1, 21, 21])"
            ]
          },
          "metadata": {},
          "execution_count": 12
        }
      ],
      "source": [
        "train_dataset[0][0].shape"
      ]
    },
    {
      "cell_type": "code",
      "execution_count": null,
      "id": "4a4b10ca",
      "metadata": {
        "colab": {
          "base_uri": "https://localhost:8080/",
          "height": 282
        },
        "id": "4a4b10ca",
        "outputId": "fbc7b565-65bd-4206-e7cf-2a2b7d840bb1"
      },
      "outputs": [
        {
          "output_type": "execute_result",
          "data": {
            "text/plain": [
              "<matplotlib.image.AxesImage at 0x7fc888dfc4f0>"
            ]
          },
          "metadata": {},
          "execution_count": 14
        },
        {
          "output_type": "display_data",
          "data": {
            "text/plain": [
              "<Figure size 432x288 with 1 Axes>"
            ],
            "image/png": "[encoded data removed]"
          },
          "metadata": {
            "needs_background": "light"
          }
        }
      ],
      "source": [
        "plt.imshow(train_dataset[10][0][0,:,:], cmap=\"gray\")"
      ]
    },
    {
      "cell_type": "code",
      "execution_count": null,
      "id": "e8354eec",
      "metadata": {
        "colab": {
          "base_uri": "https://localhost:8080/"
        },
        "id": "e8354eec",
        "outputId": "a0eab0d2-91fb-4a81-b517-13720eb042c2"
      },
      "outputs": [
        {
          "output_type": "execute_result",
          "data": {
            "text/plain": [
              "device(type='cuda', index=0)"
            ]
          },
          "metadata": {},
          "execution_count": 15
        }
      ],
      "source": [
        "device = torch.device(\"cuda:0\" if torch.cuda.is_available() else \"cpu\")\n",
        "device"
      ]
    },
    {
      "cell_type": "code",
      "execution_count": null,
      "id": "82df4a75",
      "metadata": {
        "id": "82df4a75"
      },
      "outputs": [],
      "source": [
        "class Net(nn.Module):\n",
        "    def __init__(self, activation=nn.ReLU(),\n",
        "                 input_size=1*21*21, hidden_size=7, classes=10):\n",
        "        \n",
        "        super(Net, self).__init__()\n",
        "        self.input_size = input_size\n",
        "\n",
        "        # Here we initialize our activation and set up our two linear layers\n",
        "        self.activation = activation\n",
        "        self.fc1 = nn.Linear(input_size, hidden_size)\n",
        "        self.fc2 = nn.Linear(hidden_size, classes)\n",
        "\n",
        "    def forward(self, x):\n",
        "        x = x.view(-1, self.input_size) # flatten\n",
        "        x = self.fc1(x)\n",
        "        x = self.activation(x)\n",
        "        x = self.fc2(x)\n",
        "\n",
        "        return x\n",
        "\n",
        "    def get_net_params(self):\n",
        "        param_list = np.array([])\n",
        "        for params in self.parameters():    \n",
        "            param_list = np.concatenate((param_list, params.cpu().detach().numpy().flatten()))\n",
        "        return param_list"
      ]
    },
    {
      "cell_type": "code",
      "execution_count": null,
      "id": "551bf6ec",
      "metadata": {
        "colab": {
          "base_uri": "https://localhost:8080/"
        },
        "id": "551bf6ec",
        "outputId": "08e68a0c-5c4c-41cf-8b05-fe03da8e4165"
      },
      "outputs": [
        {
          "output_type": "execute_result",
          "data": {
            "text/plain": [
              "(3174,)"
            ]
          },
          "metadata": {},
          "execution_count": 17
        }
      ],
      "source": [
        "net = Net()\n",
        "net.get_net_params().shape"
      ]
    },
    {
      "cell_type": "code",
      "execution_count": null,
      "id": "78ce936e",
      "metadata": {
        "id": "78ce936e"
      },
      "outputs": [],
      "source": [
        "import torch.optim as optim\n",
        "from torch.utils.data import TensorDataset, DataLoader\n",
        "\n",
        "batch_size = 64\n",
        "\n",
        "train_loader = DataLoader(train_dataset, batch_size=batch_size, shuffle=True)\n",
        "# val_loader = DataLoader(val_dataset, batch_size=batch_size, shuffle=True)\n",
        "#train_loader = DataLoader(train_set, batch_size=batch_size, shuffle=True)"
      ]
    },
    {
      "cell_type": "code",
      "execution_count": null,
      "id": "15045917",
      "metadata": {
        "scrolled": false,
        "colab": {
          "base_uri": "https://localhost:8080/"
        },
        "id": "15045917",
        "outputId": "809befd2-c207-4a6f-936f-94f4111946aa"
      },
      "outputs": [
        {
          "output_type": "execute_result",
          "data": {
            "text/plain": [
              "938"
            ]
          },
          "metadata": {},
          "execution_count": 19
        }
      ],
      "source": [
        "len(train_loader)"
      ]
    },
    {
      "cell_type": "code",
      "execution_count": null,
      "id": "703714e3",
      "metadata": {
        "id": "703714e3"
      },
      "outputs": [],
      "source": [
        "def sample_nn_run(seed, optimizer_choice =\"adam\",sgd_mom=0.9):\n",
        "    print(\"seed: \", seed)\n",
        "\n",
        "    torch.manual_seed(seed)\n",
        "    \n",
        "    net = Net()\n",
        "    # Always remember to move the network to the GPU/CPU depending on device\n",
        "    net = net.to(device) \n",
        "    criterion = nn.CrossEntropyLoss()\n",
        "    \n",
        "    if optimizer_choice == \"SGD\":\n",
        "        optimizer = optim.SGD(net.parameters(), lr=0.001, momentum=0)\n",
        "        \n",
        "    if optimizer_choice == \"SGD_mom\":\n",
        "        optimizer = optim.SGD(net.parameters(), lr=0.001, momentum=sgd_mom)\n",
        "    \n",
        "    if optimizer_choice == \"adam\":\n",
        "        optimizer = optim.Adam(net.parameters(), lr=0.001)\n",
        "        # adam with lr = 0.001\n",
        "    \n",
        "    \n",
        "    print(\"Optimizer: \", optimizer )\n",
        "    print(\"Shapes of the Parameter Matrix:\")\n",
        "\n",
        "    for parameter in net.parameters():\n",
        "            print(parameter.shape)\n",
        "\n",
        "    print(\"weight init shape: \", net.get_net_params().shape)\n",
        "    print(\"weight init mean: \", net.get_net_params().mean())\n",
        "    \n",
        "    train_loss_history = [] # loss\n",
        "    train_acc_history = [] # accuracy\n",
        "\n",
        "    weights = [net.get_net_params()]\n",
        "    test_weights = []\n",
        "    train_loss = []\n",
        "    \n",
        "    w_update_i = 0\n",
        "    \n",
        "    for epoch in range(32):\n",
        "\n",
        "        running_loss = 0.0\n",
        "        correct = 0.0\n",
        "        total = 0\n",
        "\n",
        "        # Iterating through the minibatches of the data\n",
        "\n",
        "        for i, data in enumerate(train_loader, 0):\n",
        "            w_update_i +=1\n",
        "            # data is a tuple of (inputs, labels)\n",
        "            X, y = data\n",
        "\n",
        "            X = X.to(device)\n",
        "            y = y.to(device)\n",
        "\n",
        "            # Reset the parameter gradients  for the current  minibatch iteration \n",
        "            optimizer.zero_grad()\n",
        "\n",
        "\n",
        "            y_pred = net(X)             # Perform a forward pass on the network with inputs\n",
        "            loss = criterion(y_pred, y) # calculate the loss with the network predictions and ground Truth\n",
        "            loss.backward()             # Perform a backward pass to calculate the gradients\n",
        "            optimizer.step()            # Optimize the network parameters with calculated gradients\n",
        "            \n",
        "            # save weights\n",
        "            if (w_update_i >= 1000):\n",
        "                test_weights.append(net.get_net_params())\n",
        "            else:\n",
        "                weights.append(net.get_net_params())\n",
        "                        \n",
        "\n",
        "            train_loss.append(loss.item())\n",
        "                    \n",
        "            # Accumulate the loss and calculate the accuracy of predictions\n",
        "            running_loss += loss.item()\n",
        "            _, preds = torch.max(y_pred, 1) #convert output probabilities of each class to a singular class prediction\n",
        "            correct += preds.eq(y).sum().item()\n",
        "            total += y.size(0)\n",
        "        \n",
        "\n",
        "            # Print statistics to console\n",
        "            if i % 200 == 99: # print every 100 mini-batches\n",
        "                running_loss /= 100\n",
        "                correct /= total\n",
        "                print(\"[Epoch %d, Iteration %5d] loss: %.3f acc: %.2f %%\" % (epoch+1, i+1, running_loss, 100*correct))\n",
        "                train_loss_history.append(running_loss)\n",
        "                train_acc_history.append(correct)\n",
        "                running_loss = 0.0\n",
        "                correct = 0.0\n",
        "                total = 0\n",
        "        \n",
        "#         train_loss.append(running_loss/len(train_loader))\n",
        "    \n",
        "    return weights, test_weights, train_loss"
      ]
    },
    {
      "cell_type": "code",
      "execution_count": null,
      "id": "99384a7c",
      "metadata": {
        "scrolled": false,
        "colab": {
          "base_uri": "https://localhost:8080/"
        },
        "id": "99384a7c",
        "outputId": "1d9d5ad1-90ca-44c6-cf27-3725e95b5768"
      },
      "outputs": [
        {
          "output_type": "stream",
          "name": "stdout",
          "text": [
            "seed:  12\n",
            "Optimizer:  Adam (\n",
            "Parameter Group 0\n",
            "    amsgrad: False\n",
            "    betas: (0.9, 0.999)\n",
            "    capturable: False\n",
            "    differentiable: False\n",
            "    eps: 1e-08\n",
            "    foreach: None\n",
            "    fused: False\n",
            "    lr: 0.001\n",
            "    maximize: False\n",
            "    weight_decay: 0\n",
            ")\n",
            "Shapes of the Parameter Matrix:\n",
            "torch.Size([7, 441])\n",
            "torch.Size([7])\n",
            "torch.Size([10, 7])\n",
            "torch.Size([10])\n",
            "weight init shape:  (3174,)\n",
            "weight init mean:  0.0002916964274266274\n",
            "[Epoch 1, Iteration   100] loss: 1.980 acc: 31.05 %\n",
            "[Epoch 1, Iteration   300] loss: 2.129 acc: 70.42 %\n",
            "[Epoch 1, Iteration   500] loss: 1.292 acc: 81.59 %\n",
            "[Epoch 1, Iteration   700] loss: 1.016 acc: 85.81 %\n",
            "[Epoch 1, Iteration   900] loss: 0.860 acc: 87.86 %\n",
            "[Epoch 2, Iteration   100] loss: 0.391 acc: 89.22 %\n",
            "[Epoch 2, Iteration   300] loss: 0.751 acc: 89.24 %\n",
            "[Epoch 2, Iteration   500] loss: 0.777 acc: 89.07 %\n",
            "[Epoch 2, Iteration   700] loss: 0.730 acc: 89.76 %\n",
            "[Epoch 2, Iteration   900] loss: 0.703 acc: 90.20 %\n",
            "[Epoch 3, Iteration   100] loss: 0.343 acc: 90.39 %\n",
            "[Epoch 3, Iteration   300] loss: 0.699 acc: 90.14 %\n",
            "[Epoch 3, Iteration   500] loss: 0.669 acc: 90.75 %\n",
            "[Epoch 3, Iteration   700] loss: 0.656 acc: 90.89 %\n",
            "[Epoch 3, Iteration   900] loss: 0.679 acc: 90.05 %\n",
            "[Epoch 4, Iteration   100] loss: 0.336 acc: 90.44 %\n",
            "[Epoch 4, Iteration   300] loss: 0.662 acc: 90.67 %\n",
            "[Epoch 4, Iteration   500] loss: 0.628 acc: 91.02 %\n",
            "[Epoch 4, Iteration   700] loss: 0.651 acc: 90.87 %\n",
            "[Epoch 4, Iteration   900] loss: 0.642 acc: 90.98 %\n",
            "[Epoch 5, Iteration   100] loss: 0.308 acc: 91.22 %\n",
            "[Epoch 5, Iteration   300] loss: 0.624 acc: 91.23 %\n",
            "[Epoch 5, Iteration   500] loss: 0.627 acc: 91.07 %\n",
            "[Epoch 5, Iteration   700] loss: 0.631 acc: 91.19 %\n",
            "[Epoch 5, Iteration   900] loss: 0.623 acc: 91.21 %\n",
            "[Epoch 6, Iteration   100] loss: 0.316 acc: 91.02 %\n",
            "[Epoch 6, Iteration   300] loss: 0.614 acc: 91.15 %\n",
            "[Epoch 6, Iteration   500] loss: 0.606 acc: 91.55 %\n",
            "[Epoch 6, Iteration   700] loss: 0.604 acc: 91.57 %\n",
            "[Epoch 6, Iteration   900] loss: 0.624 acc: 91.27 %\n",
            "[Epoch 7, Iteration   100] loss: 0.310 acc: 91.00 %\n",
            "[Epoch 7, Iteration   300] loss: 0.593 acc: 91.76 %\n",
            "[Epoch 7, Iteration   500] loss: 0.612 acc: 91.31 %\n",
            "[Epoch 7, Iteration   700] loss: 0.583 acc: 92.02 %\n",
            "[Epoch 7, Iteration   900] loss: 0.623 acc: 91.70 %\n",
            "[Epoch 8, Iteration   100] loss: 0.304 acc: 91.20 %\n",
            "[Epoch 8, Iteration   300] loss: 0.602 acc: 91.45 %\n",
            "[Epoch 8, Iteration   500] loss: 0.592 acc: 91.64 %\n",
            "[Epoch 8, Iteration   700] loss: 0.577 acc: 91.86 %\n",
            "[Epoch 8, Iteration   900] loss: 0.585 acc: 91.55 %\n",
            "[Epoch 9, Iteration   100] loss: 0.275 acc: 92.02 %\n",
            "[Epoch 9, Iteration   300] loss: 0.602 acc: 91.47 %\n",
            "[Epoch 9, Iteration   500] loss: 0.572 acc: 91.68 %\n",
            "[Epoch 9, Iteration   700] loss: 0.601 acc: 91.56 %\n",
            "[Epoch 9, Iteration   900] loss: 0.577 acc: 91.83 %\n",
            "[Epoch 10, Iteration   100] loss: 0.294 acc: 91.92 %\n",
            "[Epoch 10, Iteration   300] loss: 0.565 acc: 92.07 %\n",
            "[Epoch 10, Iteration   500] loss: 0.555 acc: 91.98 %\n",
            "[Epoch 10, Iteration   700] loss: 0.595 acc: 91.52 %\n",
            "[Epoch 10, Iteration   900] loss: 0.613 acc: 91.40 %\n",
            "[Epoch 11, Iteration   100] loss: 0.259 acc: 92.88 %\n",
            "[Epoch 11, Iteration   300] loss: 0.575 acc: 91.79 %\n",
            "[Epoch 11, Iteration   500] loss: 0.600 acc: 91.54 %\n",
            "[Epoch 11, Iteration   700] loss: 0.576 acc: 91.82 %\n",
            "[Epoch 11, Iteration   900] loss: 0.570 acc: 92.04 %\n",
            "[Epoch 12, Iteration   100] loss: 0.279 acc: 92.23 %\n",
            "[Epoch 12, Iteration   300] loss: 0.562 acc: 92.12 %\n",
            "[Epoch 12, Iteration   500] loss: 0.560 acc: 92.11 %\n",
            "[Epoch 12, Iteration   700] loss: 0.601 acc: 91.50 %\n",
            "[Epoch 12, Iteration   900] loss: 0.577 acc: 91.52 %\n",
            "[Epoch 13, Iteration   100] loss: 0.285 acc: 91.84 %\n",
            "[Epoch 13, Iteration   300] loss: 0.558 acc: 91.78 %\n",
            "[Epoch 13, Iteration   500] loss: 0.550 acc: 92.02 %\n",
            "[Epoch 13, Iteration   700] loss: 0.571 acc: 92.07 %\n",
            "[Epoch 13, Iteration   900] loss: 0.577 acc: 91.76 %\n",
            "[Epoch 14, Iteration   100] loss: 0.281 acc: 91.72 %\n",
            "[Epoch 14, Iteration   300] loss: 0.585 acc: 91.98 %\n",
            "[Epoch 14, Iteration   500] loss: 0.574 acc: 91.83 %\n",
            "[Epoch 14, Iteration   700] loss: 0.535 acc: 92.34 %\n",
            "[Epoch 14, Iteration   900] loss: 0.555 acc: 92.19 %\n",
            "[Epoch 15, Iteration   100] loss: 0.290 acc: 91.47 %\n",
            "[Epoch 15, Iteration   300] loss: 0.554 acc: 92.33 %\n",
            "[Epoch 15, Iteration   500] loss: 0.552 acc: 92.16 %\n",
            "[Epoch 15, Iteration   700] loss: 0.532 acc: 92.17 %\n",
            "[Epoch 15, Iteration   900] loss: 0.588 acc: 91.77 %\n",
            "[Epoch 16, Iteration   100] loss: 0.277 acc: 91.81 %\n",
            "[Epoch 16, Iteration   300] loss: 0.576 acc: 91.96 %\n",
            "[Epoch 16, Iteration   500] loss: 0.557 acc: 91.75 %\n",
            "[Epoch 16, Iteration   700] loss: 0.542 acc: 92.25 %\n",
            "[Epoch 16, Iteration   900] loss: 0.548 acc: 92.22 %\n",
            "[Epoch 17, Iteration   100] loss: 0.250 acc: 92.91 %\n",
            "[Epoch 17, Iteration   300] loss: 0.543 acc: 92.07 %\n",
            "[Epoch 17, Iteration   500] loss: 0.543 acc: 92.27 %\n",
            "[Epoch 17, Iteration   700] loss: 0.589 acc: 91.69 %\n",
            "[Epoch 17, Iteration   900] loss: 0.564 acc: 92.24 %\n",
            "[Epoch 18, Iteration   100] loss: 0.275 acc: 92.38 %\n",
            "[Epoch 18, Iteration   300] loss: 0.528 acc: 92.59 %\n",
            "[Epoch 18, Iteration   500] loss: 0.552 acc: 92.02 %\n",
            "[Epoch 18, Iteration   700] loss: 0.562 acc: 91.80 %\n",
            "[Epoch 18, Iteration   900] loss: 0.579 acc: 91.79 %\n",
            "[Epoch 19, Iteration   100] loss: 0.262 acc: 92.22 %\n",
            "[Epoch 19, Iteration   300] loss: 0.530 acc: 92.48 %\n",
            "[Epoch 19, Iteration   500] loss: 0.568 acc: 91.89 %\n",
            "[Epoch 19, Iteration   700] loss: 0.551 acc: 92.19 %\n",
            "[Epoch 19, Iteration   900] loss: 0.567 acc: 91.98 %\n",
            "[Epoch 20, Iteration   100] loss: 0.276 acc: 92.25 %\n",
            "[Epoch 20, Iteration   300] loss: 0.551 acc: 92.09 %\n",
            "[Epoch 20, Iteration   500] loss: 0.524 acc: 92.77 %\n",
            "[Epoch 20, Iteration   700] loss: 0.573 acc: 91.78 %\n",
            "[Epoch 20, Iteration   900] loss: 0.545 acc: 92.15 %\n",
            "[Epoch 21, Iteration   100] loss: 0.268 acc: 92.36 %\n",
            "[Epoch 21, Iteration   300] loss: 0.542 acc: 92.20 %\n",
            "[Epoch 21, Iteration   500] loss: 0.551 acc: 92.02 %\n",
            "[Epoch 21, Iteration   700] loss: 0.525 acc: 92.33 %\n",
            "[Epoch 21, Iteration   900] loss: 0.567 acc: 91.95 %\n",
            "[Epoch 22, Iteration   100] loss: 0.257 acc: 92.69 %\n",
            "[Epoch 22, Iteration   300] loss: 0.532 acc: 92.26 %\n",
            "[Epoch 22, Iteration   500] loss: 0.547 acc: 92.29 %\n",
            "[Epoch 22, Iteration   700] loss: 0.543 acc: 92.32 %\n",
            "[Epoch 22, Iteration   900] loss: 0.569 acc: 91.77 %\n",
            "[Epoch 23, Iteration   100] loss: 0.286 acc: 92.19 %\n",
            "[Epoch 23, Iteration   300] loss: 0.555 acc: 91.95 %\n",
            "[Epoch 23, Iteration   500] loss: 0.548 acc: 92.20 %\n",
            "[Epoch 23, Iteration   700] loss: 0.516 acc: 92.79 %\n",
            "[Epoch 23, Iteration   900] loss: 0.534 acc: 92.36 %\n",
            "[Epoch 24, Iteration   100] loss: 0.259 acc: 92.91 %\n",
            "[Epoch 24, Iteration   300] loss: 0.542 acc: 92.16 %\n",
            "[Epoch 24, Iteration   500] loss: 0.558 acc: 91.88 %\n",
            "[Epoch 24, Iteration   700] loss: 0.557 acc: 92.23 %\n",
            "[Epoch 24, Iteration   900] loss: 0.524 acc: 92.39 %\n",
            "[Epoch 25, Iteration   100] loss: 0.266 acc: 92.17 %\n",
            "[Epoch 25, Iteration   300] loss: 0.543 acc: 92.27 %\n",
            "[Epoch 25, Iteration   500] loss: 0.544 acc: 92.37 %\n",
            "[Epoch 25, Iteration   700] loss: 0.548 acc: 92.34 %\n",
            "[Epoch 25, Iteration   900] loss: 0.525 acc: 92.23 %\n",
            "[Epoch 26, Iteration   100] loss: 0.271 acc: 92.44 %\n",
            "[Epoch 26, Iteration   300] loss: 0.520 acc: 92.54 %\n",
            "[Epoch 26, Iteration   500] loss: 0.537 acc: 92.56 %\n",
            "[Epoch 26, Iteration   700] loss: 0.526 acc: 92.33 %\n",
            "[Epoch 26, Iteration   900] loss: 0.568 acc: 91.77 %\n",
            "[Epoch 27, Iteration   100] loss: 0.271 acc: 92.00 %\n",
            "[Epoch 27, Iteration   300] loss: 0.530 acc: 92.54 %\n",
            "[Epoch 27, Iteration   500] loss: 0.533 acc: 92.40 %\n",
            "[Epoch 27, Iteration   700] loss: 0.541 acc: 92.19 %\n",
            "[Epoch 27, Iteration   900] loss: 0.528 acc: 92.28 %\n",
            "[Epoch 28, Iteration   100] loss: 0.270 acc: 92.36 %\n",
            "[Epoch 28, Iteration   300] loss: 0.544 acc: 92.40 %\n",
            "[Epoch 28, Iteration   500] loss: 0.512 acc: 92.40 %\n",
            "[Epoch 28, Iteration   700] loss: 0.535 acc: 92.32 %\n",
            "[Epoch 28, Iteration   900] loss: 0.543 acc: 92.38 %\n",
            "[Epoch 29, Iteration   100] loss: 0.247 acc: 92.62 %\n",
            "[Epoch 29, Iteration   300] loss: 0.535 acc: 92.27 %\n",
            "[Epoch 29, Iteration   500] loss: 0.538 acc: 92.41 %\n",
            "[Epoch 29, Iteration   700] loss: 0.543 acc: 92.34 %\n",
            "[Epoch 29, Iteration   900] loss: 0.527 acc: 92.19 %\n",
            "[Epoch 30, Iteration   100] loss: 0.263 acc: 92.39 %\n",
            "[Epoch 30, Iteration   300] loss: 0.540 acc: 92.50 %\n",
            "[Epoch 30, Iteration   500] loss: 0.521 acc: 92.31 %\n",
            "[Epoch 30, Iteration   700] loss: 0.515 acc: 92.52 %\n",
            "[Epoch 30, Iteration   900] loss: 0.536 acc: 92.22 %\n",
            "[Epoch 31, Iteration   100] loss: 0.272 acc: 91.95 %\n",
            "[Epoch 31, Iteration   300] loss: 0.527 acc: 92.45 %\n",
            "[Epoch 31, Iteration   500] loss: 0.521 acc: 92.51 %\n",
            "[Epoch 31, Iteration   700] loss: 0.533 acc: 92.34 %\n",
            "[Epoch 31, Iteration   900] loss: 0.529 acc: 92.31 %\n",
            "[Epoch 32, Iteration   100] loss: 0.273 acc: 92.27 %\n",
            "[Epoch 32, Iteration   300] loss: 0.502 acc: 92.83 %\n",
            "[Epoch 32, Iteration   500] loss: 0.534 acc: 92.11 %\n",
            "[Epoch 32, Iteration   700] loss: 0.531 acc: 92.40 %\n",
            "[Epoch 32, Iteration   900] loss: 0.539 acc: 92.21 %\n"
          ]
        }
      ],
      "source": [
        "w_adam, test_w_adam, train_loss_adam  = sample_nn_run(12, optimizer_choice = \"adam\")"
      ]
    },
    {
      "cell_type": "code",
      "execution_count": null,
      "id": "ed1680dd",
      "metadata": {
        "scrolled": true,
        "colab": {
          "base_uri": "https://localhost:8080/"
        },
        "id": "ed1680dd",
        "outputId": "8b4fe50e-2502-4585-93da-9289a29c6eb6"
      },
      "outputs": [
        {
          "output_type": "stream",
          "name": "stdout",
          "text": [
            "seed:  12\n",
            "Optimizer:  SGD (\n",
            "Parameter Group 0\n",
            "    dampening: 0\n",
            "    differentiable: False\n",
            "    foreach: None\n",
            "    lr: 0.001\n",
            "    maximize: False\n",
            "    momentum: 0.5\n",
            "    nesterov: False\n",
            "    weight_decay: 0\n",
            ")\n",
            "Shapes of the Parameter Matrix:\n",
            "torch.Size([7, 441])\n",
            "torch.Size([7])\n",
            "torch.Size([10, 7])\n",
            "torch.Size([10])\n",
            "weight init shape:  (3174,)\n",
            "weight init mean:  0.0002916964274266274\n",
            "[Epoch 1, Iteration   100] loss: 2.305 acc: 17.72 %\n",
            "[Epoch 1, Iteration   300] loss: 4.549 acc: 20.20 %\n",
            "[Epoch 1, Iteration   500] loss: 4.461 acc: 22.06 %\n",
            "[Epoch 1, Iteration   700] loss: 4.368 acc: 24.88 %\n",
            "[Epoch 1, Iteration   900] loss: 4.272 acc: 28.77 %\n",
            "[Epoch 2, Iteration   100] loss: 2.089 acc: 30.38 %\n",
            "[Epoch 2, Iteration   300] loss: 4.082 acc: 30.59 %\n",
            "[Epoch 2, Iteration   500] loss: 3.951 acc: 32.12 %\n",
            "[Epoch 2, Iteration   700] loss: 3.826 acc: 32.56 %\n",
            "[Epoch 2, Iteration   900] loss: 3.657 acc: 36.58 %\n",
            "[Epoch 3, Iteration   100] loss: 1.752 acc: 41.30 %\n",
            "[Epoch 3, Iteration   300] loss: 3.353 acc: 44.70 %\n",
            "[Epoch 3, Iteration   500] loss: 3.198 acc: 49.54 %\n",
            "[Epoch 3, Iteration   700] loss: 3.033 acc: 55.20 %\n",
            "[Epoch 3, Iteration   900] loss: 2.877 acc: 60.68 %\n",
            "[Epoch 4, Iteration   100] loss: 1.360 acc: 65.70 %\n",
            "[Epoch 4, Iteration   300] loss: 2.620 acc: 67.09 %\n",
            "[Epoch 4, Iteration   500] loss: 2.473 acc: 69.48 %\n",
            "[Epoch 4, Iteration   700] loss: 2.344 acc: 70.80 %\n",
            "[Epoch 4, Iteration   900] loss: 2.239 acc: 71.90 %\n",
            "[Epoch 5, Iteration   100] loss: 1.055 acc: 74.39 %\n",
            "[Epoch 5, Iteration   300] loss: 2.045 acc: 74.64 %\n",
            "[Epoch 5, Iteration   500] loss: 1.959 acc: 75.40 %\n",
            "[Epoch 5, Iteration   700] loss: 1.892 acc: 75.26 %\n",
            "[Epoch 5, Iteration   900] loss: 1.790 acc: 77.11 %\n",
            "[Epoch 6, Iteration   100] loss: 0.870 acc: 77.44 %\n",
            "[Epoch 6, Iteration   300] loss: 1.688 acc: 78.15 %\n",
            "[Epoch 6, Iteration   500] loss: 1.615 acc: 78.62 %\n",
            "[Epoch 6, Iteration   700] loss: 1.594 acc: 78.48 %\n",
            "[Epoch 6, Iteration   900] loss: 1.534 acc: 79.61 %\n",
            "[Epoch 7, Iteration   100] loss: 0.749 acc: 79.41 %\n",
            "[Epoch 7, Iteration   300] loss: 1.467 acc: 80.31 %\n",
            "[Epoch 7, Iteration   500] loss: 1.433 acc: 80.90 %\n",
            "[Epoch 7, Iteration   700] loss: 1.376 acc: 81.10 %\n",
            "[Epoch 7, Iteration   900] loss: 1.371 acc: 81.27 %\n",
            "[Epoch 8, Iteration   100] loss: 0.682 acc: 81.36 %\n",
            "[Epoch 8, Iteration   300] loss: 1.328 acc: 81.94 %\n",
            "[Epoch 8, Iteration   500] loss: 1.283 acc: 82.34 %\n",
            "[Epoch 8, Iteration   700] loss: 1.243 acc: 82.65 %\n",
            "[Epoch 8, Iteration   900] loss: 1.241 acc: 82.85 %\n",
            "[Epoch 9, Iteration   100] loss: 0.601 acc: 83.88 %\n",
            "[Epoch 9, Iteration   300] loss: 1.226 acc: 82.98 %\n",
            "[Epoch 9, Iteration   500] loss: 1.192 acc: 83.69 %\n",
            "[Epoch 9, Iteration   700] loss: 1.171 acc: 83.63 %\n",
            "[Epoch 9, Iteration   900] loss: 1.156 acc: 83.91 %\n",
            "[Epoch 10, Iteration   100] loss: 0.579 acc: 84.05 %\n",
            "[Epoch 10, Iteration   300] loss: 1.123 acc: 84.55 %\n",
            "[Epoch 10, Iteration   500] loss: 1.105 acc: 84.22 %\n",
            "[Epoch 10, Iteration   700] loss: 1.107 acc: 85.02 %\n",
            "[Epoch 10, Iteration   900] loss: 1.109 acc: 84.37 %\n",
            "[Epoch 11, Iteration   100] loss: 0.521 acc: 85.94 %\n",
            "[Epoch 11, Iteration   300] loss: 1.073 acc: 85.18 %\n",
            "[Epoch 11, Iteration   500] loss: 1.086 acc: 84.89 %\n",
            "[Epoch 11, Iteration   700] loss: 1.036 acc: 85.50 %\n",
            "[Epoch 11, Iteration   900] loss: 1.032 acc: 85.92 %\n",
            "[Epoch 12, Iteration   100] loss: 0.518 acc: 85.61 %\n",
            "[Epoch 12, Iteration   300] loss: 1.022 acc: 86.06 %\n",
            "[Epoch 12, Iteration   500] loss: 0.984 acc: 86.51 %\n",
            "[Epoch 12, Iteration   700] loss: 1.020 acc: 85.92 %\n",
            "[Epoch 12, Iteration   900] loss: 1.005 acc: 85.58 %\n",
            "[Epoch 13, Iteration   100] loss: 0.495 acc: 86.00 %\n",
            "[Epoch 13, Iteration   300] loss: 0.982 acc: 86.29 %\n",
            "[Epoch 13, Iteration   500] loss: 0.963 acc: 86.63 %\n",
            "[Epoch 13, Iteration   700] loss: 0.964 acc: 86.94 %\n",
            "[Epoch 13, Iteration   900] loss: 0.963 acc: 86.33 %\n",
            "[Epoch 14, Iteration   100] loss: 0.464 acc: 86.45 %\n",
            "[Epoch 14, Iteration   300] loss: 0.964 acc: 86.95 %\n",
            "[Epoch 14, Iteration   500] loss: 0.950 acc: 86.41 %\n",
            "[Epoch 14, Iteration   700] loss: 0.904 acc: 87.52 %\n",
            "[Epoch 14, Iteration   900] loss: 0.934 acc: 87.22 %\n",
            "[Epoch 15, Iteration   100] loss: 0.474 acc: 86.62 %\n",
            "[Epoch 15, Iteration   300] loss: 0.897 acc: 87.59 %\n",
            "[Epoch 15, Iteration   500] loss: 0.917 acc: 86.98 %\n",
            "[Epoch 15, Iteration   700] loss: 0.884 acc: 87.95 %\n",
            "[Epoch 15, Iteration   900] loss: 0.933 acc: 86.89 %\n",
            "[Epoch 16, Iteration   100] loss: 0.452 acc: 87.53 %\n",
            "[Epoch 16, Iteration   300] loss: 0.901 acc: 87.80 %\n",
            "[Epoch 16, Iteration   500] loss: 0.883 acc: 87.36 %\n",
            "[Epoch 16, Iteration   700] loss: 0.880 acc: 87.75 %\n",
            "[Epoch 16, Iteration   900] loss: 0.872 acc: 87.76 %\n",
            "[Epoch 17, Iteration   100] loss: 0.412 acc: 88.36 %\n",
            "[Epoch 17, Iteration   300] loss: 0.864 acc: 87.78 %\n",
            "[Epoch 17, Iteration   500] loss: 0.866 acc: 88.05 %\n",
            "[Epoch 17, Iteration   700] loss: 0.889 acc: 87.53 %\n",
            "[Epoch 17, Iteration   900] loss: 0.871 acc: 87.88 %\n",
            "[Epoch 18, Iteration   100] loss: 0.438 acc: 87.73 %\n",
            "[Epoch 18, Iteration   300] loss: 0.838 acc: 88.26 %\n",
            "[Epoch 18, Iteration   500] loss: 0.858 acc: 88.20 %\n",
            "[Epoch 18, Iteration   700] loss: 0.846 acc: 87.94 %\n",
            "[Epoch 18, Iteration   900] loss: 0.858 acc: 88.09 %\n",
            "[Epoch 19, Iteration   100] loss: 0.420 acc: 88.03 %\n",
            "[Epoch 19, Iteration   300] loss: 0.821 acc: 88.56 %\n",
            "[Epoch 19, Iteration   500] loss: 0.838 acc: 88.24 %\n",
            "[Epoch 19, Iteration   700] loss: 0.834 acc: 88.56 %\n",
            "[Epoch 19, Iteration   900] loss: 0.843 acc: 88.24 %\n",
            "[Epoch 20, Iteration   100] loss: 0.422 acc: 88.58 %\n",
            "[Epoch 20, Iteration   300] loss: 0.824 acc: 88.50 %\n",
            "[Epoch 20, Iteration   500] loss: 0.803 acc: 88.88 %\n",
            "[Epoch 20, Iteration   700] loss: 0.840 acc: 88.08 %\n",
            "[Epoch 20, Iteration   900] loss: 0.811 acc: 88.70 %\n",
            "[Epoch 21, Iteration   100] loss: 0.416 acc: 88.38 %\n",
            "[Epoch 21, Iteration   300] loss: 0.815 acc: 88.62 %\n",
            "[Epoch 21, Iteration   500] loss: 0.806 acc: 88.59 %\n",
            "[Epoch 21, Iteration   700] loss: 0.776 acc: 89.16 %\n",
            "[Epoch 21, Iteration   900] loss: 0.833 acc: 88.45 %\n",
            "[Epoch 22, Iteration   100] loss: 0.398 acc: 88.64 %\n",
            "[Epoch 22, Iteration   300] loss: 0.795 acc: 88.80 %\n",
            "[Epoch 22, Iteration   500] loss: 0.794 acc: 88.98 %\n",
            "[Epoch 22, Iteration   700] loss: 0.798 acc: 88.86 %\n",
            "[Epoch 22, Iteration   900] loss: 0.815 acc: 88.53 %\n",
            "[Epoch 23, Iteration   100] loss: 0.416 acc: 88.38 %\n",
            "[Epoch 23, Iteration   300] loss: 0.801 acc: 88.48 %\n",
            "[Epoch 23, Iteration   500] loss: 0.797 acc: 88.73 %\n",
            "[Epoch 23, Iteration   700] loss: 0.767 acc: 89.54 %\n",
            "[Epoch 23, Iteration   900] loss: 0.779 acc: 89.00 %\n",
            "[Epoch 24, Iteration   100] loss: 0.392 acc: 89.55 %\n",
            "[Epoch 24, Iteration   300] loss: 0.787 acc: 88.88 %\n",
            "[Epoch 24, Iteration   500] loss: 0.810 acc: 88.59 %\n",
            "[Epoch 24, Iteration   700] loss: 0.784 acc: 88.94 %\n",
            "[Epoch 24, Iteration   900] loss: 0.754 acc: 89.59 %\n",
            "[Epoch 25, Iteration   100] loss: 0.390 acc: 89.39 %\n",
            "[Epoch 25, Iteration   300] loss: 0.765 acc: 89.32 %\n",
            "[Epoch 25, Iteration   500] loss: 0.770 acc: 89.12 %\n",
            "[Epoch 25, Iteration   700] loss: 0.788 acc: 89.08 %\n",
            "[Epoch 25, Iteration   900] loss: 0.771 acc: 89.11 %\n",
            "[Epoch 26, Iteration   100] loss: 0.403 acc: 89.00 %\n",
            "[Epoch 26, Iteration   300] loss: 0.754 acc: 89.63 %\n",
            "[Epoch 26, Iteration   500] loss: 0.765 acc: 89.27 %\n",
            "[Epoch 26, Iteration   700] loss: 0.760 acc: 89.34 %\n",
            "[Epoch 26, Iteration   900] loss: 0.778 acc: 88.92 %\n",
            "[Epoch 27, Iteration   100] loss: 0.402 acc: 89.20 %\n",
            "[Epoch 27, Iteration   300] loss: 0.765 acc: 89.28 %\n",
            "[Epoch 27, Iteration   500] loss: 0.756 acc: 89.01 %\n",
            "[Epoch 27, Iteration   700] loss: 0.753 acc: 89.59 %\n",
            "[Epoch 27, Iteration   900] loss: 0.751 acc: 89.76 %\n",
            "[Epoch 28, Iteration   100] loss: 0.375 acc: 89.03 %\n",
            "[Epoch 28, Iteration   300] loss: 0.775 acc: 89.70 %\n",
            "[Epoch 28, Iteration   500] loss: 0.739 acc: 89.44 %\n",
            "[Epoch 28, Iteration   700] loss: 0.745 acc: 89.49 %\n",
            "[Epoch 28, Iteration   900] loss: 0.768 acc: 89.52 %\n",
            "[Epoch 29, Iteration   100] loss: 0.363 acc: 89.84 %\n",
            "[Epoch 29, Iteration   300] loss: 0.767 acc: 89.22 %\n",
            "[Epoch 29, Iteration   500] loss: 0.749 acc: 89.55 %\n",
            "[Epoch 29, Iteration   700] loss: 0.758 acc: 89.38 %\n",
            "[Epoch 29, Iteration   900] loss: 0.733 acc: 89.73 %\n",
            "[Epoch 30, Iteration   100] loss: 0.371 acc: 89.42 %\n",
            "[Epoch 30, Iteration   300] loss: 0.755 acc: 89.88 %\n",
            "[Epoch 30, Iteration   500] loss: 0.743 acc: 89.36 %\n",
            "[Epoch 30, Iteration   700] loss: 0.722 acc: 89.80 %\n",
            "[Epoch 30, Iteration   900] loss: 0.754 acc: 89.48 %\n",
            "[Epoch 31, Iteration   100] loss: 0.383 acc: 89.31 %\n",
            "[Epoch 31, Iteration   300] loss: 0.740 acc: 89.73 %\n",
            "[Epoch 31, Iteration   500] loss: 0.731 acc: 89.79 %\n",
            "[Epoch 31, Iteration   700] loss: 0.732 acc: 89.77 %\n",
            "[Epoch 31, Iteration   900] loss: 0.750 acc: 89.34 %\n",
            "[Epoch 32, Iteration   100] loss: 0.379 acc: 89.44 %\n",
            "[Epoch 32, Iteration   300] loss: 0.713 acc: 90.12 %\n",
            "[Epoch 32, Iteration   500] loss: 0.738 acc: 89.54 %\n",
            "[Epoch 32, Iteration   700] loss: 0.742 acc: 89.60 %\n",
            "[Epoch 32, Iteration   900] loss: 0.734 acc: 89.86 %\n"
          ]
        }
      ],
      "source": [
        "w_sgd_mom_05, test_w_sgd_mom_05, train_loss_sgd_mom_05  = sample_nn_run(12, optimizer_choice = \"SGD_mom\", sgd_mom = 0.5)"
      ]
    },
    {
      "cell_type": "code",
      "source": [
        "w_sgd_mom_08, test_w_sgd_mom_08, train_loss_sgd_mom_08  = sample_nn_run(12, optimizer_choice = \"SGD_mom\", sgd_mom = 0.8)"
      ],
      "metadata": {
        "colab": {
          "base_uri": "https://localhost:8080/"
        },
        "id": "YKDmuO2gESgx",
        "outputId": "8e056725-5b88-4429-deac-6658cc671765"
      },
      "id": "YKDmuO2gESgx",
      "execution_count": null,
      "outputs": [
        {
          "output_type": "stream",
          "name": "stdout",
          "text": [
            "seed:  12\n",
            "Optimizer:  SGD (\n",
            "Parameter Group 0\n",
            "    dampening: 0\n",
            "    differentiable: False\n",
            "    foreach: None\n",
            "    lr: 0.001\n",
            "    maximize: False\n",
            "    momentum: 0.8\n",
            "    nesterov: False\n",
            "    weight_decay: 0\n",
            ")\n",
            "Shapes of the Parameter Matrix:\n",
            "torch.Size([7, 441])\n",
            "torch.Size([7])\n",
            "torch.Size([10, 7])\n",
            "torch.Size([10])\n",
            "weight init shape:  (3174,)\n",
            "weight init mean:  0.0002916964274266274\n",
            "[Epoch 1, Iteration   100] loss: 2.292 acc: 18.95 %\n",
            "[Epoch 1, Iteration   300] loss: 4.422 acc: 23.61 %\n",
            "[Epoch 1, Iteration   500] loss: 4.162 acc: 30.68 %\n",
            "[Epoch 1, Iteration   700] loss: 3.861 acc: 33.22 %\n",
            "[Epoch 1, Iteration   900] loss: 3.455 acc: 42.37 %\n",
            "[Epoch 2, Iteration   100] loss: 1.531 acc: 54.20 %\n",
            "[Epoch 2, Iteration   300] loss: 2.753 acc: 63.82 %\n",
            "[Epoch 2, Iteration   500] loss: 2.416 acc: 69.43 %\n",
            "[Epoch 2, Iteration   700] loss: 2.118 acc: 73.95 %\n",
            "[Epoch 2, Iteration   900] loss: 1.900 acc: 75.73 %\n",
            "[Epoch 3, Iteration   100] loss: 0.865 acc: 77.61 %\n",
            "[Epoch 3, Iteration   300] loss: 1.619 acc: 78.32 %\n",
            "[Epoch 3, Iteration   500] loss: 1.498 acc: 79.71 %\n",
            "[Epoch 3, Iteration   700] loss: 1.395 acc: 81.55 %\n",
            "[Epoch 3, Iteration   900] loss: 1.342 acc: 81.27 %\n",
            "[Epoch 4, Iteration   100] loss: 0.639 acc: 82.38 %\n",
            "[Epoch 4, Iteration   300] loss: 1.244 acc: 82.70 %\n",
            "[Epoch 4, Iteration   500] loss: 1.175 acc: 83.67 %\n",
            "[Epoch 4, Iteration   700] loss: 1.146 acc: 83.73 %\n",
            "[Epoch 4, Iteration   900] loss: 1.119 acc: 84.70 %\n",
            "[Epoch 5, Iteration   100] loss: 0.533 acc: 85.61 %\n",
            "[Epoch 5, Iteration   300] loss: 1.048 acc: 85.52 %\n",
            "[Epoch 5, Iteration   500] loss: 1.034 acc: 85.68 %\n",
            "[Epoch 5, Iteration   700] loss: 1.028 acc: 85.38 %\n",
            "[Epoch 5, Iteration   900] loss: 0.975 acc: 86.55 %\n",
            "[Epoch 6, Iteration   100] loss: 0.499 acc: 86.09 %\n",
            "[Epoch 6, Iteration   300] loss: 0.948 acc: 86.66 %\n",
            "[Epoch 6, Iteration   500] loss: 0.927 acc: 87.06 %\n",
            "[Epoch 6, Iteration   700] loss: 0.933 acc: 86.84 %\n",
            "[Epoch 6, Iteration   900] loss: 0.908 acc: 87.66 %\n",
            "[Epoch 7, Iteration   100] loss: 0.450 acc: 86.95 %\n",
            "[Epoch 7, Iteration   300] loss: 0.885 acc: 87.80 %\n",
            "[Epoch 7, Iteration   500] loss: 0.893 acc: 87.30 %\n",
            "[Epoch 7, Iteration   700] loss: 0.849 acc: 88.13 %\n",
            "[Epoch 7, Iteration   900] loss: 0.872 acc: 88.08 %\n",
            "[Epoch 8, Iteration   100] loss: 0.437 acc: 87.69 %\n",
            "[Epoch 8, Iteration   300] loss: 0.858 acc: 87.96 %\n",
            "[Epoch 8, Iteration   500] loss: 0.829 acc: 88.33 %\n",
            "[Epoch 8, Iteration   700] loss: 0.804 acc: 88.90 %\n",
            "[Epoch 8, Iteration   900] loss: 0.818 acc: 88.39 %\n",
            "[Epoch 9, Iteration   100] loss: 0.395 acc: 89.05 %\n",
            "[Epoch 9, Iteration   300] loss: 0.835 acc: 88.37 %\n",
            "[Epoch 9, Iteration   500] loss: 0.795 acc: 88.81 %\n",
            "[Epoch 9, Iteration   700] loss: 0.804 acc: 88.70 %\n",
            "[Epoch 9, Iteration   900] loss: 0.787 acc: 88.94 %\n",
            "[Epoch 10, Iteration   100] loss: 0.402 acc: 89.02 %\n",
            "[Epoch 10, Iteration   300] loss: 0.771 acc: 89.24 %\n",
            "[Epoch 10, Iteration   500] loss: 0.768 acc: 88.80 %\n",
            "[Epoch 10, Iteration   700] loss: 0.791 acc: 88.94 %\n",
            "[Epoch 10, Iteration   900] loss: 0.795 acc: 88.84 %\n",
            "[Epoch 11, Iteration   100] loss: 0.366 acc: 90.38 %\n",
            "[Epoch 11, Iteration   300] loss: 0.770 acc: 89.03 %\n",
            "[Epoch 11, Iteration   500] loss: 0.792 acc: 89.01 %\n",
            "[Epoch 11, Iteration   700] loss: 0.758 acc: 89.36 %\n",
            "[Epoch 11, Iteration   900] loss: 0.746 acc: 89.45 %\n",
            "[Epoch 12, Iteration   100] loss: 0.385 acc: 89.25 %\n",
            "[Epoch 12, Iteration   300] loss: 0.753 acc: 89.53 %\n",
            "[Epoch 12, Iteration   500] loss: 0.726 acc: 89.73 %\n",
            "[Epoch 12, Iteration   700] loss: 0.765 acc: 89.57 %\n",
            "[Epoch 12, Iteration   900] loss: 0.752 acc: 89.39 %\n",
            "[Epoch 13, Iteration   100] loss: 0.372 acc: 89.66 %\n",
            "[Epoch 13, Iteration   300] loss: 0.740 acc: 89.51 %\n",
            "[Epoch 13, Iteration   500] loss: 0.725 acc: 89.88 %\n",
            "[Epoch 13, Iteration   700] loss: 0.734 acc: 89.82 %\n",
            "[Epoch 13, Iteration   900] loss: 0.737 acc: 89.63 %\n",
            "[Epoch 14, Iteration   100] loss: 0.354 acc: 89.66 %\n",
            "[Epoch 14, Iteration   300] loss: 0.751 acc: 89.66 %\n",
            "[Epoch 14, Iteration   500] loss: 0.741 acc: 89.41 %\n",
            "[Epoch 14, Iteration   700] loss: 0.694 acc: 90.26 %\n",
            "[Epoch 14, Iteration   900] loss: 0.722 acc: 90.17 %\n",
            "[Epoch 15, Iteration   100] loss: 0.379 acc: 89.22 %\n",
            "[Epoch 15, Iteration   300] loss: 0.702 acc: 90.15 %\n",
            "[Epoch 15, Iteration   500] loss: 0.714 acc: 89.83 %\n",
            "[Epoch 15, Iteration   700] loss: 0.689 acc: 90.39 %\n",
            "[Epoch 15, Iteration   900] loss: 0.742 acc: 89.53 %\n",
            "[Epoch 16, Iteration   100] loss: 0.363 acc: 89.97 %\n",
            "[Epoch 16, Iteration   300] loss: 0.720 acc: 90.34 %\n",
            "[Epoch 16, Iteration   500] loss: 0.710 acc: 89.77 %\n",
            "[Epoch 16, Iteration   700] loss: 0.695 acc: 90.25 %\n",
            "[Epoch 16, Iteration   900] loss: 0.691 acc: 90.20 %\n",
            "[Epoch 17, Iteration   100] loss: 0.324 acc: 90.72 %\n",
            "[Epoch 17, Iteration   300] loss: 0.693 acc: 90.10 %\n",
            "[Epoch 17, Iteration   500] loss: 0.695 acc: 90.45 %\n",
            "[Epoch 17, Iteration   700] loss: 0.729 acc: 89.81 %\n",
            "[Epoch 17, Iteration   900] loss: 0.710 acc: 90.09 %\n",
            "[Epoch 18, Iteration   100] loss: 0.358 acc: 89.92 %\n",
            "[Epoch 18, Iteration   300] loss: 0.678 acc: 90.52 %\n",
            "[Epoch 18, Iteration   500] loss: 0.703 acc: 90.10 %\n",
            "[Epoch 18, Iteration   700] loss: 0.693 acc: 90.26 %\n",
            "[Epoch 18, Iteration   900] loss: 0.707 acc: 90.38 %\n",
            "[Epoch 19, Iteration   100] loss: 0.339 acc: 90.47 %\n",
            "[Epoch 19, Iteration   300] loss: 0.671 acc: 90.58 %\n",
            "[Epoch 19, Iteration   500] loss: 0.697 acc: 90.08 %\n",
            "[Epoch 19, Iteration   700] loss: 0.694 acc: 90.66 %\n",
            "[Epoch 19, Iteration   900] loss: 0.696 acc: 90.25 %\n",
            "[Epoch 20, Iteration   100] loss: 0.351 acc: 90.53 %\n",
            "[Epoch 20, Iteration   300] loss: 0.680 acc: 90.43 %\n",
            "[Epoch 20, Iteration   500] loss: 0.666 acc: 90.79 %\n",
            "[Epoch 20, Iteration   700] loss: 0.705 acc: 90.18 %\n",
            "[Epoch 20, Iteration   900] loss: 0.677 acc: 90.55 %\n",
            "[Epoch 21, Iteration   100] loss: 0.346 acc: 90.48 %\n",
            "[Epoch 21, Iteration   300] loss: 0.681 acc: 90.44 %\n",
            "[Epoch 21, Iteration   500] loss: 0.678 acc: 90.45 %\n",
            "[Epoch 21, Iteration   700] loss: 0.645 acc: 90.90 %\n",
            "[Epoch 21, Iteration   900] loss: 0.703 acc: 90.46 %\n",
            "[Epoch 22, Iteration   100] loss: 0.332 acc: 90.48 %\n",
            "[Epoch 22, Iteration   300] loss: 0.665 acc: 90.59 %\n",
            "[Epoch 22, Iteration   500] loss: 0.671 acc: 90.88 %\n",
            "[Epoch 22, Iteration   700] loss: 0.674 acc: 90.77 %\n",
            "[Epoch 22, Iteration   900] loss: 0.695 acc: 90.24 %\n",
            "[Epoch 23, Iteration   100] loss: 0.355 acc: 89.97 %\n",
            "[Epoch 23, Iteration   300] loss: 0.682 acc: 90.38 %\n",
            "[Epoch 23, Iteration   500] loss: 0.674 acc: 90.52 %\n",
            "[Epoch 23, Iteration   700] loss: 0.647 acc: 91.18 %\n",
            "[Epoch 23, Iteration   900] loss: 0.663 acc: 90.72 %\n",
            "[Epoch 24, Iteration   100] loss: 0.330 acc: 91.05 %\n",
            "[Epoch 24, Iteration   300] loss: 0.666 acc: 90.50 %\n",
            "[Epoch 24, Iteration   500] loss: 0.698 acc: 90.13 %\n",
            "[Epoch 24, Iteration   700] loss: 0.672 acc: 90.58 %\n",
            "[Epoch 24, Iteration   900] loss: 0.646 acc: 91.18 %\n",
            "[Epoch 25, Iteration   100] loss: 0.331 acc: 90.80 %\n",
            "[Epoch 25, Iteration   300] loss: 0.657 acc: 90.99 %\n",
            "[Epoch 25, Iteration   500] loss: 0.665 acc: 90.74 %\n",
            "[Epoch 25, Iteration   700] loss: 0.678 acc: 90.62 %\n",
            "[Epoch 25, Iteration   900] loss: 0.657 acc: 90.63 %\n",
            "[Epoch 26, Iteration   100] loss: 0.347 acc: 90.41 %\n",
            "[Epoch 26, Iteration   300] loss: 0.643 acc: 91.06 %\n",
            "[Epoch 26, Iteration   500] loss: 0.658 acc: 90.85 %\n",
            "[Epoch 26, Iteration   700] loss: 0.654 acc: 90.71 %\n",
            "[Epoch 26, Iteration   900] loss: 0.680 acc: 90.48 %\n",
            "[Epoch 27, Iteration   100] loss: 0.351 acc: 90.45 %\n",
            "[Epoch 27, Iteration   300] loss: 0.659 acc: 91.01 %\n",
            "[Epoch 27, Iteration   500] loss: 0.652 acc: 90.47 %\n",
            "[Epoch 27, Iteration   700] loss: 0.652 acc: 90.79 %\n",
            "[Epoch 27, Iteration   900] loss: 0.649 acc: 90.99 %\n",
            "[Epoch 28, Iteration   100] loss: 0.322 acc: 90.84 %\n",
            "[Epoch 28, Iteration   300] loss: 0.673 acc: 91.08 %\n",
            "[Epoch 28, Iteration   500] loss: 0.637 acc: 90.83 %\n",
            "[Epoch 28, Iteration   700] loss: 0.648 acc: 90.72 %\n",
            "[Epoch 28, Iteration   900] loss: 0.674 acc: 90.70 %\n",
            "[Epoch 29, Iteration   100] loss: 0.312 acc: 91.30 %\n",
            "[Epoch 29, Iteration   300] loss: 0.668 acc: 90.62 %\n",
            "[Epoch 29, Iteration   500] loss: 0.655 acc: 91.06 %\n",
            "[Epoch 29, Iteration   700] loss: 0.659 acc: 90.73 %\n",
            "[Epoch 29, Iteration   900] loss: 0.637 acc: 91.04 %\n",
            "[Epoch 30, Iteration   100] loss: 0.321 acc: 90.88 %\n",
            "[Epoch 30, Iteration   300] loss: 0.660 acc: 91.21 %\n",
            "[Epoch 30, Iteration   500] loss: 0.644 acc: 90.88 %\n",
            "[Epoch 30, Iteration   700] loss: 0.629 acc: 91.11 %\n",
            "[Epoch 30, Iteration   900] loss: 0.662 acc: 90.84 %\n",
            "[Epoch 31, Iteration   100] loss: 0.338 acc: 90.47 %\n",
            "[Epoch 31, Iteration   300] loss: 0.650 acc: 90.93 %\n",
            "[Epoch 31, Iteration   500] loss: 0.638 acc: 91.13 %\n",
            "[Epoch 31, Iteration   700] loss: 0.642 acc: 91.03 %\n",
            "[Epoch 31, Iteration   900] loss: 0.655 acc: 90.77 %\n",
            "[Epoch 32, Iteration   100] loss: 0.337 acc: 90.45 %\n",
            "[Epoch 32, Iteration   300] loss: 0.624 acc: 91.45 %\n",
            "[Epoch 32, Iteration   500] loss: 0.643 acc: 91.12 %\n",
            "[Epoch 32, Iteration   700] loss: 0.656 acc: 90.89 %\n",
            "[Epoch 32, Iteration   900] loss: 0.645 acc: 90.97 %\n"
          ]
        }
      ]
    },
    {
      "cell_type": "code",
      "source": [
        "w_sgd_mom_09, test_w_sgd_mom_09, train_loss_sgd_mom_09  = sample_nn_run(12, optimizer_choice = \"SGD_mom\", sgd_mom = 0.9)"
      ],
      "metadata": {
        "colab": {
          "base_uri": "https://localhost:8080/"
        },
        "id": "tUJkZIviFc2p",
        "outputId": "6f65060a-9a93-4d02-ba1b-164571282028"
      },
      "id": "tUJkZIviFc2p",
      "execution_count": null,
      "outputs": [
        {
          "output_type": "stream",
          "name": "stdout",
          "text": [
            "seed:  12\n",
            "Optimizer:  SGD (\n",
            "Parameter Group 0\n",
            "    dampening: 0\n",
            "    differentiable: False\n",
            "    foreach: None\n",
            "    lr: 0.001\n",
            "    maximize: False\n",
            "    momentum: 0.9\n",
            "    nesterov: False\n",
            "    weight_decay: 0\n",
            ")\n",
            "Shapes of the Parameter Matrix:\n",
            "torch.Size([7, 441])\n",
            "torch.Size([7])\n",
            "torch.Size([10, 7])\n",
            "torch.Size([10])\n",
            "weight init shape:  (3174,)\n",
            "weight init mean:  0.0002916964274266274\n",
            "[Epoch 1, Iteration   100] loss: 2.274 acc: 19.36 %\n",
            "[Epoch 1, Iteration   300] loss: 4.206 acc: 28.61 %\n",
            "[Epoch 1, Iteration   500] loss: 3.563 acc: 40.43 %\n",
            "[Epoch 1, Iteration   700] loss: 2.794 acc: 61.16 %\n",
            "[Epoch 1, Iteration   900] loss: 2.149 acc: 72.53 %\n",
            "[Epoch 2, Iteration   100] loss: 0.871 acc: 78.12 %\n",
            "[Epoch 2, Iteration   300] loss: 1.543 acc: 79.05 %\n",
            "[Epoch 2, Iteration   500] loss: 1.383 acc: 80.87 %\n",
            "[Epoch 2, Iteration   700] loss: 1.238 acc: 83.07 %\n",
            "[Epoch 2, Iteration   900] loss: 1.159 acc: 83.80 %\n",
            "[Epoch 3, Iteration   100] loss: 0.547 acc: 84.81 %\n",
            "[Epoch 3, Iteration   300] loss: 1.056 acc: 85.17 %\n",
            "[Epoch 3, Iteration   500] loss: 0.984 acc: 86.51 %\n",
            "[Epoch 3, Iteration   700] loss: 0.945 acc: 87.25 %\n",
            "[Epoch 3, Iteration   900] loss: 0.938 acc: 86.69 %\n",
            "[Epoch 4, Iteration   100] loss: 0.454 acc: 87.48 %\n",
            "[Epoch 4, Iteration   300] loss: 0.895 acc: 87.48 %\n",
            "[Epoch 4, Iteration   500] loss: 0.844 acc: 88.23 %\n",
            "[Epoch 4, Iteration   700] loss: 0.851 acc: 88.17 %\n",
            "[Epoch 4, Iteration   900] loss: 0.836 acc: 88.33 %\n",
            "[Epoch 5, Iteration   100] loss: 0.405 acc: 88.75 %\n",
            "[Epoch 5, Iteration   300] loss: 0.800 acc: 88.82 %\n",
            "[Epoch 5, Iteration   500] loss: 0.798 acc: 88.67 %\n",
            "[Epoch 5, Iteration   700] loss: 0.799 acc: 88.70 %\n",
            "[Epoch 5, Iteration   900] loss: 0.774 acc: 89.31 %\n",
            "[Epoch 6, Iteration   100] loss: 0.402 acc: 88.78 %\n",
            "[Epoch 6, Iteration   300] loss: 0.761 acc: 89.38 %\n",
            "[Epoch 6, Iteration   500] loss: 0.751 acc: 89.38 %\n",
            "[Epoch 6, Iteration   700] loss: 0.759 acc: 89.29 %\n",
            "[Epoch 6, Iteration   900] loss: 0.749 acc: 89.61 %\n",
            "[Epoch 7, Iteration   100] loss: 0.375 acc: 89.19 %\n",
            "[Epoch 7, Iteration   300] loss: 0.730 acc: 89.95 %\n",
            "[Epoch 7, Iteration   500] loss: 0.746 acc: 89.36 %\n",
            "[Epoch 7, Iteration   700] loss: 0.714 acc: 89.94 %\n",
            "[Epoch 7, Iteration   900] loss: 0.745 acc: 89.75 %\n",
            "[Epoch 8, Iteration   100] loss: 0.373 acc: 89.59 %\n",
            "[Epoch 8, Iteration   300] loss: 0.733 acc: 89.69 %\n",
            "[Epoch 8, Iteration   500] loss: 0.709 acc: 90.06 %\n",
            "[Epoch 8, Iteration   700] loss: 0.689 acc: 90.43 %\n",
            "[Epoch 8, Iteration   900] loss: 0.705 acc: 90.08 %\n",
            "[Epoch 9, Iteration   100] loss: 0.336 acc: 90.66 %\n",
            "[Epoch 9, Iteration   300] loss: 0.729 acc: 89.70 %\n",
            "[Epoch 9, Iteration   500] loss: 0.687 acc: 90.27 %\n",
            "[Epoch 9, Iteration   700] loss: 0.709 acc: 89.91 %\n",
            "[Epoch 9, Iteration   900] loss: 0.687 acc: 90.41 %\n",
            "[Epoch 10, Iteration   100] loss: 0.353 acc: 90.41 %\n",
            "[Epoch 10, Iteration   300] loss: 0.673 acc: 90.54 %\n",
            "[Epoch 10, Iteration   500] loss: 0.676 acc: 90.06 %\n",
            "[Epoch 10, Iteration   700] loss: 0.703 acc: 90.31 %\n",
            "[Epoch 10, Iteration   900] loss: 0.707 acc: 90.26 %\n",
            "[Epoch 11, Iteration   100] loss: 0.324 acc: 91.30 %\n",
            "[Epoch 11, Iteration   300] loss: 0.684 acc: 90.31 %\n",
            "[Epoch 11, Iteration   500] loss: 0.706 acc: 90.11 %\n",
            "[Epoch 11, Iteration   700] loss: 0.680 acc: 90.53 %\n",
            "[Epoch 11, Iteration   900] loss: 0.663 acc: 90.56 %\n",
            "[Epoch 12, Iteration   100] loss: 0.345 acc: 90.61 %\n",
            "[Epoch 12, Iteration   300] loss: 0.673 acc: 90.65 %\n",
            "[Epoch 12, Iteration   500] loss: 0.655 acc: 90.75 %\n",
            "[Epoch 12, Iteration   700] loss: 0.689 acc: 90.38 %\n",
            "[Epoch 12, Iteration   900] loss: 0.671 acc: 90.45 %\n",
            "[Epoch 13, Iteration   100] loss: 0.334 acc: 90.42 %\n",
            "[Epoch 13, Iteration   300] loss: 0.666 acc: 90.48 %\n",
            "[Epoch 13, Iteration   500] loss: 0.651 acc: 90.95 %\n",
            "[Epoch 13, Iteration   700] loss: 0.663 acc: 90.87 %\n",
            "[Epoch 13, Iteration   900] loss: 0.668 acc: 90.76 %\n",
            "[Epoch 14, Iteration   100] loss: 0.322 acc: 90.84 %\n",
            "[Epoch 14, Iteration   300] loss: 0.686 acc: 90.61 %\n",
            "[Epoch 14, Iteration   500] loss: 0.675 acc: 90.37 %\n",
            "[Epoch 14, Iteration   700] loss: 0.629 acc: 91.26 %\n",
            "[Epoch 14, Iteration   900] loss: 0.650 acc: 91.21 %\n",
            "[Epoch 15, Iteration   100] loss: 0.346 acc: 90.23 %\n",
            "[Epoch 15, Iteration   300] loss: 0.643 acc: 91.11 %\n",
            "[Epoch 15, Iteration   500] loss: 0.645 acc: 90.71 %\n",
            "[Epoch 15, Iteration   700] loss: 0.627 acc: 91.33 %\n",
            "[Epoch 15, Iteration   900] loss: 0.678 acc: 90.57 %\n",
            "[Epoch 16, Iteration   100] loss: 0.331 acc: 90.92 %\n",
            "[Epoch 16, Iteration   300] loss: 0.662 acc: 91.17 %\n",
            "[Epoch 16, Iteration   500] loss: 0.652 acc: 90.56 %\n",
            "[Epoch 16, Iteration   700] loss: 0.632 acc: 91.23 %\n",
            "[Epoch 16, Iteration   900] loss: 0.634 acc: 91.12 %\n",
            "[Epoch 17, Iteration   100] loss: 0.295 acc: 91.64 %\n",
            "[Epoch 17, Iteration   300] loss: 0.632 acc: 91.03 %\n",
            "[Epoch 17, Iteration   500] loss: 0.636 acc: 91.23 %\n",
            "[Epoch 17, Iteration   700] loss: 0.674 acc: 90.54 %\n",
            "[Epoch 17, Iteration   900] loss: 0.656 acc: 90.86 %\n",
            "[Epoch 18, Iteration   100] loss: 0.331 acc: 90.70 %\n",
            "[Epoch 18, Iteration   300] loss: 0.622 acc: 91.37 %\n",
            "[Epoch 18, Iteration   500] loss: 0.644 acc: 90.80 %\n",
            "[Epoch 18, Iteration   700] loss: 0.640 acc: 91.10 %\n",
            "[Epoch 18, Iteration   900] loss: 0.655 acc: 91.07 %\n",
            "[Epoch 19, Iteration   100] loss: 0.309 acc: 90.88 %\n",
            "[Epoch 19, Iteration   300] loss: 0.616 acc: 91.53 %\n",
            "[Epoch 19, Iteration   500] loss: 0.648 acc: 90.82 %\n",
            "[Epoch 19, Iteration   700] loss: 0.642 acc: 91.30 %\n",
            "[Epoch 19, Iteration   900] loss: 0.645 acc: 91.04 %\n",
            "[Epoch 20, Iteration   100] loss: 0.325 acc: 91.22 %\n",
            "[Epoch 20, Iteration   300] loss: 0.629 acc: 91.12 %\n",
            "[Epoch 20, Iteration   500] loss: 0.613 acc: 91.32 %\n",
            "[Epoch 20, Iteration   700] loss: 0.654 acc: 90.93 %\n",
            "[Epoch 20, Iteration   900] loss: 0.629 acc: 91.28 %\n",
            "[Epoch 21, Iteration   100] loss: 0.319 acc: 91.33 %\n",
            "[Epoch 21, Iteration   300] loss: 0.630 acc: 91.24 %\n",
            "[Epoch 21, Iteration   500] loss: 0.632 acc: 91.23 %\n",
            "[Epoch 21, Iteration   700] loss: 0.596 acc: 91.53 %\n",
            "[Epoch 21, Iteration   900] loss: 0.652 acc: 91.05 %\n",
            "[Epoch 22, Iteration   100] loss: 0.304 acc: 91.14 %\n",
            "[Epoch 22, Iteration   300] loss: 0.615 acc: 91.34 %\n",
            "[Epoch 22, Iteration   500] loss: 0.625 acc: 91.45 %\n",
            "[Epoch 22, Iteration   700] loss: 0.626 acc: 91.56 %\n",
            "[Epoch 22, Iteration   900] loss: 0.648 acc: 90.80 %\n",
            "[Epoch 23, Iteration   100] loss: 0.331 acc: 90.66 %\n",
            "[Epoch 23, Iteration   300] loss: 0.636 acc: 90.94 %\n",
            "[Epoch 23, Iteration   500] loss: 0.623 acc: 91.16 %\n",
            "[Epoch 23, Iteration   700] loss: 0.601 acc: 91.70 %\n",
            "[Epoch 23, Iteration   900] loss: 0.616 acc: 91.43 %\n",
            "[Epoch 24, Iteration   100] loss: 0.304 acc: 91.58 %\n",
            "[Epoch 24, Iteration   300] loss: 0.617 acc: 91.27 %\n",
            "[Epoch 24, Iteration   500] loss: 0.652 acc: 90.81 %\n",
            "[Epoch 24, Iteration   700] loss: 0.628 acc: 91.24 %\n",
            "[Epoch 24, Iteration   900] loss: 0.604 acc: 91.53 %\n",
            "[Epoch 25, Iteration   100] loss: 0.309 acc: 91.48 %\n",
            "[Epoch 25, Iteration   300] loss: 0.613 acc: 91.49 %\n",
            "[Epoch 25, Iteration   500] loss: 0.620 acc: 91.28 %\n",
            "[Epoch 25, Iteration   700] loss: 0.633 acc: 91.20 %\n",
            "[Epoch 25, Iteration   900] loss: 0.611 acc: 91.31 %\n",
            "[Epoch 26, Iteration   100] loss: 0.324 acc: 91.36 %\n",
            "[Epoch 26, Iteration   300] loss: 0.597 acc: 91.56 %\n",
            "[Epoch 26, Iteration   500] loss: 0.612 acc: 91.52 %\n",
            "[Epoch 26, Iteration   700] loss: 0.608 acc: 91.46 %\n",
            "[Epoch 26, Iteration   900] loss: 0.640 acc: 91.00 %\n",
            "[Epoch 27, Iteration   100] loss: 0.324 acc: 91.20 %\n",
            "[Epoch 27, Iteration   300] loss: 0.612 acc: 91.51 %\n",
            "[Epoch 27, Iteration   500] loss: 0.611 acc: 91.24 %\n",
            "[Epoch 27, Iteration   700] loss: 0.612 acc: 91.30 %\n",
            "[Epoch 27, Iteration   900] loss: 0.604 acc: 91.68 %\n",
            "[Epoch 28, Iteration   100] loss: 0.301 acc: 91.47 %\n",
            "[Epoch 28, Iteration   300] loss: 0.629 acc: 91.45 %\n",
            "[Epoch 28, Iteration   500] loss: 0.595 acc: 91.30 %\n",
            "[Epoch 28, Iteration   700] loss: 0.604 acc: 91.52 %\n",
            "[Epoch 28, Iteration   900] loss: 0.628 acc: 91.23 %\n",
            "[Epoch 29, Iteration   100] loss: 0.290 acc: 91.84 %\n",
            "[Epoch 29, Iteration   300] loss: 0.622 acc: 91.14 %\n",
            "[Epoch 29, Iteration   500] loss: 0.612 acc: 91.58 %\n",
            "[Epoch 29, Iteration   700] loss: 0.616 acc: 91.34 %\n",
            "[Epoch 29, Iteration   900] loss: 0.598 acc: 91.58 %\n",
            "[Epoch 30, Iteration   100] loss: 0.300 acc: 91.36 %\n",
            "[Epoch 30, Iteration   300] loss: 0.618 acc: 91.74 %\n",
            "[Epoch 30, Iteration   500] loss: 0.600 acc: 91.45 %\n",
            "[Epoch 30, Iteration   700] loss: 0.588 acc: 91.65 %\n",
            "[Epoch 30, Iteration   900] loss: 0.618 acc: 91.45 %\n",
            "[Epoch 31, Iteration   100] loss: 0.318 acc: 91.12 %\n",
            "[Epoch 31, Iteration   300] loss: 0.608 acc: 91.52 %\n",
            "[Epoch 31, Iteration   500] loss: 0.595 acc: 91.60 %\n",
            "[Epoch 31, Iteration   700] loss: 0.603 acc: 91.57 %\n",
            "[Epoch 31, Iteration   900] loss: 0.607 acc: 91.27 %\n",
            "[Epoch 32, Iteration   100] loss: 0.316 acc: 91.16 %\n",
            "[Epoch 32, Iteration   300] loss: 0.582 acc: 91.97 %\n",
            "[Epoch 32, Iteration   500] loss: 0.601 acc: 91.48 %\n",
            "[Epoch 32, Iteration   700] loss: 0.616 acc: 91.34 %\n",
            "[Epoch 32, Iteration   900] loss: 0.603 acc: 91.68 %\n"
          ]
        }
      ]
    },
    {
      "cell_type": "code",
      "execution_count": null,
      "id": "f7b2cdc3",
      "metadata": {
        "colab": {
          "base_uri": "https://localhost:8080/"
        },
        "id": "f7b2cdc3",
        "outputId": "d5f0df4a-6e4a-41dc-fb4d-6aaee8b88c79"
      },
      "outputs": [
        {
          "output_type": "stream",
          "name": "stdout",
          "text": [
            "seed:  12\n",
            "Optimizer:  SGD (\n",
            "Parameter Group 0\n",
            "    dampening: 0\n",
            "    differentiable: False\n",
            "    foreach: None\n",
            "    lr: 0.001\n",
            "    maximize: False\n",
            "    momentum: 0\n",
            "    nesterov: False\n",
            "    weight_decay: 0\n",
            ")\n",
            "Shapes of the Parameter Matrix:\n",
            "torch.Size([7, 441])\n",
            "torch.Size([7])\n",
            "torch.Size([10, 7])\n",
            "torch.Size([10])\n",
            "weight init shape:  (3174,)\n",
            "weight init mean:  0.0002916964274266274\n",
            "[Epoch 1, Iteration   100] loss: 2.310 acc: 17.34 %\n",
            "[Epoch 1, Iteration   300] loss: 4.590 acc: 18.98 %\n",
            "[Epoch 1, Iteration   500] loss: 4.543 acc: 20.66 %\n",
            "[Epoch 1, Iteration   700] loss: 4.504 acc: 20.73 %\n",
            "[Epoch 1, Iteration   900] loss: 4.468 acc: 21.89 %\n",
            "[Epoch 2, Iteration   100] loss: 2.212 acc: 23.19 %\n",
            "[Epoch 2, Iteration   300] loss: 4.378 acc: 24.86 %\n",
            "[Epoch 2, Iteration   500] loss: 4.317 acc: 27.91 %\n",
            "[Epoch 2, Iteration   700] loss: 4.292 acc: 28.41 %\n",
            "[Epoch 2, Iteration   900] loss: 4.237 acc: 29.12 %\n",
            "[Epoch 3, Iteration   100] loss: 2.094 acc: 29.62 %\n",
            "[Epoch 3, Iteration   300] loss: 4.136 acc: 30.89 %\n",
            "[Epoch 3, Iteration   500] loss: 4.082 acc: 30.37 %\n",
            "[Epoch 3, Iteration   700] loss: 4.025 acc: 30.98 %\n",
            "[Epoch 3, Iteration   900] loss: 3.956 acc: 31.30 %\n",
            "[Epoch 4, Iteration   100] loss: 1.939 acc: 32.39 %\n",
            "[Epoch 4, Iteration   300] loss: 3.817 acc: 33.10 %\n",
            "[Epoch 4, Iteration   500] loss: 3.732 acc: 34.84 %\n",
            "[Epoch 4, Iteration   700] loss: 3.644 acc: 37.12 %\n",
            "[Epoch 4, Iteration   900] loss: 3.573 acc: 38.88 %\n",
            "[Epoch 5, Iteration   100] loss: 1.736 acc: 42.03 %\n",
            "[Epoch 5, Iteration   300] loss: 3.425 acc: 43.45 %\n",
            "[Epoch 5, Iteration   500] loss: 3.352 acc: 45.25 %\n",
            "[Epoch 5, Iteration   700] loss: 3.271 acc: 47.11 %\n",
            "[Epoch 5, Iteration   900] loss: 3.183 acc: 49.71 %\n",
            "[Epoch 6, Iteration   100] loss: 1.547 acc: 53.47 %\n",
            "[Epoch 6, Iteration   300] loss: 3.040 acc: 55.59 %\n",
            "[Epoch 6, Iteration   500] loss: 2.954 acc: 58.30 %\n",
            "[Epoch 6, Iteration   700] loss: 2.888 acc: 60.47 %\n",
            "[Epoch 6, Iteration   900] loss: 2.810 acc: 62.91 %\n",
            "[Epoch 7, Iteration   100] loss: 1.365 acc: 64.05 %\n",
            "[Epoch 7, Iteration   300] loss: 2.683 acc: 65.68 %\n",
            "[Epoch 7, Iteration   500] loss: 2.607 acc: 67.81 %\n",
            "[Epoch 7, Iteration   700] loss: 2.525 acc: 69.01 %\n",
            "[Epoch 7, Iteration   900] loss: 2.463 acc: 69.66 %\n",
            "[Epoch 8, Iteration   100] loss: 1.217 acc: 69.61 %\n",
            "[Epoch 8, Iteration   300] loss: 2.363 acc: 71.19 %\n",
            "[Epoch 8, Iteration   500] loss: 2.290 acc: 71.62 %\n",
            "[Epoch 8, Iteration   700] loss: 2.213 acc: 72.44 %\n",
            "[Epoch 8, Iteration   900] loss: 2.180 acc: 72.78 %\n",
            "[Epoch 9, Iteration   100] loss: 1.055 acc: 74.25 %\n",
            "[Epoch 9, Iteration   300] loss: 2.100 acc: 74.11 %\n",
            "[Epoch 9, Iteration   500] loss: 2.046 acc: 74.64 %\n",
            "[Epoch 9, Iteration   700] loss: 1.992 acc: 74.60 %\n",
            "[Epoch 9, Iteration   900] loss: 1.948 acc: 75.62 %\n",
            "[Epoch 10, Iteration   100] loss: 0.963 acc: 75.62 %\n",
            "[Epoch 10, Iteration   300] loss: 1.875 acc: 76.62 %\n",
            "[Epoch 10, Iteration   500] loss: 1.829 acc: 76.42 %\n",
            "[Epoch 10, Iteration   700] loss: 1.804 acc: 77.14 %\n",
            "[Epoch 10, Iteration   900] loss: 1.780 acc: 76.73 %\n",
            "[Epoch 11, Iteration   100] loss: 0.852 acc: 78.39 %\n",
            "[Epoch 11, Iteration   300] loss: 1.715 acc: 77.89 %\n",
            "[Epoch 11, Iteration   500] loss: 1.708 acc: 77.56 %\n",
            "[Epoch 11, Iteration   700] loss: 1.641 acc: 78.48 %\n",
            "[Epoch 11, Iteration   900] loss: 1.627 acc: 78.55 %\n",
            "[Epoch 12, Iteration   100] loss: 0.801 acc: 78.94 %\n",
            "[Epoch 12, Iteration   300] loss: 1.588 acc: 78.87 %\n",
            "[Epoch 12, Iteration   500] loss: 1.536 acc: 80.17 %\n",
            "[Epoch 12, Iteration   700] loss: 1.553 acc: 79.05 %\n",
            "[Epoch 12, Iteration   900] loss: 1.525 acc: 78.84 %\n",
            "[Epoch 13, Iteration   100] loss: 0.748 acc: 79.72 %\n",
            "[Epoch 13, Iteration   300] loss: 1.482 acc: 79.95 %\n",
            "[Epoch 13, Iteration   500] loss: 1.458 acc: 80.16 %\n",
            "[Epoch 13, Iteration   700] loss: 1.444 acc: 80.77 %\n",
            "[Epoch 13, Iteration   900] loss: 1.429 acc: 80.54 %\n",
            "[Epoch 14, Iteration   100] loss: 0.696 acc: 80.73 %\n",
            "[Epoch 14, Iteration   300] loss: 1.415 acc: 80.65 %\n",
            "[Epoch 14, Iteration   500] loss: 1.387 acc: 80.69 %\n",
            "[Epoch 14, Iteration   700] loss: 1.339 acc: 82.03 %\n",
            "[Epoch 14, Iteration   900] loss: 1.361 acc: 81.71 %\n",
            "[Epoch 15, Iteration   100] loss: 0.672 acc: 81.44 %\n",
            "[Epoch 15, Iteration   300] loss: 1.311 acc: 82.04 %\n",
            "[Epoch 15, Iteration   500] loss: 1.324 acc: 81.80 %\n",
            "[Epoch 15, Iteration   700] loss: 1.287 acc: 82.37 %\n",
            "[Epoch 15, Iteration   900] loss: 1.320 acc: 81.66 %\n",
            "[Epoch 16, Iteration   100] loss: 0.641 acc: 82.50 %\n",
            "[Epoch 16, Iteration   300] loss: 1.274 acc: 82.50 %\n",
            "[Epoch 16, Iteration   500] loss: 1.248 acc: 82.76 %\n",
            "[Epoch 16, Iteration   700] loss: 1.249 acc: 82.51 %\n",
            "[Epoch 16, Iteration   900] loss: 1.236 acc: 83.05 %\n",
            "[Epoch 17, Iteration   100] loss: 0.590 acc: 84.06 %\n",
            "[Epoch 17, Iteration   300] loss: 1.211 acc: 83.12 %\n",
            "[Epoch 17, Iteration   500] loss: 1.211 acc: 83.24 %\n",
            "[Epoch 17, Iteration   700] loss: 1.220 acc: 83.27 %\n",
            "[Epoch 17, Iteration   900] loss: 1.204 acc: 83.25 %\n",
            "[Epoch 18, Iteration   100] loss: 0.600 acc: 83.02 %\n",
            "[Epoch 18, Iteration   300] loss: 1.159 acc: 84.04 %\n",
            "[Epoch 18, Iteration   500] loss: 1.175 acc: 83.87 %\n",
            "[Epoch 18, Iteration   700] loss: 1.159 acc: 83.78 %\n",
            "[Epoch 18, Iteration   900] loss: 1.165 acc: 83.87 %\n",
            "[Epoch 19, Iteration   100] loss: 0.574 acc: 84.27 %\n",
            "[Epoch 19, Iteration   300] loss: 1.122 acc: 84.46 %\n",
            "[Epoch 19, Iteration   500] loss: 1.131 acc: 84.14 %\n",
            "[Epoch 19, Iteration   700] loss: 1.122 acc: 84.52 %\n",
            "[Epoch 19, Iteration   900] loss: 1.133 acc: 84.12 %\n",
            "[Epoch 20, Iteration   100] loss: 0.560 acc: 84.70 %\n",
            "[Epoch 20, Iteration   300] loss: 1.107 acc: 84.82 %\n",
            "[Epoch 20, Iteration   500] loss: 1.077 acc: 85.06 %\n",
            "[Epoch 20, Iteration   700] loss: 1.110 acc: 84.41 %\n",
            "[Epoch 20, Iteration   900] loss: 1.082 acc: 84.88 %\n",
            "[Epoch 21, Iteration   100] loss: 0.551 acc: 84.27 %\n",
            "[Epoch 21, Iteration   300] loss: 1.077 acc: 85.20 %\n",
            "[Epoch 21, Iteration   500] loss: 1.069 acc: 85.13 %\n",
            "[Epoch 21, Iteration   700] loss: 1.034 acc: 85.74 %\n",
            "[Epoch 21, Iteration   900] loss: 1.077 acc: 85.09 %\n",
            "[Epoch 22, Iteration   100] loss: 0.519 acc: 85.70 %\n",
            "[Epoch 22, Iteration   300] loss: 1.044 acc: 85.42 %\n",
            "[Epoch 22, Iteration   500] loss: 1.035 acc: 85.77 %\n",
            "[Epoch 22, Iteration   700] loss: 1.041 acc: 85.68 %\n",
            "[Epoch 22, Iteration   900] loss: 1.053 acc: 85.27 %\n",
            "[Epoch 23, Iteration   100] loss: 0.529 acc: 85.39 %\n",
            "[Epoch 23, Iteration   300] loss: 1.033 acc: 85.38 %\n",
            "[Epoch 23, Iteration   500] loss: 1.029 acc: 85.89 %\n",
            "[Epoch 23, Iteration   700] loss: 0.997 acc: 86.34 %\n",
            "[Epoch 23, Iteration   900] loss: 1.000 acc: 86.02 %\n",
            "[Epoch 24, Iteration   100] loss: 0.508 acc: 86.14 %\n",
            "[Epoch 24, Iteration   300] loss: 1.007 acc: 85.94 %\n",
            "[Epoch 24, Iteration   500] loss: 1.019 acc: 85.78 %\n",
            "[Epoch 24, Iteration   700] loss: 0.995 acc: 86.22 %\n",
            "[Epoch 24, Iteration   900] loss: 0.968 acc: 86.60 %\n",
            "[Epoch 25, Iteration   100] loss: 0.495 acc: 86.47 %\n",
            "[Epoch 25, Iteration   300] loss: 0.973 acc: 86.34 %\n",
            "[Epoch 25, Iteration   500] loss: 0.964 acc: 86.54 %\n",
            "[Epoch 25, Iteration   700] loss: 0.996 acc: 86.13 %\n",
            "[Epoch 25, Iteration   900] loss: 0.978 acc: 86.52 %\n",
            "[Epoch 26, Iteration   100] loss: 0.504 acc: 86.11 %\n",
            "[Epoch 26, Iteration   300] loss: 0.954 acc: 86.91 %\n",
            "[Epoch 26, Iteration   500] loss: 0.960 acc: 86.52 %\n",
            "[Epoch 26, Iteration   700] loss: 0.955 acc: 86.78 %\n",
            "[Epoch 26, Iteration   900] loss: 0.963 acc: 86.60 %\n",
            "[Epoch 27, Iteration   100] loss: 0.493 acc: 86.19 %\n",
            "[Epoch 27, Iteration   300] loss: 0.949 acc: 86.83 %\n",
            "[Epoch 27, Iteration   500] loss: 0.941 acc: 86.79 %\n",
            "[Epoch 27, Iteration   700] loss: 0.937 acc: 86.88 %\n",
            "[Epoch 27, Iteration   900] loss: 0.937 acc: 87.20 %\n",
            "[Epoch 28, Iteration   100] loss: 0.469 acc: 86.23 %\n",
            "[Epoch 28, Iteration   300] loss: 0.955 acc: 87.05 %\n",
            "[Epoch 28, Iteration   500] loss: 0.919 acc: 86.95 %\n",
            "[Epoch 28, Iteration   700] loss: 0.916 acc: 87.43 %\n",
            "[Epoch 28, Iteration   900] loss: 0.934 acc: 87.09 %\n",
            "[Epoch 29, Iteration   100] loss: 0.449 acc: 87.20 %\n",
            "[Epoch 29, Iteration   300] loss: 0.934 acc: 86.84 %\n",
            "[Epoch 29, Iteration   500] loss: 0.917 acc: 87.26 %\n",
            "[Epoch 29, Iteration   700] loss: 0.926 acc: 87.13 %\n",
            "[Epoch 29, Iteration   900] loss: 0.903 acc: 87.59 %\n",
            "[Epoch 30, Iteration   100] loss: 0.456 acc: 87.06 %\n",
            "[Epoch 30, Iteration   300] loss: 0.917 acc: 87.50 %\n",
            "[Epoch 30, Iteration   500] loss: 0.905 acc: 87.18 %\n",
            "[Epoch 30, Iteration   700] loss: 0.885 acc: 87.63 %\n",
            "[Epoch 30, Iteration   900] loss: 0.910 acc: 87.39 %\n",
            "[Epoch 31, Iteration   100] loss: 0.460 acc: 86.77 %\n",
            "[Epoch 31, Iteration   300] loss: 0.896 acc: 87.59 %\n",
            "[Epoch 31, Iteration   500] loss: 0.888 acc: 87.52 %\n",
            "[Epoch 31, Iteration   700] loss: 0.884 acc: 87.80 %\n",
            "[Epoch 31, Iteration   900] loss: 0.902 acc: 87.38 %\n",
            "[Epoch 32, Iteration   100] loss: 0.452 acc: 87.36 %\n",
            "[Epoch 32, Iteration   300] loss: 0.862 acc: 87.98 %\n",
            "[Epoch 32, Iteration   500] loss: 0.892 acc: 87.58 %\n",
            "[Epoch 32, Iteration   700] loss: 0.886 acc: 87.60 %\n",
            "[Epoch 32, Iteration   900] loss: 0.884 acc: 87.66 %\n"
          ]
        }
      ],
      "source": [
        "w_sgd, test_w_sgd, train_loss_sgd  = sample_nn_run(12, optimizer_choice = \"SGD\")"
      ]
    },
    {
      "cell_type": "markdown",
      "id": "ef35bf75",
      "metadata": {
        "id": "ef35bf75"
      },
      "source": [
        "#### check if all trainings had the same initialisation"
      ]
    },
    {
      "cell_type": "code",
      "execution_count": null,
      "id": "9bfc8573",
      "metadata": {
        "id": "9bfc8573"
      },
      "outputs": [],
      "source": [
        "assert (w_sgd[0] == w_adam[0]).all()\n",
        "assert (w_adam[0] == w_sgd_mom_05[0]).all()\n",
        "assert (w_sgd_mom_05[0] == w_sgd_mom_08[0]).all()\n",
        "assert (w_sgd_mom_08[0] == w_sgd_mom_09[0]).all()"
      ]
    },
    {
      "cell_type": "code",
      "execution_count": null,
      "id": "e11ac199",
      "metadata": {
        "colab": {
          "base_uri": "https://localhost:8080/",
          "height": 285
        },
        "id": "e11ac199",
        "outputId": "90a5f84e-05b2-4c03-8d21-30e9bb7c44ca"
      },
      "outputs": [
        {
          "output_type": "execute_result",
          "data": {
            "text/plain": [
              "[<matplotlib.lines.Line2D at 0x7fc83bffef70>]"
            ]
          },
          "metadata": {},
          "execution_count": 27
        },
        {
          "output_type": "display_data",
          "data": {
            "text/plain": [
              "<Figure size 432x288 with 1 Axes>"
            ],
            "image/png": "[encoded data removed]"
          },
          "metadata": {
            "needs_background": "light"
          }
        }
      ],
      "source": [
        "plt.plot(train_loss_adam)\n",
        "plt.plot(train_loss_sgd_mom_05)\n",
        "plt.plot(train_loss_sgd_mom_08)\n",
        "plt.plot(train_loss_sgd_mom_09)\n",
        "plt.plot(train_loss_sgd)"
      ]
    },
    {
      "cell_type": "code",
      "execution_count": null,
      "id": "3a7bb410",
      "metadata": {
        "scrolled": true,
        "colab": {
          "base_uri": "https://localhost:8080/"
        },
        "id": "3a7bb410",
        "outputId": "622895d0-f19c-4af1-df03-e679cc580dd3"
      },
      "outputs": [
        {
          "output_type": "execute_result",
          "data": {
            "text/plain": [
              "((1000, 3174), (29017, 3174))"
            ]
          },
          "metadata": {},
          "execution_count": 28
        }
      ],
      "source": [
        "np.array(w_adam).shape, np.array(test_w_adam).shape"
      ]
    },
    {
      "cell_type": "code",
      "execution_count": null,
      "id": "9dc34ba6",
      "metadata": {
        "id": "9dc34ba6"
      },
      "outputs": [],
      "source": [
        "w_adam = np.array(w_adam)\n",
        "test_w_adam = np.array(test_w_adam)"
      ]
    },
    {
      "cell_type": "code",
      "execution_count": null,
      "id": "b06f0e8e",
      "metadata": {
        "id": "b06f0e8e"
      },
      "outputs": [],
      "source": [
        "w_sgd = np.array(w_sgd)\n",
        "test_w_sgd = np.array(test_w_sgd)"
      ]
    },
    {
      "cell_type": "code",
      "execution_count": null,
      "id": "76e3e04f",
      "metadata": {
        "id": "76e3e04f"
      },
      "outputs": [],
      "source": [
        "w_sgd_mom_05 = np.array(w_sgd_mom_05)\n",
        "test_w_sgd_mom_05 = np.array(test_w_sgd_mom_05)"
      ]
    },
    {
      "cell_type": "code",
      "source": [
        "w_sgd_mom_08 = np.array(w_sgd_mom_08)\n",
        "test_w_sgd_mom_08 = np.array(test_w_sgd_mom_08)"
      ],
      "metadata": {
        "id": "8sOeR2LDH5Z_"
      },
      "id": "8sOeR2LDH5Z_",
      "execution_count": null,
      "outputs": []
    },
    {
      "cell_type": "code",
      "source": [
        "w_sgd_mom_09 = np.array(w_sgd_mom_09)\n",
        "test_w_sgd_mom_09 = np.array(test_w_sgd_mom_09)"
      ],
      "metadata": {
        "id": "unS_73O0H57u"
      },
      "id": "unS_73O0H57u",
      "execution_count": null,
      "outputs": []
    },
    {
      "cell_type": "code",
      "execution_count": null,
      "id": "6006f7a6",
      "metadata": {
        "id": "6006f7a6"
      },
      "outputs": [],
      "source": [
        "np.save(\"./out/w_adam_nn.pkl\", w_adam)\n",
        "np.save(\"./out/test_w_adam_nn.pkl\", test_w_adam)"
      ]
    },
    {
      "cell_type": "code",
      "execution_count": null,
      "id": "b3358b34",
      "metadata": {
        "id": "b3358b34"
      },
      "outputs": [],
      "source": [
        "np.save(\"./out/w_sgd_nn.pkl\", w_sgd)\n",
        "np.save(\"./out/test_w_sgd_nn.pkl\", test_w_sgd)"
      ]
    },
    {
      "cell_type": "code",
      "execution_count": null,
      "id": "01db137d",
      "metadata": {
        "id": "01db137d"
      },
      "outputs": [],
      "source": [
        "np.save(\"./out/w_sgd_mom_nn_05.pkl\", w_sgd_mom_05)\n",
        "np.save(\"./out/test_w_sgd_mom_nn_05.pkl\", test_w_sgd_mom_05)"
      ]
    },
    {
      "cell_type": "code",
      "source": [
        "np.save(\"./out/w_sgd_mom_nn_08.pkl\", w_sgd_mom_08)\n",
        "np.save(\"./out/test_w_sgd_mom_nn_08.pkl\", test_w_sgd_mom_08)"
      ],
      "metadata": {
        "id": "KPJLv9wcIEeQ"
      },
      "id": "KPJLv9wcIEeQ",
      "execution_count": null,
      "outputs": []
    },
    {
      "cell_type": "code",
      "source": [
        "np.save(\"./out/w_sgd_mom_nn_09.pkl\", w_sgd_mom_09)\n",
        "np.save(\"./out/test_w_sgd_mom_nn_09.pkl\", test_w_sgd_mom_09)"
      ],
      "metadata": {
        "id": "D34W3702IEvZ"
      },
      "id": "D34W3702IEvZ",
      "execution_count": null,
      "outputs": []
    },
    {
      "cell_type": "markdown",
      "id": "ed888a72",
      "metadata": {
        "id": "ed888a72"
      },
      "source": [
        "### Use weights for approximating koopman operator"
      ]
    },
    {
      "cell_type": "markdown",
      "id": "d71297db",
      "metadata": {
        "id": "d71297db"
      },
      "source": [
        "### apply EDMD to ADAM trained NN"
      ]
    },
    {
      "cell_type": "code",
      "execution_count": null,
      "id": "1a9b14d9",
      "metadata": {
        "id": "1a9b14d9"
      },
      "outputs": [],
      "source": [
        "w = np.load(\"./out/w_adam_nn.pkl.npy\")"
      ]
    },
    {
      "cell_type": "code",
      "execution_count": null,
      "id": "08e9b769",
      "metadata": {
        "scrolled": true,
        "colab": {
          "base_uri": "https://localhost:8080/"
        },
        "id": "08e9b769",
        "outputId": "272f9798-1f08-4ebd-c35a-3ae244f99c9a"
      },
      "outputs": [
        {
          "output_type": "execute_result",
          "data": {
            "text/plain": [
              "array([[-0.00326786, -0.02545078, -0.00450276, ...,  0.02462917,\n",
              "        -0.05136227,  0.30388868],\n",
              "       [-0.00326786, -0.02545078, -0.00450276, ...,  0.02562917,\n",
              "        -0.05036227,  0.30288869],\n",
              "       [-0.00326786, -0.02545078, -0.00450276, ...,  0.02628865,\n",
              "        -0.04988426,  0.30216047],\n",
              "       ...,\n",
              "       [ 0.00134178, -0.00283511,  0.05546506, ...,  0.25231582,\n",
              "        -0.36550218,  0.33523566],\n",
              "       [ 0.00138147, -0.00275471,  0.05556942, ...,  0.25250667,\n",
              "        -0.36571214,  0.3350547 ],\n",
              "       [ 0.00141722, -0.00268228,  0.05565841, ...,  0.2526226 ,\n",
              "        -0.36591136,  0.33490711]])"
            ]
          },
          "metadata": {},
          "execution_count": 72
        }
      ],
      "source": [
        "w"
      ]
    },
    {
      "cell_type": "code",
      "execution_count": null,
      "id": "37e41a51",
      "metadata": {
        "colab": {
          "base_uri": "https://localhost:8080/"
        },
        "id": "37e41a51",
        "outputId": "5b78545f-e251-4777-b1b9-8ea66cc1da15"
      },
      "outputs": [
        {
          "output_type": "execute_result",
          "data": {
            "text/plain": [
              "(1000, 3174)"
            ]
          },
          "metadata": {},
          "execution_count": 73
        }
      ],
      "source": [
        "w.shape\n"
      ]
    },
    {
      "cell_type": "markdown",
      "id": "bcdcec03",
      "metadata": {
        "id": "bcdcec03"
      },
      "source": [
        "#### define thin plate radial basis functions"
      ]
    },
    {
      "cell_type": "code",
      "execution_count": null,
      "id": "1dbdcada",
      "metadata": {
        "id": "1dbdcada"
      },
      "outputs": [],
      "source": [
        "from scipy.spatial import distance\n",
        "def rbf_thin_plate(centers, x):\n",
        "    delta = 10**-3\n",
        "    out = []\n",
        "    for c in centers:\n",
        "        out.append((distance.euclidean(c,x)**2) * np.log(distance.euclidean(c,x) + delta))\n",
        "    \n",
        "    return(np.array(out))"
      ]
    },
    {
      "cell_type": "markdown",
      "id": "2b0e50a5",
      "metadata": {
        "id": "2b0e50a5"
      },
      "source": [
        "#### apply kmeans to get centers for radial basis fucntions"
      ]
    },
    {
      "cell_type": "code",
      "execution_count": null,
      "id": "0b3802b4",
      "metadata": {
        "scrolled": true,
        "colab": {
          "base_uri": "https://localhost:8080/"
        },
        "id": "0b3802b4",
        "outputId": "cf19d3ae-3b03-40c6-9bda-494efcb8774f"
      },
      "outputs": [
        {
          "output_type": "stream",
          "name": "stdout",
          "text": [
            "Initialization complete\n",
            "Iteration 0, inertia 0.08523976114140772\n",
            "Iteration 1, inertia 0.06526143856733906\n",
            "Converged at iteration 1: strict convergence.\n",
            "Initialization complete\n",
            "Iteration 0, inertia 0.08523976114140772\n",
            "Iteration 1, inertia 0.06526143856733906\n",
            "Converged at iteration 1: strict convergence.\n"
          ]
        },
        {
          "output_type": "execute_result",
          "data": {
            "text/plain": [
              "array([[-9.44093335e-03, -2.01704533e-02,  5.54759304e-02, ...,\n",
              "         2.04942301e-01, -1.74575642e-01,  3.11695059e-01],\n",
              "       [-1.12740851e-02, -1.23141950e-03,  5.65410381e-02, ...,\n",
              "         2.52500286e-01, -3.17858378e-01,  3.28549067e-01],\n",
              "       [-2.73243844e-04, -2.49525663e-02, -4.93954925e-04, ...,\n",
              "         9.08458009e-02, -7.15772808e-02,  2.76064456e-01],\n",
              "       ...,\n",
              "       [-2.08192673e-02, -7.66798318e-03,  6.09829519e-02, ...,\n",
              "         2.40352884e-01, -2.73232594e-01,  3.19249302e-01],\n",
              "       [-1.50589747e-02, -2.24775113e-02,  3.51114348e-02, ...,\n",
              "         1.74339503e-01, -1.38548166e-01,  3.05914581e-01],\n",
              "       [-1.50818843e-02, -2.29052585e-02,  3.34529318e-02, ...,\n",
              "         1.73237234e-01, -1.37430996e-01,  3.05696756e-01]])"
            ]
          },
          "metadata": {},
          "execution_count": 46
        }
      ],
      "source": [
        "from sklearn.cluster import KMeans, MiniBatchKMeans\n",
        "\n",
        "kmeans = KMeans(600, verbose=1, init='k-means++', n_init=1, random_state=18)\n",
        "kmeans.fit(w)\n",
        "#def get_centers_knn():\n",
        "\n",
        "identified_clusters = kmeans.fit_predict(w)\n",
        "identified_clusters\n",
        "unique, counts = np.unique(identified_clusters, return_counts=True)\n",
        "\n",
        "centers = kmeans.cluster_centers_\n",
        "centers"
      ]
    },
    {
      "cell_type": "code",
      "execution_count": null,
      "id": "8d7d4cd7",
      "metadata": {
        "colab": {
          "base_uri": "https://localhost:8080/"
        },
        "id": "8d7d4cd7",
        "outputId": "dd3dd935-03b1-4cbe-adef-22b49357ab22"
      },
      "outputs": [
        {
          "output_type": "execute_result",
          "data": {
            "text/plain": [
              "(1000, 600)"
            ]
          },
          "metadata": {},
          "execution_count": 47
        }
      ],
      "source": [
        "w_t_transformed = np.apply_along_axis(lambda x: rbf_thin_plate(centers,x), 1, w)\n",
        "w_t_transformed.shape"
      ]
    },
    {
      "cell_type": "code",
      "execution_count": null,
      "id": "643f69ad",
      "metadata": {
        "scrolled": true,
        "colab": {
          "base_uri": "https://localhost:8080/"
        },
        "id": "643f69ad",
        "outputId": "a215e6d8-1c2e-4122-9cab-926bc8b872b4"
      },
      "outputs": [
        {
          "output_type": "execute_result",
          "data": {
            "text/plain": [
              "(1000, 600)"
            ]
          },
          "metadata": {},
          "execution_count": 48
        }
      ],
      "source": [
        "w_t_transformed.shape"
      ]
    },
    {
      "cell_type": "code",
      "execution_count": null,
      "id": "0693c2e4",
      "metadata": {
        "colab": {
          "base_uri": "https://localhost:8080/"
        },
        "id": "0693c2e4",
        "outputId": "5883b935-00f6-499c-e1f3-3536a3b1d406"
      },
      "outputs": [
        {
          "output_type": "execute_result",
          "data": {
            "text/plain": [
              "(1000, 3774)"
            ]
          },
          "metadata": {},
          "execution_count": 49
        }
      ],
      "source": [
        "w_t_combined = np.hstack((w_t_transformed, w))\n",
        "w_t_combined.shape"
      ]
    },
    {
      "cell_type": "code",
      "execution_count": null,
      "id": "80c56003",
      "metadata": {
        "id": "80c56003"
      },
      "outputs": [],
      "source": [
        "np.save(\"./out/w_t_combined_adam.pkl\", w_t_combined)"
      ]
    },
    {
      "cell_type": "code",
      "execution_count": null,
      "id": "5fd832f8",
      "metadata": {
        "colab": {
          "base_uri": "https://localhost:8080/"
        },
        "id": "5fd832f8",
        "outputId": "4a99d35c-bbd1-4eee-8ac9-6e5270d69506"
      },
      "outputs": [
        {
          "output_type": "execute_result",
          "data": {
            "text/plain": [
              "(1000, 3774)"
            ]
          },
          "metadata": {},
          "execution_count": 51
        }
      ],
      "source": [
        "w_t_combined = np.load(\"./out/w_t_combined_adam.pkl.npy\")\n",
        "w_t_combined.shape"
      ]
    },
    {
      "cell_type": "code",
      "execution_count": null,
      "id": "b63e031d",
      "metadata": {
        "colab": {
          "base_uri": "https://localhost:8080/"
        },
        "id": "b63e031d",
        "outputId": "04004280-4f0d-4d2b-933a-6465cdf7a7d3"
      },
      "outputs": [
        {
          "output_type": "stream",
          "name": "stdout",
          "text": [
            "Looking in indexes: https://pypi.org/simple, https://us-python.pkg.dev/colab-wheels/public/simple/\n",
            "Requirement already satisfied: datafold in /usr/local/lib/python3.8/dist-packages (1.1.6)\n",
            "Requirement already satisfied: numexpr<3.0.0,>=2.7.1 in /usr/local/lib/python3.8/dist-packages (from datafold) (2.8.4)\n",
            "Requirement already satisfied: scikit-learn~=0.24.1 in /usr/local/lib/python3.8/dist-packages (from datafold) (0.24.2)\n",
            "Requirement already satisfied: pandas~=1.2.0 in /usr/local/lib/python3.8/dist-packages (from datafold) (1.2.5)\n",
            "Requirement already satisfied: scipy<1.8,>=1.5.0 in /usr/local/lib/python3.8/dist-packages (from datafold) (1.7.3)\n",
            "Requirement already satisfied: matplotlib>=3.2.0 in /usr/local/lib/python3.8/dist-packages (from datafold) (3.2.2)\n",
            "Requirement already satisfied: numpy<1.22.0,>=1.18.0 in /usr/local/lib/python3.8/dist-packages (from datafold) (1.21.6)\n",
            "Requirement already satisfied: findiff~=0.8.9 in /usr/local/lib/python3.8/dist-packages (from datafold) (0.8.9)\n",
            "Requirement already satisfied: sympy in /usr/local/lib/python3.8/dist-packages (from findiff~=0.8.9->datafold) (1.7.1)\n",
            "Requirement already satisfied: kiwisolver>=1.0.1 in /usr/local/lib/python3.8/dist-packages (from matplotlib>=3.2.0->datafold) (1.4.4)\n",
            "Requirement already satisfied: cycler>=0.10 in /usr/local/lib/python3.8/dist-packages (from matplotlib>=3.2.0->datafold) (0.11.0)\n",
            "Requirement already satisfied: python-dateutil>=2.1 in /usr/local/lib/python3.8/dist-packages (from matplotlib>=3.2.0->datafold) (2.8.2)\n",
            "Requirement already satisfied: pyparsing!=2.0.4,!=2.1.2,!=2.1.6,>=2.0.1 in /usr/local/lib/python3.8/dist-packages (from matplotlib>=3.2.0->datafold) (3.0.9)\n",
            "Requirement already satisfied: pytz>=2017.3 in /usr/local/lib/python3.8/dist-packages (from pandas~=1.2.0->datafold) (2022.7)\n",
            "Requirement already satisfied: joblib>=0.11 in /usr/local/lib/python3.8/dist-packages (from scikit-learn~=0.24.1->datafold) (1.2.0)\n",
            "Requirement already satisfied: threadpoolctl>=2.0.0 in /usr/local/lib/python3.8/dist-packages (from scikit-learn~=0.24.1->datafold) (3.1.0)\n",
            "Requirement already satisfied: six>=1.5 in /usr/local/lib/python3.8/dist-packages (from python-dateutil>=2.1->matplotlib>=3.2.0->datafold) (1.15.0)\n",
            "Requirement already satisfied: mpmath>=0.19 in /usr/local/lib/python3.8/dist-packages (from sympy->findiff~=0.8.9->datafold) (1.2.1)\n"
          ]
        }
      ],
      "source": [
        "!pip install datafold\n",
        "from datafold.appfold import EDMD\n",
        "from datafold.dynfold import DMDFull\n",
        "from datafold.dynfold.transform import TSCPolynomialFeatures, TSCRadialBasis, TSCIdentity, TSCApplyLambdas, TSCFeaturePreprocess\n",
        "from datafold.pcfold import GaussianKernel, TSCDataFrame"
      ]
    },
    {
      "cell_type": "code",
      "execution_count": null,
      "id": "2de6efed",
      "metadata": {
        "colab": {
          "base_uri": "https://localhost:8080/"
        },
        "id": "2de6efed",
        "outputId": "dd098825-c9e0-4a55-b7ab-e91c672bc3e4"
      },
      "outputs": [
        {
          "output_type": "execute_result",
          "data": {
            "text/plain": [
              "(1000, 3774)"
            ]
          },
          "metadata": {},
          "execution_count": 53
        }
      ],
      "source": [
        "w_tsc = TSCDataFrame.from_single_timeseries(pd.DataFrame(w_t_combined))\n",
        "w_tsc.shape"
      ]
    },
    {
      "cell_type": "code",
      "execution_count": null,
      "id": "f4e17d33",
      "metadata": {
        "scrolled": false,
        "colab": {
          "base_uri": "https://localhost:8080/"
        },
        "id": "f4e17d33",
        "outputId": "f7c272fc-1305-420a-a24a-098ce84fc9d4"
      },
      "outputs": [
        {
          "output_type": "stream",
          "name": "stdout",
          "text": [
            "time delta: 1\n",
            "#time series: 1\n",
            "#time steps per time series: 1000\n",
            "(n_samples, n_features): (1000, 3774)\n",
            "time interval (0, 999)\n",
            "Same time values: True\n"
          ]
        }
      ],
      "source": [
        "print(f\"time delta: {w_tsc.delta_time}\")\n",
        "print(f\"#time series: {w_tsc.n_timeseries}\")\n",
        "print(f\"#time steps per time series: {w_tsc.n_timesteps}\")\n",
        "print(f\"(n_samples, n_features): {w_tsc.shape}\")\n",
        "print(f\"time interval {w_tsc.time_interval()}\")\n",
        "print(f\"Same time values: {w_tsc.is_same_time_values()}\")"
      ]
    },
    {
      "cell_type": "code",
      "execution_count": null,
      "id": "7ec832f4",
      "metadata": {
        "colab": {
          "base_uri": "https://localhost:8080/"
        },
        "id": "7ec832f4",
        "outputId": "320f887d-7f97-41ae-a68e-c020589df0ee"
      },
      "outputs": [
        {
          "output_type": "stream",
          "name": "stderr",
          "text": [
            "/usr/local/lib/python3.8/dist-packages/datafold/dynfold/dmd.py:1169: UserWarning: There are more observables than snapshots. The current implementation favors more snapshots than obserables. This may result in a bad computational performance.\n",
            "  warnings.warn(\n",
            "/usr/local/lib/python3.8/dist-packages/datafold/dynfold/dmd.py:1187: UserWarning: Shift matrix (shape=(3774, 3774)) has not full rank (=182), falling back to least squares solution. The sum of residuals is: 0.0\n",
            "  warnings.warn(\n"
          ]
        }
      ],
      "source": [
        "dict_step = [\n",
        "    (\n",
        "        \"identity\",\n",
        "        TSCIdentity()\n",
        "    )\n",
        "]\n",
        "\n",
        "edmd_adam = EDMD(dict_steps=dict_step, include_id_state=False, sort_koopman_triplets=False).fit(\n",
        "    X=w_tsc\n",
        ")  # Note that the \"extended\" part is in the transformations\n"
      ]
    },
    {
      "cell_type": "code",
      "execution_count": null,
      "id": "a7b0f690",
      "metadata": {
        "colab": {
          "base_uri": "https://localhost:8080/"
        },
        "id": "a7b0f690",
        "outputId": "f42f6f37-f97c-4f61-f4fb-26d740a12f81"
      },
      "outputs": [
        {
          "output_type": "execute_result",
          "data": {
            "text/plain": [
              "EDMD(dict_steps=[('identity', TSCIdentity())], dmd_model=DMDFull(),\n",
              "     include_id_state=False)"
            ]
          },
          "metadata": {},
          "execution_count": 56
        }
      ],
      "source": [
        "edmd_adam"
      ]
    },
    {
      "cell_type": "code",
      "execution_count": null,
      "id": "d7dcd90d",
      "metadata": {
        "id": "d7dcd90d"
      },
      "outputs": [],
      "source": [
        "import pickle\n",
        "with open('./out/edmd_adam.pkl', 'wb') as outp:\n",
        "    pickle.dump(edmd_adam, outp, pickle.HIGHEST_PROTOCOL)\n"
      ]
    },
    {
      "cell_type": "code",
      "execution_count": null,
      "id": "713d591c",
      "metadata": {
        "id": "713d591c"
      },
      "outputs": [],
      "source": [
        "with open('./out/edmd_adam.pkl', 'rb') as inp:\n",
        "    edmd_adam = pickle.load(inp)"
      ]
    },
    {
      "cell_type": "code",
      "execution_count": null,
      "id": "c47ec507",
      "metadata": {
        "scrolled": true,
        "colab": {
          "base_uri": "https://localhost:8080/",
          "height": 281
        },
        "id": "c47ec507",
        "outputId": "f6b333a6-167c-4187-f413-a5a6e15dbead"
      },
      "outputs": [
        {
          "output_type": "display_data",
          "data": {
            "text/plain": [
              "<Figure size 432x288 with 1 Axes>"
            ],
            "image/png": "[encoded data removed]"
          },
          "metadata": {
            "needs_background": "light"
          }
        }
      ],
      "source": [
        "plt.plot(np.abs(edmd_adam.koopman_eigenvalues), 'x')\n",
        "plt.title('Dominant eigenvalues');"
      ]
    },
    {
      "cell_type": "code",
      "source": [
        "sum(np.abs(edmd_adam.koopman_eigenvalues) > 0.05)"
      ],
      "metadata": {
        "colab": {
          "base_uri": "https://localhost:8080/"
        },
        "id": "3wg94GrCMHKG",
        "outputId": "8f980e6f-6a49-4617-aa2e-8b10f23611cc"
      },
      "id": "3wg94GrCMHKG",
      "execution_count": null,
      "outputs": [
        {
          "output_type": "execute_result",
          "data": {
            "text/plain": [
              "182"
            ]
          },
          "metadata": {},
          "execution_count": 64
        }
      ]
    },
    {
      "cell_type": "markdown",
      "id": "7e5c2aca",
      "metadata": {
        "id": "7e5c2aca"
      },
      "source": [
        "### Apply edmd to sgd trainied NN"
      ]
    },
    {
      "cell_type": "code",
      "execution_count": null,
      "id": "c89e0bba",
      "metadata": {
        "id": "c89e0bba"
      },
      "outputs": [],
      "source": [
        "w = np.load(\"./out/w_sgd_nn.pkl.npy\")"
      ]
    },
    {
      "cell_type": "code",
      "execution_count": null,
      "id": "238d3278",
      "metadata": {
        "scrolled": true,
        "colab": {
          "base_uri": "https://localhost:8080/"
        },
        "id": "238d3278",
        "outputId": "a7909f8d-e688-4d3f-c62c-626966bbd15b"
      },
      "outputs": [
        {
          "output_type": "execute_result",
          "data": {
            "text/plain": [
              "array([[-0.00326786, -0.02545078, -0.00450276, ...,  0.02462917,\n",
              "        -0.05136227,  0.30388868],\n",
              "       [-0.00326786, -0.02545078, -0.00450276, ...,  0.02470678,\n",
              "        -0.05131111,  0.30378413],\n",
              "       [-0.00326786, -0.02545078, -0.00450276, ...,  0.02470719,\n",
              "        -0.05132359,  0.30377361],\n",
              "       ...,\n",
              "       [-0.00326051, -0.02544208, -0.00449977, ...,  0.04023848,\n",
              "        -0.04711104,  0.26423621],\n",
              "       [-0.00326051, -0.02544208, -0.00449977, ...,  0.04029252,\n",
              "        -0.04714193,  0.26419175],\n",
              "       [-0.00326051, -0.02544208, -0.00449992, ...,  0.04022689,\n",
              "        -0.04712648,  0.26417667]])"
            ]
          },
          "metadata": {},
          "execution_count": 75
        }
      ],
      "source": [
        "w"
      ]
    },
    {
      "cell_type": "code",
      "execution_count": null,
      "id": "306adfd9",
      "metadata": {
        "colab": {
          "base_uri": "https://localhost:8080/"
        },
        "id": "306adfd9",
        "outputId": "a7c52eca-9fe6-47af-f546-7ed34fc115a8"
      },
      "outputs": [
        {
          "output_type": "execute_result",
          "data": {
            "text/plain": [
              "(1000, 3174)"
            ]
          },
          "metadata": {},
          "execution_count": 76
        }
      ],
      "source": [
        "w.shape"
      ]
    },
    {
      "cell_type": "code",
      "execution_count": null,
      "id": "2460697b",
      "metadata": {
        "scrolled": false,
        "colab": {
          "base_uri": "https://localhost:8080/"
        },
        "id": "2460697b",
        "outputId": "a45c2834-5a94-4e53-c9e3-f70bd690e399"
      },
      "outputs": [
        {
          "output_type": "stream",
          "name": "stdout",
          "text": [
            "Initialization complete\n",
            "Iteration 0, inertia 0.00010096989263609646\n",
            "Iteration 1, inertia 6.197285168912658e-05\n",
            "Converged at iteration 1: strict convergence.\n",
            "Initialization complete\n",
            "Iteration 0, inertia 0.00010096989263609646\n",
            "Iteration 1, inertia 6.197285168912658e-05\n",
            "Converged at iteration 1: strict convergence.\n"
          ]
        },
        {
          "output_type": "execute_result",
          "data": {
            "text/plain": [
              "array([[-0.00326094, -0.02544647, -0.00450721, ...,  0.03944255,\n",
              "        -0.04743619,  0.26741365],\n",
              "       [-0.00326697, -0.02544625, -0.00449525, ...,  0.02837653,\n",
              "        -0.04942124,  0.29294278],\n",
              "       [-0.00326375, -0.02544564, -0.00450178, ...,  0.03436438,\n",
              "        -0.04806807,  0.27968618],\n",
              "       ...,\n",
              "       [-0.00326681, -0.02544566, -0.00449816, ...,  0.02961277,\n",
              "        -0.04939905,  0.28945065],\n",
              "       [-0.0032639 , -0.02544622, -0.0045048 , ...,  0.03203251,\n",
              "        -0.0482736 ,  0.28377202],\n",
              "       [-0.00326374, -0.02544598, -0.00450472, ...,  0.03245549,\n",
              "        -0.04836662,  0.28334519]])"
            ]
          },
          "metadata": {},
          "execution_count": 77
        }
      ],
      "source": [
        "from sklearn.cluster import KMeans, MiniBatchKMeans\n",
        "\n",
        "kmeans = KMeans(600, verbose=1, init='k-means++', n_init=1, random_state=11)\n",
        "kmeans.fit(w)\n",
        "#def get_centers_knn():\n",
        "\n",
        "identified_clusters = kmeans.fit_predict(w)\n",
        "identified_clusters\n",
        "unique, counts = np.unique(identified_clusters, return_counts=True)\n",
        "\n",
        "centers = kmeans.cluster_centers_\n",
        "centers"
      ]
    },
    {
      "cell_type": "code",
      "execution_count": null,
      "id": "8ef61848",
      "metadata": {
        "colab": {
          "base_uri": "https://localhost:8080/"
        },
        "id": "8ef61848",
        "outputId": "2447fe7f-ba50-4ef8-a30f-425dadf98960"
      },
      "outputs": [
        {
          "output_type": "execute_result",
          "data": {
            "text/plain": [
              "(1000, 600)"
            ]
          },
          "metadata": {},
          "execution_count": 78
        }
      ],
      "source": [
        "w_t_transformed = np.apply_along_axis(lambda x: rbf_thin_plate(centers,x), 1, w)\n",
        "w_t_transformed.shape"
      ]
    },
    {
      "cell_type": "code",
      "execution_count": null,
      "id": "f894bbc5",
      "metadata": {
        "scrolled": true,
        "colab": {
          "base_uri": "https://localhost:8080/"
        },
        "id": "f894bbc5",
        "outputId": "946a0163-46fe-46b5-d270-00ff269d0e25"
      },
      "outputs": [
        {
          "output_type": "execute_result",
          "data": {
            "text/plain": [
              "(1000, 600)"
            ]
          },
          "metadata": {},
          "execution_count": 79
        }
      ],
      "source": [
        "w_t_transformed.shape"
      ]
    },
    {
      "cell_type": "code",
      "execution_count": null,
      "id": "3836699f",
      "metadata": {
        "colab": {
          "base_uri": "https://localhost:8080/"
        },
        "id": "3836699f",
        "outputId": "6aaf9e76-ec7a-4b8b-afdb-1b7a8849b7ca"
      },
      "outputs": [
        {
          "output_type": "execute_result",
          "data": {
            "text/plain": [
              "(1000, 3774)"
            ]
          },
          "metadata": {},
          "execution_count": 80
        }
      ],
      "source": [
        "w_t_combined = np.hstack((w_t_transformed, w))\n",
        "w_t_combined.shape"
      ]
    },
    {
      "cell_type": "code",
      "execution_count": null,
      "id": "7c227b0c",
      "metadata": {
        "id": "7c227b0c"
      },
      "outputs": [],
      "source": [
        "np.save(\"./out/w_t_combined_sgd.pkl\", w_t_combined)"
      ]
    },
    {
      "cell_type": "code",
      "execution_count": null,
      "id": "a0bf333e",
      "metadata": {
        "colab": {
          "base_uri": "https://localhost:8080/"
        },
        "id": "a0bf333e",
        "outputId": "a85375b6-a0ef-46e2-c7e1-d4a36170a9f5"
      },
      "outputs": [
        {
          "output_type": "execute_result",
          "data": {
            "text/plain": [
              "(1000, 3774)"
            ]
          },
          "metadata": {},
          "execution_count": 82
        }
      ],
      "source": [
        "w_t_combined = np.load(\"./out/w_t_combined_sgd.pkl.npy\")\n",
        "w_t_combined.shape"
      ]
    },
    {
      "cell_type": "code",
      "execution_count": null,
      "id": "c8b595fc",
      "metadata": {
        "colab": {
          "base_uri": "https://localhost:8080/"
        },
        "id": "c8b595fc",
        "outputId": "3204f1ae-5d1e-4924-d0fa-c0ee66623989"
      },
      "outputs": [
        {
          "output_type": "execute_result",
          "data": {
            "text/plain": [
              "(1000, 3774)"
            ]
          },
          "metadata": {},
          "execution_count": 83
        }
      ],
      "source": [
        "w_tsc = TSCDataFrame.from_single_timeseries(pd.DataFrame(w_t_combined))\n",
        "w_tsc.shape"
      ]
    },
    {
      "cell_type": "code",
      "execution_count": null,
      "id": "4ff8783c",
      "metadata": {
        "scrolled": false,
        "colab": {
          "base_uri": "https://localhost:8080/"
        },
        "id": "4ff8783c",
        "outputId": "71bc405d-d3dc-430f-bc79-b97f6dbd21c4"
      },
      "outputs": [
        {
          "output_type": "stream",
          "name": "stdout",
          "text": [
            "time delta: 1\n",
            "#time series: 1\n",
            "#time steps per time series: 1000\n",
            "(n_samples, n_features): (1000, 3774)\n",
            "time interval (0, 999)\n",
            "Same time values: True\n"
          ]
        }
      ],
      "source": [
        "print(f\"time delta: {w_tsc.delta_time}\")\n",
        "print(f\"#time series: {w_tsc.n_timeseries}\")\n",
        "print(f\"#time steps per time series: {w_tsc.n_timesteps}\")\n",
        "print(f\"(n_samples, n_features): {w_tsc.shape}\")\n",
        "print(f\"time interval {w_tsc.time_interval()}\")\n",
        "print(f\"Same time values: {w_tsc.is_same_time_values()}\")"
      ]
    },
    {
      "cell_type": "code",
      "execution_count": null,
      "id": "22d0e9fc",
      "metadata": {
        "colab": {
          "base_uri": "https://localhost:8080/"
        },
        "id": "22d0e9fc",
        "outputId": "034975cc-c630-4fa2-fc8d-48932e7946db"
      },
      "outputs": [
        {
          "output_type": "stream",
          "name": "stderr",
          "text": [
            "/usr/local/lib/python3.8/dist-packages/datafold/dynfold/dmd.py:1169: UserWarning: There are more observables than snapshots. The current implementation favors more snapshots than obserables. This may result in a bad computational performance.\n",
            "  warnings.warn(\n",
            "/usr/local/lib/python3.8/dist-packages/datafold/dynfold/dmd.py:1187: UserWarning: Shift matrix (shape=(3774, 3774)) has not full rank (=593), falling back to least squares solution. The sum of residuals is: 0.0\n",
            "  warnings.warn(\n"
          ]
        }
      ],
      "source": [
        "dict_step = [\n",
        "    (\n",
        "        \"identity\",\n",
        "        TSCIdentity()\n",
        "    )\n",
        "]\n",
        "\n",
        "edmd_sgd = EDMD(dict_steps=dict_step, include_id_state=False).fit(\n",
        "    X=w_tsc\n",
        ")  # Note that the \"extended\" part is in the transformations\n"
      ]
    },
    {
      "cell_type": "code",
      "execution_count": null,
      "id": "e467c6f4",
      "metadata": {
        "colab": {
          "base_uri": "https://localhost:8080/"
        },
        "id": "e467c6f4",
        "outputId": "38529c47-18c9-454a-d45a-656578ad8fd1"
      },
      "outputs": [
        {
          "output_type": "execute_result",
          "data": {
            "text/plain": [
              "EDMD(dict_steps=[('identity', TSCIdentity())], dmd_model=DMDFull(),\n",
              "     include_id_state=False)"
            ]
          },
          "metadata": {},
          "execution_count": 86
        }
      ],
      "source": [
        "edmd_sgd"
      ]
    },
    {
      "cell_type": "code",
      "execution_count": null,
      "id": "5924d04a",
      "metadata": {
        "id": "5924d04a"
      },
      "outputs": [],
      "source": [
        "import pickle\n",
        "with open('./out/edmd_sgd.pkl', 'wb') as outp:\n",
        "    pickle.dump(edmd_sgd, outp, pickle.HIGHEST_PROTOCOL)\n"
      ]
    },
    {
      "cell_type": "code",
      "execution_count": null,
      "id": "58b71ded",
      "metadata": {
        "id": "58b71ded"
      },
      "outputs": [],
      "source": [
        "with open('./out/edmd_sgd.pkl', 'rb') as inp:\n",
        "    edmd_sgd = pickle.load(inp)"
      ]
    },
    {
      "cell_type": "code",
      "execution_count": null,
      "id": "a368a0ca",
      "metadata": {
        "colab": {
          "base_uri": "https://localhost:8080/",
          "height": 281
        },
        "id": "a368a0ca",
        "outputId": "070921b1-2a80-4866-c86a-ba8cf0280784"
      },
      "outputs": [
        {
          "output_type": "display_data",
          "data": {
            "text/plain": [
              "<Figure size 432x288 with 1 Axes>"
            ],
            "image/png": "[encoded data removed]"
          },
          "metadata": {
            "needs_background": "light"
          }
        }
      ],
      "source": [
        "plt.plot(np.abs(edmd_sgd.koopman_eigenvalues), 'x')\n",
        "plt.title('Dominant eigenvalues');"
      ]
    },
    {
      "cell_type": "code",
      "source": [
        "sum(np.abs(edmd_sgd.koopman_eigenvalues) > 0.05)"
      ],
      "metadata": {
        "colab": {
          "base_uri": "https://localhost:8080/"
        },
        "id": "E3d6mjI8MShd",
        "outputId": "b2169a21-c7fd-4e0b-d873-456da00cb24d"
      },
      "id": "E3d6mjI8MShd",
      "execution_count": null,
      "outputs": [
        {
          "output_type": "execute_result",
          "data": {
            "text/plain": [
              "593"
            ]
          },
          "metadata": {},
          "execution_count": 91
        }
      ]
    },
    {
      "cell_type": "markdown",
      "id": "331a5fd6",
      "metadata": {
        "id": "331a5fd6"
      },
      "source": [
        "### Apply EDMD to SGD with momentum weights"
      ]
    },
    {
      "cell_type": "markdown",
      "source": [
        "#### Mom 0.5"
      ],
      "metadata": {
        "id": "53Dg6942L7Nr"
      },
      "id": "53Dg6942L7Nr"
    },
    {
      "cell_type": "code",
      "execution_count": null,
      "id": "6712bd42",
      "metadata": {
        "id": "6712bd42"
      },
      "outputs": [],
      "source": [
        "w = np.load(\"./out/w_sgd_mom_nn_05.pkl.npy\")"
      ]
    },
    {
      "cell_type": "code",
      "execution_count": null,
      "id": "5ea37681",
      "metadata": {
        "scrolled": true,
        "colab": {
          "base_uri": "https://localhost:8080/"
        },
        "id": "5ea37681",
        "outputId": "2d2b79a4-21ff-4ef8-d240-d4e74146af6c"
      },
      "outputs": [
        {
          "output_type": "execute_result",
          "data": {
            "text/plain": [
              "array([[-0.00326786, -0.02545078, -0.00450276, ...,  0.02462917,\n",
              "        -0.05136227,  0.30388868],\n",
              "       [-0.00326786, -0.02545078, -0.00450276, ...,  0.02470678,\n",
              "        -0.05131111,  0.30378413],\n",
              "       [-0.00326786, -0.02545078, -0.00450276, ...,  0.024746  ,\n",
              "        -0.05129801,  0.30372134],\n",
              "       ...,\n",
              "       [-0.00325144, -0.02541691, -0.00447384, ...,  0.06191796,\n",
              "        -0.0417525 ,  0.22644496],\n",
              "       [-0.00325143, -0.02541687, -0.00447383, ...,  0.06197811,\n",
              "        -0.04175567,  0.22635657],\n",
              "       [-0.00325143, -0.02541685, -0.00447398, ...,  0.06195034,\n",
              "        -0.04173821,  0.22630377]])"
            ]
          },
          "metadata": {},
          "execution_count": 94
        }
      ],
      "source": [
        "w"
      ]
    },
    {
      "cell_type": "code",
      "execution_count": null,
      "id": "f5b5b158",
      "metadata": {
        "colab": {
          "base_uri": "https://localhost:8080/"
        },
        "id": "f5b5b158",
        "outputId": "df644a63-8cf4-45fa-8e0a-2b3e27b7fdb8"
      },
      "outputs": [
        {
          "output_type": "execute_result",
          "data": {
            "text/plain": [
              "(1000, 3174)"
            ]
          },
          "metadata": {},
          "execution_count": 95
        }
      ],
      "source": [
        "w.shape"
      ]
    },
    {
      "cell_type": "code",
      "execution_count": null,
      "id": "00b38eda",
      "metadata": {
        "scrolled": false,
        "colab": {
          "base_uri": "https://localhost:8080/"
        },
        "id": "00b38eda",
        "outputId": "c482a5ed-241e-4dca-8654-083b1282f60c"
      },
      "outputs": [
        {
          "output_type": "stream",
          "name": "stdout",
          "text": [
            "Initialization complete\n",
            "Iteration 0, inertia 0.00027037780672324054\n",
            "Iteration 1, inertia 0.0001859395363075665\n",
            "Converged at iteration 1: strict convergence.\n",
            "Initialization complete\n",
            "Iteration 0, inertia 0.00027037780672324054\n",
            "Iteration 1, inertia 0.0001859395363075665\n",
            "Converged at iteration 1: strict convergence.\n"
          ]
        },
        {
          "output_type": "execute_result",
          "data": {
            "text/plain": [
              "array([[-0.00325293, -0.02542354, -0.00448956, ...,  0.0593981 ,\n",
              "        -0.04276667,  0.23225126],\n",
              "       [-0.00326545, -0.02544071, -0.00448269, ...,  0.03346431,\n",
              "        -0.04786838,  0.28030092],\n",
              "       [-0.00325887, -0.02542584, -0.00448782, ...,  0.04560074,\n",
              "        -0.04510813,  0.25657684],\n",
              "       ...,\n",
              "       [-0.00326601, -0.02544566, -0.0044916 , ...,  0.03238211,\n",
              "        -0.04803405,  0.28457716],\n",
              "       [-0.00325372, -0.02541838, -0.00447792, ...,  0.05768312,\n",
              "        -0.04347732,  0.23629159],\n",
              "       [-0.00325357, -0.02541787, -0.00447971, ...,  0.05806288,\n",
              "        -0.04345362,  0.23572476]])"
            ]
          },
          "metadata": {},
          "execution_count": 96
        }
      ],
      "source": [
        "from sklearn.cluster import KMeans, MiniBatchKMeans\n",
        "\n",
        "kmeans = KMeans(600, verbose=1, init='k-means++', n_init=1, random_state=11)\n",
        "kmeans.fit(w)\n",
        "#def get_centers_knn():\n",
        "\n",
        "identified_clusters = kmeans.fit_predict(w)\n",
        "identified_clusters\n",
        "unique, counts = np.unique(identified_clusters, return_counts=True)\n",
        "\n",
        "centers = kmeans.cluster_centers_\n",
        "centers"
      ]
    },
    {
      "cell_type": "code",
      "execution_count": null,
      "id": "bc23c0c8",
      "metadata": {
        "colab": {
          "base_uri": "https://localhost:8080/"
        },
        "id": "bc23c0c8",
        "outputId": "b3edfa14-d27c-4866-8936-b2b561c5a68e"
      },
      "outputs": [
        {
          "output_type": "execute_result",
          "data": {
            "text/plain": [
              "(1000, 600)"
            ]
          },
          "metadata": {},
          "execution_count": 97
        }
      ],
      "source": [
        "w_t_transformed = np.apply_along_axis(lambda x: rbf_thin_plate(centers,x), 1, w)\n",
        "w_t_transformed.shape"
      ]
    },
    {
      "cell_type": "code",
      "execution_count": null,
      "id": "94ac8ab7",
      "metadata": {
        "scrolled": true,
        "colab": {
          "base_uri": "https://localhost:8080/"
        },
        "id": "94ac8ab7",
        "outputId": "5cb5bc6b-94bc-4d52-943c-94ba5cdadeae"
      },
      "outputs": [
        {
          "output_type": "execute_result",
          "data": {
            "text/plain": [
              "(1000, 600)"
            ]
          },
          "metadata": {},
          "execution_count": 98
        }
      ],
      "source": [
        "w_t_transformed.shape"
      ]
    },
    {
      "cell_type": "code",
      "execution_count": null,
      "id": "e29e4c7d",
      "metadata": {
        "colab": {
          "base_uri": "https://localhost:8080/"
        },
        "id": "e29e4c7d",
        "outputId": "9c33b6b7-c737-4465-cd6c-983600a0f3e6"
      },
      "outputs": [
        {
          "output_type": "execute_result",
          "data": {
            "text/plain": [
              "(1000, 3774)"
            ]
          },
          "metadata": {},
          "execution_count": 99
        }
      ],
      "source": [
        "w_t_combined = np.hstack((w_t_transformed, w))\n",
        "w_t_combined.shape"
      ]
    },
    {
      "cell_type": "code",
      "execution_count": null,
      "id": "fbb6ed27",
      "metadata": {
        "id": "fbb6ed27"
      },
      "outputs": [],
      "source": [
        "np.save(\"./out/w_t_combined_sgd_mom_05.pkl\", w_t_combined)"
      ]
    },
    {
      "cell_type": "code",
      "execution_count": null,
      "id": "6cd51a07",
      "metadata": {
        "colab": {
          "base_uri": "https://localhost:8080/"
        },
        "id": "6cd51a07",
        "outputId": "76775781-6347-44c0-dcfa-d8aafd1ca8cf"
      },
      "outputs": [
        {
          "output_type": "execute_result",
          "data": {
            "text/plain": [
              "(1000, 3774)"
            ]
          },
          "metadata": {},
          "execution_count": 103
        }
      ],
      "source": [
        "w_t_combined = np.load(\"./out/w_t_combined_sgd_mom_05.pkl.npy\")\n",
        "w_t_combined.shape"
      ]
    },
    {
      "cell_type": "code",
      "execution_count": null,
      "id": "2ffa4db7",
      "metadata": {
        "colab": {
          "base_uri": "https://localhost:8080/"
        },
        "id": "2ffa4db7",
        "outputId": "a7edf65b-a3c1-421c-a059-1535c349ada9"
      },
      "outputs": [
        {
          "output_type": "execute_result",
          "data": {
            "text/plain": [
              "(1000, 3774)"
            ]
          },
          "metadata": {},
          "execution_count": 104
        }
      ],
      "source": [
        "w_tsc = TSCDataFrame.from_single_timeseries(pd.DataFrame(w_t_combined))\n",
        "w_tsc.shape"
      ]
    },
    {
      "cell_type": "code",
      "execution_count": null,
      "id": "c857da95",
      "metadata": {
        "scrolled": false,
        "colab": {
          "base_uri": "https://localhost:8080/"
        },
        "id": "c857da95",
        "outputId": "13dd8148-92a0-4d7f-efd4-bb17421066b5"
      },
      "outputs": [
        {
          "output_type": "stream",
          "name": "stdout",
          "text": [
            "time delta: 1\n",
            "#time series: 1\n",
            "#time steps per time series: 1000\n",
            "(n_samples, n_features): (1000, 3774)\n",
            "time interval (0, 999)\n",
            "Same time values: True\n"
          ]
        }
      ],
      "source": [
        "print(f\"time delta: {w_tsc.delta_time}\")\n",
        "print(f\"#time series: {w_tsc.n_timeseries}\")\n",
        "print(f\"#time steps per time series: {w_tsc.n_timesteps}\")\n",
        "print(f\"(n_samples, n_features): {w_tsc.shape}\")\n",
        "print(f\"time interval {w_tsc.time_interval()}\")\n",
        "print(f\"Same time values: {w_tsc.is_same_time_values()}\")"
      ]
    },
    {
      "cell_type": "code",
      "execution_count": null,
      "id": "c531b296",
      "metadata": {
        "colab": {
          "base_uri": "https://localhost:8080/"
        },
        "id": "c531b296",
        "outputId": "8fa86ccf-ea4d-4deb-eb35-8fb58e5ad71c"
      },
      "outputs": [
        {
          "output_type": "stream",
          "name": "stderr",
          "text": [
            "/usr/local/lib/python3.8/dist-packages/datafold/dynfold/dmd.py:1169: UserWarning: There are more observables than snapshots. The current implementation favors more snapshots than obserables. This may result in a bad computational performance.\n",
            "  warnings.warn(\n",
            "/usr/local/lib/python3.8/dist-packages/datafold/dynfold/dmd.py:1187: UserWarning: Shift matrix (shape=(3774, 3774)) has not full rank (=529), falling back to least squares solution. The sum of residuals is: 0.0\n",
            "  warnings.warn(\n"
          ]
        }
      ],
      "source": [
        "dict_step = [\n",
        "    (\n",
        "        \"identity\",\n",
        "        TSCIdentity()\n",
        "    )\n",
        "]\n",
        "\n",
        "edmd_sgd_mom_05 = EDMD(dict_steps=dict_step, include_id_state=False).fit(\n",
        "    X=w_tsc\n",
        ")  # Note that the \"extended\" part is in the transformations\n"
      ]
    },
    {
      "cell_type": "code",
      "execution_count": null,
      "id": "9337f3e6",
      "metadata": {
        "colab": {
          "base_uri": "https://localhost:8080/"
        },
        "id": "9337f3e6",
        "outputId": "3ed2eb05-6e5b-4143-b65f-50bd551b0498"
      },
      "outputs": [
        {
          "output_type": "execute_result",
          "data": {
            "text/plain": [
              "EDMD(dict_steps=[('identity', TSCIdentity())], dmd_model=DMDFull(),\n",
              "     include_id_state=False)"
            ]
          },
          "metadata": {},
          "execution_count": 108
        }
      ],
      "source": [
        "edmd_sgd_mom_05"
      ]
    },
    {
      "cell_type": "code",
      "execution_count": null,
      "id": "eb4f5e5e",
      "metadata": {
        "id": "eb4f5e5e"
      },
      "outputs": [],
      "source": [
        "import pickle\n",
        "with open('./out/edmd_sgd_mom_05.pkl', 'wb') as outp:\n",
        "    pickle.dump(edmd_sgd_mom_05, outp, pickle.HIGHEST_PROTOCOL)\n"
      ]
    },
    {
      "cell_type": "code",
      "execution_count": null,
      "id": "f2cfdf99",
      "metadata": {
        "colab": {
          "base_uri": "https://localhost:8080/"
        },
        "id": "f2cfdf99",
        "outputId": "9db32055-8238-4d2f-906f-94fd42386c1a"
      },
      "outputs": [
        {
          "output_type": "stream",
          "name": "stderr",
          "text": [
            "/usr/local/lib/python3.8/dist-packages/sklearn/base.py:310: UserWarning: Trying to unpickle estimator MinMaxScaler from version 1.0.2 when using version 0.24.2. This might lead to breaking code or invalid results. Use at your own risk.\n",
            "  warnings.warn(\n"
          ]
        }
      ],
      "source": [
        "with open('./out/edmd_sgd_mom_05.pkl', 'rb') as inp:\n",
        "    edmd_sgd_mom_05 = pickle.load(inp)"
      ]
    },
    {
      "cell_type": "code",
      "execution_count": null,
      "id": "730821ed",
      "metadata": {
        "colab": {
          "base_uri": "https://localhost:8080/",
          "height": 281
        },
        "id": "730821ed",
        "outputId": "33c0085b-04fb-4945-8c1d-5e06b6c4e610"
      },
      "outputs": [
        {
          "output_type": "display_data",
          "data": {
            "text/plain": [
              "<Figure size 432x288 with 1 Axes>"
            ],
            "image/png": "[encoded data removed]"
          },
          "metadata": {
            "needs_background": "light"
          }
        }
      ],
      "source": [
        "plt.plot(np.abs(edmd_sgd_mom_05.koopman_eigenvalues), 'x')\n",
        "plt.title('Dominant eigenvalues');"
      ]
    },
    {
      "cell_type": "code",
      "execution_count": null,
      "id": "8a0e3a10",
      "metadata": {
        "colab": {
          "base_uri": "https://localhost:8080/"
        },
        "id": "8a0e3a10",
        "outputId": "673cdee0-3150-4422-951e-fa115b696223"
      },
      "outputs": [
        {
          "output_type": "execute_result",
          "data": {
            "text/plain": [
              "529"
            ]
          },
          "metadata": {},
          "execution_count": 111
        }
      ],
      "source": [
        "sum(np.abs(edmd_sgd_mom_05.koopman_eigenvalues) > 0.05)"
      ]
    },
    {
      "cell_type": "markdown",
      "source": [
        "#### Mom 0.8"
      ],
      "metadata": {
        "id": "UEY5hv1QOwgc"
      },
      "id": "UEY5hv1QOwgc"
    },
    {
      "cell_type": "code",
      "execution_count": null,
      "metadata": {
        "id": "vzJRvzToOwgc"
      },
      "outputs": [],
      "source": [
        "w = np.load(\"./out/w_sgd_mom_nn_08.pkl.npy\")"
      ],
      "id": "vzJRvzToOwgc"
    },
    {
      "cell_type": "code",
      "execution_count": null,
      "metadata": {
        "scrolled": true,
        "colab": {
          "base_uri": "https://localhost:8080/"
        },
        "outputId": "a6d15082-2b08-48c8-96a2-79e5be46d170",
        "id": "ijui3SuFOwgc"
      },
      "outputs": [
        {
          "output_type": "execute_result",
          "data": {
            "text/plain": [
              "array([[-0.00326786, -0.02545078, -0.00450276, ...,  0.02462917,\n",
              "        -0.05136227,  0.30388868],\n",
              "       [-0.00326786, -0.02545078, -0.00450276, ...,  0.02470678,\n",
              "        -0.05131111,  0.30378413],\n",
              "       [-0.00326786, -0.02545078, -0.00450276, ...,  0.02476929,\n",
              "        -0.05128266,  0.30368996],\n",
              "       ...,\n",
              "       [-0.00321885, -0.02537124, -0.00439638, ...,  0.15275468,\n",
              "        -0.06314471,  0.21205558],\n",
              "       [-0.0032188 , -0.02537095, -0.00439616, ...,  0.15291004,\n",
              "        -0.06327224,  0.21213308],\n",
              "       [-0.00321876, -0.02537071, -0.00439551, ...,  0.15299197,\n",
              "        -0.06337737,  0.21223491]])"
            ]
          },
          "metadata": {},
          "execution_count": 116
        }
      ],
      "source": [
        "w"
      ],
      "id": "ijui3SuFOwgc"
    },
    {
      "cell_type": "code",
      "execution_count": null,
      "metadata": {
        "colab": {
          "base_uri": "https://localhost:8080/"
        },
        "outputId": "b4db437d-0612-4a37-b33f-8ebb8c59c3ef",
        "id": "bxZnY5VcOwgd"
      },
      "outputs": [
        {
          "output_type": "execute_result",
          "data": {
            "text/plain": [
              "(1000, 3174)"
            ]
          },
          "metadata": {},
          "execution_count": 117
        }
      ],
      "source": [
        "w.shape"
      ],
      "id": "bxZnY5VcOwgd"
    },
    {
      "cell_type": "code",
      "execution_count": null,
      "metadata": {
        "scrolled": false,
        "colab": {
          "base_uri": "https://localhost:8080/"
        },
        "outputId": "b0d22376-9dff-4763-8fda-18ddd916e46b",
        "id": "bVMXshjJOwgd"
      },
      "outputs": [
        {
          "output_type": "stream",
          "name": "stdout",
          "text": [
            "Initialization complete\n",
            "Iteration 0, inertia 0.0016575281310299422\n",
            "Iteration 1, inertia 0.0012767019846838803\n",
            "Iteration 2, inertia 0.001273330339454698\n",
            "Converged at iteration 2: strict convergence.\n",
            "Initialization complete\n",
            "Iteration 0, inertia 0.0016575281310299422\n",
            "Iteration 1, inertia 0.0012767019846838803\n",
            "Iteration 2, inertia 0.001273330339454698\n",
            "Converged at iteration 2: strict convergence.\n"
          ]
        },
        {
          "output_type": "execute_result",
          "data": {
            "text/plain": [
              "array([[-0.00322716, -0.02539619, -0.00447398, ...,  0.14248624,\n",
              "        -0.05378844,  0.20486531],\n",
              "       [-0.00326641, -0.02543068, -0.00449692, ...,  0.05253762,\n",
              "        -0.04264835,  0.24096201],\n",
              "       [-0.00325141, -0.02540014, -0.00451151, ...,  0.09474239,\n",
              "        -0.03226646,  0.1948543 ],\n",
              "       ...,\n",
              "       [-0.00325149, -0.02539894, -0.004507  , ...,  0.09037218,\n",
              "        -0.03305033,  0.19671032],\n",
              "       [-0.00324066, -0.02536292, -0.00445455, ...,  0.12190988,\n",
              "        -0.0385679 ,  0.1966453 ],\n",
              "       [-0.00324058, -0.02535796, -0.00444188, ...,  0.12707405,\n",
              "        -0.04202028,  0.19921158]])"
            ]
          },
          "metadata": {},
          "execution_count": 118
        }
      ],
      "source": [
        "from sklearn.cluster import KMeans, MiniBatchKMeans\n",
        "\n",
        "kmeans = KMeans(600, verbose=1, init='k-means++', n_init=1, random_state=11)\n",
        "kmeans.fit(w)\n",
        "#def get_centers_knn():\n",
        "\n",
        "identified_clusters = kmeans.fit_predict(w)\n",
        "identified_clusters\n",
        "unique, counts = np.unique(identified_clusters, return_counts=True)\n",
        "\n",
        "centers = kmeans.cluster_centers_\n",
        "centers"
      ],
      "id": "bVMXshjJOwgd"
    },
    {
      "cell_type": "code",
      "execution_count": null,
      "metadata": {
        "colab": {
          "base_uri": "https://localhost:8080/"
        },
        "outputId": "f327a848-ce02-4cac-faf8-e3def153279d",
        "id": "QcTuPnQbOwgd"
      },
      "outputs": [
        {
          "output_type": "execute_result",
          "data": {
            "text/plain": [
              "(1000, 600)"
            ]
          },
          "metadata": {},
          "execution_count": 119
        }
      ],
      "source": [
        "w_t_transformed = np.apply_along_axis(lambda x: rbf_thin_plate(centers,x), 1, w)\n",
        "w_t_transformed.shape"
      ],
      "id": "QcTuPnQbOwgd"
    },
    {
      "cell_type": "code",
      "execution_count": null,
      "metadata": {
        "scrolled": true,
        "colab": {
          "base_uri": "https://localhost:8080/"
        },
        "outputId": "03e933fe-6e7d-42e2-be60-5049e257cb83",
        "id": "FVHbdH7eOwgd"
      },
      "outputs": [
        {
          "output_type": "execute_result",
          "data": {
            "text/plain": [
              "(1000, 600)"
            ]
          },
          "metadata": {},
          "execution_count": 120
        }
      ],
      "source": [
        "w_t_transformed.shape"
      ],
      "id": "FVHbdH7eOwgd"
    },
    {
      "cell_type": "code",
      "execution_count": null,
      "metadata": {
        "colab": {
          "base_uri": "https://localhost:8080/"
        },
        "outputId": "3fb4489e-1932-4fc3-9056-5de5381e1125",
        "id": "jQzrDC83Owgd"
      },
      "outputs": [
        {
          "output_type": "execute_result",
          "data": {
            "text/plain": [
              "(1000, 3774)"
            ]
          },
          "metadata": {},
          "execution_count": 121
        }
      ],
      "source": [
        "w_t_combined = np.hstack((w_t_transformed, w))\n",
        "w_t_combined.shape"
      ],
      "id": "jQzrDC83Owgd"
    },
    {
      "cell_type": "code",
      "execution_count": null,
      "metadata": {
        "id": "TCrdBLL5Owgd"
      },
      "outputs": [],
      "source": [
        "np.save(\"./out/w_t_combined_sgd_mom_08.pkl\", w_t_combined)"
      ],
      "id": "TCrdBLL5Owgd"
    },
    {
      "cell_type": "code",
      "execution_count": null,
      "metadata": {
        "colab": {
          "base_uri": "https://localhost:8080/"
        },
        "outputId": "758bdb93-d2fb-4111-9dee-30644cde5d13",
        "id": "GI6D_nJzOwgd"
      },
      "outputs": [
        {
          "output_type": "execute_result",
          "data": {
            "text/plain": [
              "(1000, 3774)"
            ]
          },
          "metadata": {},
          "execution_count": 123
        }
      ],
      "source": [
        "w_t_combined = np.load(\"./out/w_t_combined_sgd_mom_08.pkl.npy\")\n",
        "w_t_combined.shape"
      ],
      "id": "GI6D_nJzOwgd"
    },
    {
      "cell_type": "code",
      "execution_count": null,
      "metadata": {
        "colab": {
          "base_uri": "https://localhost:8080/"
        },
        "outputId": "2ee33bdc-4fd2-42f8-ccc9-84c71581d57d",
        "id": "CqUQ5e6_Owge"
      },
      "outputs": [
        {
          "output_type": "execute_result",
          "data": {
            "text/plain": [
              "(1000, 3774)"
            ]
          },
          "metadata": {},
          "execution_count": 124
        }
      ],
      "source": [
        "w_tsc = TSCDataFrame.from_single_timeseries(pd.DataFrame(w_t_combined))\n",
        "w_tsc.shape"
      ],
      "id": "CqUQ5e6_Owge"
    },
    {
      "cell_type": "code",
      "execution_count": null,
      "metadata": {
        "scrolled": false,
        "colab": {
          "base_uri": "https://localhost:8080/"
        },
        "outputId": "1a34540f-24aa-41de-8832-11e402fa2bd1",
        "id": "29STD98AOwge"
      },
      "outputs": [
        {
          "output_type": "stream",
          "name": "stdout",
          "text": [
            "time delta: 1\n",
            "#time series: 1\n",
            "#time steps per time series: 1000\n",
            "(n_samples, n_features): (1000, 3774)\n",
            "time interval (0, 999)\n",
            "Same time values: True\n"
          ]
        }
      ],
      "source": [
        "print(f\"time delta: {w_tsc.delta_time}\")\n",
        "print(f\"#time series: {w_tsc.n_timeseries}\")\n",
        "print(f\"#time steps per time series: {w_tsc.n_timesteps}\")\n",
        "print(f\"(n_samples, n_features): {w_tsc.shape}\")\n",
        "print(f\"time interval {w_tsc.time_interval()}\")\n",
        "print(f\"Same time values: {w_tsc.is_same_time_values()}\")"
      ],
      "id": "29STD98AOwge"
    },
    {
      "cell_type": "code",
      "execution_count": null,
      "metadata": {
        "colab": {
          "base_uri": "https://localhost:8080/"
        },
        "outputId": "2796af57-5cfd-47a5-9fef-52f80a80d306",
        "id": "veFIBX5POwge"
      },
      "outputs": [
        {
          "output_type": "stream",
          "name": "stderr",
          "text": [
            "/usr/local/lib/python3.8/dist-packages/datafold/dynfold/dmd.py:1169: UserWarning: There are more observables than snapshots. The current implementation favors more snapshots than obserables. This may result in a bad computational performance.\n",
            "  warnings.warn(\n",
            "/usr/local/lib/python3.8/dist-packages/datafold/dynfold/dmd.py:1187: UserWarning: Shift matrix (shape=(3774, 3774)) has not full rank (=427), falling back to least squares solution. The sum of residuals is: 0.0\n",
            "  warnings.warn(\n"
          ]
        }
      ],
      "source": [
        "dict_step = [\n",
        "    (\n",
        "        \"identity\",\n",
        "        TSCIdentity()\n",
        "    )\n",
        "]\n",
        "\n",
        "edmd_sgd_mom_08 = EDMD(dict_steps=dict_step, include_id_state=False).fit(\n",
        "    X=w_tsc\n",
        ")  # Note that the \"extended\" part is in the transformations\n"
      ],
      "id": "veFIBX5POwge"
    },
    {
      "cell_type": "code",
      "execution_count": null,
      "metadata": {
        "colab": {
          "base_uri": "https://localhost:8080/"
        },
        "outputId": "fb90f5e1-e7ac-4cfc-ccb9-905248f9752a",
        "id": "K-azFlgJOwge"
      },
      "outputs": [
        {
          "output_type": "execute_result",
          "data": {
            "text/plain": [
              "EDMD(dict_steps=[('identity', TSCIdentity())], dmd_model=DMDFull(),\n",
              "     include_id_state=False)"
            ]
          },
          "metadata": {},
          "execution_count": 127
        }
      ],
      "source": [
        "edmd_sgd_mom_08"
      ],
      "id": "K-azFlgJOwge"
    },
    {
      "cell_type": "code",
      "execution_count": null,
      "metadata": {
        "id": "UMi0_69ROwge"
      },
      "outputs": [],
      "source": [
        "import pickle\n",
        "with open('./out/edmd_sgd_mom_08.pkl', 'wb') as outp:\n",
        "    pickle.dump(edmd_sgd_mom_08, outp, pickle.HIGHEST_PROTOCOL)\n"
      ],
      "id": "UMi0_69ROwge"
    },
    {
      "cell_type": "code",
      "execution_count": null,
      "metadata": {
        "colab": {
          "base_uri": "https://localhost:8080/"
        },
        "outputId": "f2aff490-178b-46b0-a2de-3e3b1f60159e",
        "id": "gmgAXskQOwge"
      },
      "outputs": [
        {
          "output_type": "stream",
          "name": "stderr",
          "text": [
            "/usr/local/lib/python3.8/dist-packages/sklearn/base.py:310: UserWarning: Trying to unpickle estimator MinMaxScaler from version 1.0.2 when using version 0.24.2. This might lead to breaking code or invalid results. Use at your own risk.\n",
            "  warnings.warn(\n"
          ]
        }
      ],
      "source": [
        "with open('./out/edmd_sgd_mom_08.pkl', 'rb') as inp:\n",
        "    edmd_sgd_mom_08 = pickle.load(inp)"
      ],
      "id": "gmgAXskQOwge"
    },
    {
      "cell_type": "code",
      "execution_count": null,
      "metadata": {
        "colab": {
          "base_uri": "https://localhost:8080/",
          "height": 281
        },
        "outputId": "ff2c3fa0-6e21-4d10-86fd-426b40080871",
        "id": "i0_aNN6COwge"
      },
      "outputs": [
        {
          "output_type": "display_data",
          "data": {
            "text/plain": [
              "<Figure size 432x288 with 1 Axes>"
            ],
            "image/png": "[encoded data removed]"
          },
          "metadata": {
            "needs_background": "light"
          }
        }
      ],
      "source": [
        "plt.plot(np.abs(edmd_sgd_mom_08.koopman_eigenvalues), 'x')\n",
        "plt.title('Dominant eigenvalues');"
      ],
      "id": "i0_aNN6COwge"
    },
    {
      "cell_type": "code",
      "execution_count": null,
      "metadata": {
        "colab": {
          "base_uri": "https://localhost:8080/"
        },
        "outputId": "8a71a50d-c495-4b02-91c1-bf858c36fdff",
        "id": "-JIPbxVDOwge"
      },
      "outputs": [
        {
          "output_type": "execute_result",
          "data": {
            "text/plain": [
              "426"
            ]
          },
          "metadata": {},
          "execution_count": 14
        }
      ],
      "source": [
        "sum(np.abs(edmd_sgd_mom_08.koopman_eigenvalues) > 0.05)"
      ],
      "id": "-JIPbxVDOwge"
    },
    {
      "cell_type": "markdown",
      "source": [
        "#### Mom 0.9"
      ],
      "metadata": {
        "id": "0Qt2hdpCO8To"
      },
      "id": "0Qt2hdpCO8To"
    },
    {
      "cell_type": "code",
      "execution_count": null,
      "metadata": {
        "id": "Tn6VgjT1O8Tp"
      },
      "outputs": [],
      "source": [
        "w = np.load(\"./out/w_sgd_mom_nn_09.pkl.npy\")"
      ],
      "id": "Tn6VgjT1O8Tp"
    },
    {
      "cell_type": "code",
      "execution_count": null,
      "metadata": {
        "scrolled": true,
        "colab": {
          "base_uri": "https://localhost:8080/"
        },
        "outputId": "5b9c1f7c-160f-4900-ba87-4cdbfde14d7b",
        "id": "ByW3XXqFO8Tp"
      },
      "outputs": [
        {
          "output_type": "execute_result",
          "data": {
            "text/plain": [
              "array([[-0.00326786, -0.02545078, -0.00450276, ...,  0.02462917,\n",
              "        -0.05136227,  0.30388868],\n",
              "       [-0.00326786, -0.02545078, -0.00450276, ...,  0.02470678,\n",
              "        -0.05131111,  0.30378413],\n",
              "       [-0.00326786, -0.02545078, -0.00450276, ...,  0.02477705,\n",
              "        -0.05127754,  0.30367953],\n",
              "       ...,\n",
              "       [-0.00308363, -0.02494684, -0.00330313, ...,  0.22851153,\n",
              "        -0.12763649,  0.24968919],\n",
              "       [-0.00308341, -0.0249458 , -0.00329963, ...,  0.22861886,\n",
              "        -0.12774314,  0.24970017],\n",
              "       [-0.00308321, -0.02494487, -0.00329689, ...,  0.22868338,\n",
              "        -0.1278304 ,  0.24971782]])"
            ]
          },
          "metadata": {},
          "execution_count": 16
        }
      ],
      "source": [
        "w"
      ],
      "id": "ByW3XXqFO8Tp"
    },
    {
      "cell_type": "code",
      "execution_count": null,
      "metadata": {
        "colab": {
          "base_uri": "https://localhost:8080/"
        },
        "outputId": "44a40845-5d96-4736-ba28-432bdcbb2af3",
        "id": "Ts5tneAAO8Tq"
      },
      "outputs": [
        {
          "output_type": "execute_result",
          "data": {
            "text/plain": [
              "(1000, 3174)"
            ]
          },
          "metadata": {},
          "execution_count": 17
        }
      ],
      "source": [
        "w.shape"
      ],
      "id": "Ts5tneAAO8Tq"
    },
    {
      "cell_type": "code",
      "execution_count": null,
      "metadata": {
        "scrolled": false,
        "colab": {
          "base_uri": "https://localhost:8080/"
        },
        "outputId": "fa500504-8ac2-4227-dafd-284bb1bd8d33",
        "id": "9OQKEx0NO8Tr"
      },
      "outputs": [
        {
          "output_type": "stream",
          "name": "stdout",
          "text": [
            "Initialization complete\n",
            "Iteration 0, inertia 0.0057976650744064615\n",
            "Iteration 1, inertia 0.0043938296503178665\n",
            "Iteration 2, inertia 0.0043783313714512535\n",
            "Converged at iteration 2: strict convergence.\n",
            "Initialization complete\n",
            "Iteration 0, inertia 0.0057976650744064615\n",
            "Iteration 1, inertia 0.0043938296503178665\n",
            "Iteration 2, inertia 0.0043783313714512535\n",
            "Converged at iteration 2: strict convergence.\n"
          ]
        },
        {
          "output_type": "execute_result",
          "data": {
            "text/plain": [
              "array([[-0.0031179 , -0.02504632, -0.00366455, ...,  0.22248554,\n",
              "        -0.11901774,  0.24461748],\n",
              "       [-0.0032635 , -0.02543513, -0.00443349, ...,  0.0840817 ,\n",
              "        -0.02988173,  0.19040865],\n",
              "       [-0.00325567, -0.02531766, -0.00432778, ...,  0.17974314,\n",
              "        -0.06887129,  0.20737661],\n",
              "       ...,\n",
              "       [-0.00326338, -0.02543479, -0.00444719, ...,  0.08531627,\n",
              "        -0.02988857,  0.18927246],\n",
              "       [-0.00327255, -0.02539268, -0.00446976, ...,  0.12906565,\n",
              "        -0.03088484,  0.17825367],\n",
              "       [-0.00329071, -0.02546409, -0.00450256, ...,  0.09777693,\n",
              "        -0.02855275,  0.17692459]])"
            ]
          },
          "metadata": {},
          "execution_count": 18
        }
      ],
      "source": [
        "from sklearn.cluster import KMeans, MiniBatchKMeans\n",
        "\n",
        "kmeans = KMeans(600, verbose=1, init='k-means++', n_init=1, random_state=11)\n",
        "kmeans.fit(w)\n",
        "#def get_centers_knn():\n",
        "\n",
        "identified_clusters = kmeans.fit_predict(w)\n",
        "identified_clusters\n",
        "unique, counts = np.unique(identified_clusters, return_counts=True)\n",
        "\n",
        "centers = kmeans.cluster_centers_\n",
        "centers"
      ],
      "id": "9OQKEx0NO8Tr"
    },
    {
      "cell_type": "code",
      "execution_count": null,
      "metadata": {
        "id": "YPO65EOcO8Tr",
        "colab": {
          "base_uri": "https://localhost:8080/"
        },
        "outputId": "afbd36ac-c100-4873-a80c-4edbc2f64146"
      },
      "outputs": [
        {
          "output_type": "execute_result",
          "data": {
            "text/plain": [
              "(1000, 600)"
            ]
          },
          "metadata": {},
          "execution_count": 19
        }
      ],
      "source": [
        "w_t_transformed = np.apply_along_axis(lambda x: rbf_thin_plate(centers,x), 1, w)\n",
        "w_t_transformed.shape"
      ],
      "id": "YPO65EOcO8Tr"
    },
    {
      "cell_type": "code",
      "execution_count": null,
      "metadata": {
        "scrolled": true,
        "id": "IGYLXAy5O8Ts",
        "colab": {
          "base_uri": "https://localhost:8080/"
        },
        "outputId": "bb589b58-d876-4af0-fa57-9836fc735b86"
      },
      "outputs": [
        {
          "output_type": "execute_result",
          "data": {
            "text/plain": [
              "(1000, 600)"
            ]
          },
          "metadata": {},
          "execution_count": 20
        }
      ],
      "source": [
        "w_t_transformed.shape"
      ],
      "id": "IGYLXAy5O8Ts"
    },
    {
      "cell_type": "code",
      "execution_count": null,
      "metadata": {
        "id": "WMVRXnK5O8Ts",
        "colab": {
          "base_uri": "https://localhost:8080/"
        },
        "outputId": "c4afdb92-d257-40e8-f8fb-8f27d9dbe947"
      },
      "outputs": [
        {
          "output_type": "execute_result",
          "data": {
            "text/plain": [
              "(1000, 3774)"
            ]
          },
          "metadata": {},
          "execution_count": 21
        }
      ],
      "source": [
        "w_t_combined = np.hstack((w_t_transformed, w))\n",
        "w_t_combined.shape"
      ],
      "id": "WMVRXnK5O8Ts"
    },
    {
      "cell_type": "code",
      "execution_count": null,
      "metadata": {
        "id": "nCytBp-5O8Tt"
      },
      "outputs": [],
      "source": [
        "np.save(\"./out/w_t_combined_sgd_mom_09.pkl\", w_t_combined)"
      ],
      "id": "nCytBp-5O8Tt"
    },
    {
      "cell_type": "code",
      "execution_count": null,
      "metadata": {
        "id": "9nlGNdUqO8Tt",
        "colab": {
          "base_uri": "https://localhost:8080/"
        },
        "outputId": "85a077f4-f2af-46c0-e1c3-997b5ef8869d"
      },
      "outputs": [
        {
          "output_type": "execute_result",
          "data": {
            "text/plain": [
              "(1000, 3774)"
            ]
          },
          "metadata": {},
          "execution_count": 23
        }
      ],
      "source": [
        "w_t_combined = np.load(\"./out/w_t_combined_sgd_mom_09.pkl.npy\")\n",
        "w_t_combined.shape"
      ],
      "id": "9nlGNdUqO8Tt"
    },
    {
      "cell_type": "code",
      "execution_count": null,
      "metadata": {
        "id": "JrvfnhTfO8Tu",
        "colab": {
          "base_uri": "https://localhost:8080/"
        },
        "outputId": "00f79abd-3144-4ae0-bd3e-7a8d048080a9"
      },
      "outputs": [
        {
          "output_type": "execute_result",
          "data": {
            "text/plain": [
              "(1000, 3774)"
            ]
          },
          "metadata": {},
          "execution_count": 24
        }
      ],
      "source": [
        "w_tsc = TSCDataFrame.from_single_timeseries(pd.DataFrame(w_t_combined))\n",
        "w_tsc.shape"
      ],
      "id": "JrvfnhTfO8Tu"
    },
    {
      "cell_type": "code",
      "execution_count": null,
      "metadata": {
        "scrolled": false,
        "id": "rddkiHYwO8Tu",
        "colab": {
          "base_uri": "https://localhost:8080/"
        },
        "outputId": "efaaace1-29e9-4900-83cc-66ab2887158f"
      },
      "outputs": [
        {
          "output_type": "stream",
          "name": "stdout",
          "text": [
            "time delta: 1\n",
            "#time series: 1\n",
            "#time steps per time series: 1000\n",
            "(n_samples, n_features): (1000, 3774)\n",
            "time interval (0, 999)\n",
            "Same time values: True\n"
          ]
        }
      ],
      "source": [
        "print(f\"time delta: {w_tsc.delta_time}\")\n",
        "print(f\"#time series: {w_tsc.n_timeseries}\")\n",
        "print(f\"#time steps per time series: {w_tsc.n_timesteps}\")\n",
        "print(f\"(n_samples, n_features): {w_tsc.shape}\")\n",
        "print(f\"time interval {w_tsc.time_interval()}\")\n",
        "print(f\"Same time values: {w_tsc.is_same_time_values()}\")"
      ],
      "id": "rddkiHYwO8Tu"
    },
    {
      "cell_type": "code",
      "execution_count": null,
      "metadata": {
        "id": "dR2HD13KO8Tu",
        "colab": {
          "base_uri": "https://localhost:8080/"
        },
        "outputId": "fa15d4a3-a64b-4c2e-ac60-81f4779accb2"
      },
      "outputs": [
        {
          "output_type": "stream",
          "name": "stderr",
          "text": [
            "/usr/local/lib/python3.8/dist-packages/datafold/dynfold/dmd.py:1169: UserWarning: There are more observables than snapshots. The current implementation favors more snapshots than obserables. This may result in a bad computational performance.\n",
            "  warnings.warn(\n",
            "/usr/local/lib/python3.8/dist-packages/datafold/dynfold/dmd.py:1187: UserWarning: Shift matrix (shape=(3774, 3774)) has not full rank (=182), falling back to least squares solution. The sum of residuals is: 0.0\n",
            "  warnings.warn(\n"
          ]
        }
      ],
      "source": [
        "dict_step = [\n",
        "    (\n",
        "        \"identity\",\n",
        "        TSCIdentity()\n",
        "    )\n",
        "]\n",
        "\n",
        "edmd_sgd_mom_09 = EDMD(dict_steps=dict_step, include_id_state=False).fit(\n",
        "    X=w_tsc\n",
        ")  # Note that the \"extended\" part is in the transformations\n"
      ],
      "id": "dR2HD13KO8Tu"
    },
    {
      "cell_type": "code",
      "execution_count": null,
      "metadata": {
        "id": "d3s33iMqO8Tv",
        "colab": {
          "base_uri": "https://localhost:8080/"
        },
        "outputId": "c71c4c41-694f-4e7a-be10-e55a0f03a34b"
      },
      "outputs": [
        {
          "output_type": "execute_result",
          "data": {
            "text/plain": [
              "EDMD(dict_steps=[('identity', TSCIdentity())], dmd_model=DMDFull(),\n",
              "     include_id_state=False)"
            ]
          },
          "metadata": {},
          "execution_count": 27
        }
      ],
      "source": [
        "edmd_sgd_mom_09"
      ],
      "id": "d3s33iMqO8Tv"
    },
    {
      "cell_type": "code",
      "execution_count": null,
      "metadata": {
        "id": "D7YTKjIpO8Tv"
      },
      "outputs": [],
      "source": [
        "import pickle\n",
        "with open('./out/edmd_sgd_mom_09.pkl', 'wb') as outp:\n",
        "    pickle.dump(edmd_sgd_mom_09, outp, pickle.HIGHEST_PROTOCOL)\n"
      ],
      "id": "D7YTKjIpO8Tv"
    },
    {
      "cell_type": "code",
      "execution_count": null,
      "metadata": {
        "id": "uCWCtkgGO8Tv"
      },
      "outputs": [],
      "source": [
        "with open('./out/edmd_sgd_mom_09.pkl', 'rb') as inp:\n",
        "    edmd_sgd_mom_09 = pickle.load(inp)"
      ],
      "id": "uCWCtkgGO8Tv"
    },
    {
      "cell_type": "code",
      "execution_count": null,
      "metadata": {
        "id": "fqEwDJBUO8Tw",
        "colab": {
          "base_uri": "https://localhost:8080/",
          "height": 281
        },
        "outputId": "b65fe9a4-1b94-47e4-9c3f-863f98f36410"
      },
      "outputs": [
        {
          "output_type": "display_data",
          "data": {
            "text/plain": [
              "<Figure size 432x288 with 1 Axes>"
            ],
            "image/png": "[encoded data removed]"
          },
          "metadata": {
            "needs_background": "light"
          }
        }
      ],
      "source": [
        "plt.plot(np.abs(edmd_sgd_mom_09.koopman_eigenvalues), 'x')\n",
        "plt.title('Dominant eigenvalues');"
      ],
      "id": "fqEwDJBUO8Tw"
    },
    {
      "cell_type": "code",
      "execution_count": null,
      "metadata": {
        "id": "ZVGkO_8NO8Tw",
        "colab": {
          "base_uri": "https://localhost:8080/"
        },
        "outputId": "ab554887-971b-428c-cdde-fd6ddbd9965e"
      },
      "outputs": [
        {
          "output_type": "execute_result",
          "data": {
            "text/plain": [
              "182"
            ]
          },
          "metadata": {},
          "execution_count": 31
        }
      ],
      "source": [
        "sum(np.abs(edmd_sgd_mom_09.koopman_eigenvalues) > 0.05)"
      ],
      "id": "ZVGkO_8NO8Tw"
    }
  ],
  "metadata": {
    "kernelspec": {
      "display_name": "Python 3 (ipykernel)",
      "language": "python",
      "name": "python3"
    },
    "language_info": {
      "codemirror_mode": {
        "name": "ipython",
        "version": 3
      },
      "file_extension": ".py",
      "mimetype": "text/x-python",
      "name": "python",
      "nbconvert_exporter": "python",
      "pygments_lexer": "ipython3",
      "version": "3.8.15"
    },
    "colab": {
      "provenance": [],
      "collapsed_sections": [
        "a1000a1d",
        "7e5c2aca",
        "53Dg6942L7Nr"
      ]
    },
    "accelerator": "GPU",
    "gpuClass": "standard"
  },
  "nbformat": 4,
  "nbformat_minor": 5
}