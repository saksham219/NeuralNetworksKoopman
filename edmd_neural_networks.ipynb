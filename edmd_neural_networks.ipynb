{
 "cells": [
  {
   "cell_type": "markdown",
   "id": "a1000a1d",
   "metadata": {},
   "source": [
    "### Generate weights from NN training"
   ]
  },
  {
   "cell_type": "code",
   "execution_count": 2,
   "id": "79db7708",
   "metadata": {
    "scrolled": true
   },
   "outputs": [
    {
     "name": "stderr",
     "output_type": "stream",
     "text": [
      "/Users/saksham/miniconda3/envs/code/lib/python3.8/site-packages/scipy/__init__.py:146: UserWarning: A NumPy version >=1.16.5 and <1.23.0 is required for this version of SciPy (detected version 1.24.1\n",
      "  warnings.warn(f\"A NumPy version >={np_minversion} and <{np_maxversion}\"\n"
     ]
    }
   ],
   "source": [
    "import numpy as np\n",
    "import torch\n",
    "import torchvision\n",
    "import matplotlib.pyplot as plt\n",
    "import torch.nn as nn\n",
    "import torch.nn.functional as F\n",
    "import pandas as pd\n",
    "import scipy\n",
    "from torchvision import transforms\n"
   ]
  },
  {
   "cell_type": "code",
   "execution_count": 2,
   "id": "97122e1b",
   "metadata": {},
   "outputs": [],
   "source": [
    "transform = transforms.Compose([transforms.ToTensor(),\n",
    "                                ])"
   ]
  },
  {
   "cell_type": "code",
   "execution_count": 3,
   "id": "20abf03c",
   "metadata": {},
   "outputs": [],
   "source": [
    "mnist_dev = torchvision.datasets.MNIST(\"./data\", train=True, download=True, transform = transform)\n",
    "mnist_test = torchvision.datasets.MNIST(\"./data\", train=False, download=True, transform = transform)"
   ]
  },
  {
   "cell_type": "code",
   "execution_count": 1,
   "id": "d275a456",
   "metadata": {},
   "outputs": [
    {
     "ename": "NameError",
     "evalue": "name 'mnist_dev' is not defined",
     "output_type": "error",
     "traceback": [
      "\u001b[0;31m---------------------------------------------------------------------------\u001b[0m",
      "\u001b[0;31mNameError\u001b[0m                                 Traceback (most recent call last)",
      "Cell \u001b[0;32mIn[1], line 1\u001b[0m\n\u001b[0;32m----> 1\u001b[0m \u001b[38;5;28mlen\u001b[39m(\u001b[43mmnist_dev\u001b[49m)\n",
      "\u001b[0;31mNameError\u001b[0m: name 'mnist_dev' is not defined"
     ]
    }
   ],
   "source": [
    "len(mnist_dev)"
   ]
  },
  {
   "cell_type": "code",
   "execution_count": 5,
   "id": "21aaa37e",
   "metadata": {},
   "outputs": [],
   "source": [
    "x_dev = mnist_dev.data / 255.0\n",
    "y_dev = mnist_dev.targets"
   ]
  },
  {
   "cell_type": "code",
   "execution_count": 6,
   "id": "d645f759",
   "metadata": {},
   "outputs": [
    {
     "name": "stdout",
     "output_type": "stream",
     "text": [
      "torch.Size([60000, 28, 28])\n",
      "torch.Size([60000])\n"
     ]
    },
    {
     "data": {
      "text/plain": [
       "<matplotlib.image.AxesImage at 0x16b9c6b80>"
      ]
     },
     "execution_count": 6,
     "metadata": {},
     "output_type": "execute_result"
    },
    {
     "data": {
      "image/png": "[encoded data removed]",
      "text/plain": [
       "<Figure size 640x480 with 1 Axes>"
      ]
     },
     "metadata": {},
     "output_type": "display_data"
    }
   ],
   "source": [
    "print(x_dev.shape)\n",
    "print(y_dev.shape)\n",
    "\n",
    "plt.imshow(x_dev[0], cmap=\"gray\")"
   ]
  },
  {
   "cell_type": "code",
   "execution_count": 7,
   "id": "d55045fd",
   "metadata": {
    "scrolled": false
   },
   "outputs": [
    {
     "data": {
      "text/plain": [
       "<matplotlib.image.AxesImage at 0x16baca040>"
      ]
     },
     "execution_count": 7,
     "metadata": {},
     "output_type": "execute_result"
    },
    {
     "data": {
      "image/png": "[encoded data removed]",
      "text/plain": [
       "<Figure size 640x480 with 1 Axes>"
      ]
     },
     "metadata": {},
     "output_type": "display_data"
    }
   ],
   "source": [
    "plt.imshow(x_dev[40], cmap=\"gray\")"
   ]
  },
  {
   "cell_type": "code",
   "execution_count": 8,
   "id": "b90afe0d",
   "metadata": {},
   "outputs": [],
   "source": [
    "ntrain = 50000\n",
    "x_train, y_train = x_dev[:ntrain].flatten(1), y_dev[:ntrain]\n",
    "x_val, y_val = x_dev[ntrain:].flatten(1), y_dev[ntrain:]"
   ]
  },
  {
   "cell_type": "code",
   "execution_count": 9,
   "id": "85caf6ee",
   "metadata": {},
   "outputs": [
    {
     "data": {
      "text/plain": [
       "(torch.Size([50000, 28, 28]), torch.Size([50000, 784]))"
      ]
     },
     "execution_count": 9,
     "metadata": {},
     "output_type": "execute_result"
    }
   ],
   "source": [
    "x_dev[:ntrain].shape, x_train.shape"
   ]
  },
  {
   "cell_type": "code",
   "execution_count": 10,
   "id": "e8354eec",
   "metadata": {},
   "outputs": [],
   "source": [
    "device = torch.device(\"cuda:0\" if torch.cuda.is_available() else \"cpu\")"
   ]
  },
  {
   "cell_type": "code",
   "execution_count": 11,
   "id": "c200a250",
   "metadata": {},
   "outputs": [],
   "source": [
    "class Net(nn.Module):\n",
    "    def __init__(self, activation=nn.ReLU(),\n",
    "                 input_size=1*28*28, hidden_size=5, classes=10):\n",
    "        \n",
    "        super(Net, self).__init__()\n",
    "        self.input_size = input_size\n",
    "\n",
    "        # Here we initialize our activation and set up our two linear layers\n",
    "        self.activation = activation\n",
    "        self.fc1 = nn.Linear(input_size, hidden_size)\n",
    "        self.fc2 = nn.Linear(hidden_size, classes)\n",
    "\n",
    "    def forward(self, x):\n",
    "        x = x.view(-1, self.input_size) # flatten\n",
    "        x = self.fc1(x)\n",
    "        x = self.activation(x)\n",
    "        x = self.fc2(x)\n",
    "\n",
    "        return x\n",
    "\n",
    "    def get_net_params(self):\n",
    "        param_list = np.array([])\n",
    "        for params in self.parameters():    \n",
    "            param_list = np.concatenate((param_list, params.cpu().detach().numpy().flatten()))\n",
    "        return param_list"
   ]
  },
  {
   "cell_type": "code",
   "execution_count": 12,
   "id": "78ce936e",
   "metadata": {},
   "outputs": [],
   "source": [
    "import torch.optim as optim\n",
    "from torch.utils.data import TensorDataset, DataLoader\n",
    "\n",
    "train_set = TensorDataset(x_train, y_train)\n",
    "\n",
    "batch_size = 64\n",
    "train_loader = DataLoader(train_set, batch_size=batch_size, shuffle=True)"
   ]
  },
  {
   "cell_type": "code",
   "execution_count": 13,
   "id": "78ec9845",
   "metadata": {},
   "outputs": [
    {
     "data": {
      "text/plain": [
       "(torch.Size([50000, 784]), torch.Size([50000]))"
      ]
     },
     "execution_count": 13,
     "metadata": {},
     "output_type": "execute_result"
    }
   ],
   "source": [
    "train_set.tensors[0].shape, train_set.tensors[1].shape"
   ]
  },
  {
   "cell_type": "code",
   "execution_count": 14,
   "id": "703714e3",
   "metadata": {},
   "outputs": [],
   "source": [
    "def sample_nn_run(seed):\n",
    "    print(\"seed: \", seed)\n",
    "\n",
    "    torch.manual_seed(seed)\n",
    "    \n",
    "    net = Net()\n",
    "    # Always remember to move the network to the GPU/CPU depending on device\n",
    "    net = net.to(device) \n",
    "    criterion = nn.CrossEntropyLoss()\n",
    "    optimizer = optim.SGD(net.parameters(), lr=0.001, momentum=0.9)\n",
    "    \n",
    "    print(\"Shapes of the Parameter Matrix:\")\n",
    "    for parameter in net.parameters():\n",
    "            print(parameter.shape)\n",
    "\n",
    "    print(\"weight init shape: \", net.get_net_params().shape)\n",
    "    print(\"weight init mean: \", net.get_net_params().mean())\n",
    "    \n",
    "    train_loss_history = [] # loss\n",
    "    train_acc_history = [] # accuracy\n",
    "\n",
    "    weights = [net.get_net_params()]\n",
    "    \n",
    "    for epoch in range(14):\n",
    "\n",
    "        running_loss = 0.0\n",
    "        correct = 0.0\n",
    "        total = 0\n",
    "\n",
    "        # Iterating through the minibatches of the data\n",
    "\n",
    "        for i, data in enumerate(train_loader, 0):\n",
    "            # data is a tuple of (inputs, labels)\n",
    "            X, y = data\n",
    "\n",
    "            X = X.to(device)\n",
    "            y = y.to(device)\n",
    "\n",
    "            # Reset the parameter gradients  for the current  minibatch iteration \n",
    "            optimizer.zero_grad()\n",
    "\n",
    "\n",
    "            y_pred = net(X)             # Perform a forward pass on the network with inputs\n",
    "            loss = criterion(y_pred, y) # calculate the loss with the network predictions and ground Truth\n",
    "            loss.backward()             # Perform a backward pass to calculate the gradients\n",
    "            optimizer.step()            # Optimize the network parameters with calculated gradients\n",
    "            \n",
    "            # save weights\n",
    "            weights.append(net.get_net_params())\n",
    "\n",
    "            # Accumulate the loss and calculate the accuracy of predictions\n",
    "            running_loss += loss.item()\n",
    "            _, preds = torch.max(y_pred, 1) #convert output probabilities of each class to a singular class prediction\n",
    "            correct += preds.eq(y).sum().item()\n",
    "            total += y.size(0)\n",
    "\n",
    "            # Print statistics to console\n",
    "            if i % 200 == 99: # print every 100 mini-batches\n",
    "                running_loss /= 100\n",
    "                correct /= total\n",
    "                print(\"[Epoch %d, Iteration %5d] loss: %.3f acc: %.2f %%\" % (epoch+1, i+1, running_loss, 100*correct))\n",
    "                train_loss_history.append(running_loss)\n",
    "                train_acc_history.append(correct)\n",
    "                running_loss = 0.0\n",
    "                correct = 0.0\n",
    "                total = 0\n",
    "    return weights"
   ]
  },
  {
   "cell_type": "code",
   "execution_count": 15,
   "id": "3b02301e",
   "metadata": {
    "scrolled": false
   },
   "outputs": [
    {
     "name": "stdout",
     "output_type": "stream",
     "text": [
      "seed:  12\n",
      "Shapes of the Parameter Matrix:\n",
      "torch.Size([5, 784])\n",
      "torch.Size([5])\n",
      "torch.Size([10, 5])\n",
      "torch.Size([10])\n",
      "weight init shape:  (3985,)\n",
      "weight init mean:  -0.0008846448942401927\n",
      "[Epoch 1, Iteration   100] loss: 2.259 acc: 18.31 %\n",
      "[Epoch 1, Iteration   300] loss: 4.104 acc: 26.62 %\n",
      "[Epoch 1, Iteration   500] loss: 3.592 acc: 38.16 %\n",
      "[Epoch 1, Iteration   700] loss: 3.063 acc: 53.34 %\n",
      "[Epoch 2, Iteration   100] loss: 1.251 acc: 62.38 %\n",
      "[Epoch 2, Iteration   300] loss: 2.245 acc: 66.88 %\n",
      "[Epoch 2, Iteration   500] loss: 1.996 acc: 71.50 %\n",
      "[Epoch 2, Iteration   700] loss: 1.767 acc: 74.50 %\n",
      "[Epoch 3, Iteration   100] loss: 0.802 acc: 76.81 %\n",
      "[Epoch 3, Iteration   300] loss: 1.525 acc: 77.63 %\n",
      "[Epoch 3, Iteration   500] loss: 1.454 acc: 78.98 %\n",
      "[Epoch 3, Iteration   700] loss: 1.387 acc: 79.96 %\n",
      "[Epoch 4, Iteration   100] loss: 0.663 acc: 80.41 %\n",
      "[Epoch 4, Iteration   300] loss: 1.280 acc: 81.07 %\n",
      "[Epoch 4, Iteration   500] loss: 1.250 acc: 81.82 %\n",
      "[Epoch 4, Iteration   700] loss: 1.236 acc: 82.17 %\n",
      "[Epoch 5, Iteration   100] loss: 0.578 acc: 82.94 %\n",
      "[Epoch 5, Iteration   300] loss: 1.130 acc: 83.55 %\n",
      "[Epoch 5, Iteration   500] loss: 1.141 acc: 83.56 %\n",
      "[Epoch 5, Iteration   700] loss: 1.121 acc: 83.65 %\n",
      "[Epoch 6, Iteration   100] loss: 0.539 acc: 84.45 %\n",
      "[Epoch 6, Iteration   300] loss: 1.058 acc: 84.90 %\n",
      "[Epoch 6, Iteration   500] loss: 1.051 acc: 84.78 %\n",
      "[Epoch 6, Iteration   700] loss: 1.046 acc: 84.59 %\n",
      "[Epoch 7, Iteration   100] loss: 0.496 acc: 85.58 %\n",
      "[Epoch 7, Iteration   300] loss: 1.015 acc: 85.44 %\n",
      "[Epoch 7, Iteration   500] loss: 0.998 acc: 85.90 %\n",
      "[Epoch 7, Iteration   700] loss: 0.972 acc: 85.88 %\n",
      "[Epoch 8, Iteration   100] loss: 0.497 acc: 85.12 %\n",
      "[Epoch 8, Iteration   300] loss: 0.972 acc: 85.84 %\n",
      "[Epoch 8, Iteration   500] loss: 0.935 acc: 86.62 %\n",
      "[Epoch 8, Iteration   700] loss: 0.940 acc: 86.59 %\n",
      "[Epoch 9, Iteration   100] loss: 0.452 acc: 86.77 %\n",
      "[Epoch 9, Iteration   300] loss: 0.940 acc: 86.30 %\n",
      "[Epoch 9, Iteration   500] loss: 0.933 acc: 86.56 %\n",
      "[Epoch 9, Iteration   700] loss: 0.934 acc: 86.52 %\n",
      "[Epoch 10, Iteration   100] loss: 0.473 acc: 86.50 %\n",
      "[Epoch 10, Iteration   300] loss: 0.902 acc: 86.98 %\n",
      "[Epoch 10, Iteration   500] loss: 0.897 acc: 86.79 %\n",
      "[Epoch 10, Iteration   700] loss: 0.901 acc: 86.88 %\n",
      "[Epoch 11, Iteration   100] loss: 0.436 acc: 87.19 %\n",
      "[Epoch 11, Iteration   300] loss: 0.900 acc: 86.91 %\n",
      "[Epoch 11, Iteration   500] loss: 0.875 acc: 87.26 %\n",
      "[Epoch 11, Iteration   700] loss: 0.921 acc: 86.84 %\n",
      "[Epoch 12, Iteration   100] loss: 0.436 acc: 87.52 %\n",
      "[Epoch 12, Iteration   300] loss: 0.880 acc: 87.39 %\n",
      "[Epoch 12, Iteration   500] loss: 0.890 acc: 87.12 %\n",
      "[Epoch 12, Iteration   700] loss: 0.857 acc: 87.36 %\n",
      "[Epoch 13, Iteration   100] loss: 0.416 acc: 87.98 %\n",
      "[Epoch 13, Iteration   300] loss: 0.856 acc: 87.74 %\n",
      "[Epoch 13, Iteration   500] loss: 0.900 acc: 87.23 %\n",
      "[Epoch 13, Iteration   700] loss: 0.850 acc: 87.42 %\n",
      "[Epoch 14, Iteration   100] loss: 0.430 acc: 87.47 %\n",
      "[Epoch 14, Iteration   300] loss: 0.858 acc: 87.81 %\n",
      "[Epoch 14, Iteration   500] loss: 0.852 acc: 87.55 %\n",
      "[Epoch 14, Iteration   700] loss: 0.859 acc: 87.58 %\n"
     ]
    }
   ],
   "source": [
    "w = sample_nn_run(12)"
   ]
  },
  {
   "cell_type": "code",
   "execution_count": 16,
   "id": "6006f7a6",
   "metadata": {},
   "outputs": [],
   "source": [
    "np.save(\"w_nn.pkl\", np.array(w))"
   ]
  },
  {
   "cell_type": "code",
   "execution_count": 17,
   "id": "1a9b14d9",
   "metadata": {},
   "outputs": [],
   "source": [
    "w = np.load(\"w_nn.pkl.npy\")"
   ]
  },
  {
   "cell_type": "code",
   "execution_count": 18,
   "id": "08e9b769",
   "metadata": {},
   "outputs": [
    {
     "data": {
      "text/plain": [
       "array([[-0.00245089, -0.01908809, -0.00337707, ..., -0.12924042,\n",
       "         0.06457067, -0.21961719],\n",
       "       [-0.00245089, -0.01908809, -0.00337707, ..., -0.12921284,\n",
       "         0.06457364, -0.21962918],\n",
       "       [-0.00245089, -0.01908809, -0.00337707, ..., -0.12919217,\n",
       "         0.06454732, -0.2195435 ],\n",
       "       ...,\n",
       "       [-0.00245089, -0.01908809, -0.00337707, ...,  0.0998647 ,\n",
       "        -0.71123451, -0.57188541],\n",
       "       [-0.00245089, -0.01908809, -0.00337707, ...,  0.09991028,\n",
       "        -0.71127719, -0.57191908],\n",
       "       [-0.00245089, -0.01908809, -0.00337707, ...,  0.09994707,\n",
       "        -0.71120745, -0.5718953 ]])"
      ]
     },
     "execution_count": 18,
     "metadata": {},
     "output_type": "execute_result"
    }
   ],
   "source": [
    "w"
   ]
  },
  {
   "cell_type": "code",
   "execution_count": 19,
   "id": "37e41a51",
   "metadata": {},
   "outputs": [
    {
     "data": {
      "text/plain": [
       "(10949, 3985)"
      ]
     },
     "execution_count": 19,
     "metadata": {},
     "output_type": "execute_result"
    }
   ],
   "source": [
    "w.shape"
   ]
  },
  {
   "cell_type": "markdown",
   "id": "d71297db",
   "metadata": {},
   "source": [
    "### apply EDMD"
   ]
  },
  {
   "cell_type": "markdown",
   "id": "bcdcec03",
   "metadata": {},
   "source": [
    "#### define thin plate radial basis functions"
   ]
  },
  {
   "cell_type": "code",
   "execution_count": 21,
   "id": "1dbdcada",
   "metadata": {},
   "outputs": [],
   "source": [
    "from scipy.spatial import distance\n",
    "def rbf_thin_plate(centers, x):\n",
    "    delta = 10**-3\n",
    "    out = []\n",
    "    for c in centers:\n",
    "        out.append((distance.euclidean(c,x)**2) * np.log(distance.euclidean(c,x) + delta))\n",
    "    \n",
    "    return(np.array(out))"
   ]
  },
  {
   "cell_type": "code",
   "execution_count": 22,
   "id": "3b6e890a",
   "metadata": {},
   "outputs": [
    {
     "data": {
      "text/plain": [
       "(10949, 3985)"
      ]
     },
     "execution_count": 22,
     "metadata": {},
     "output_type": "execute_result"
    }
   ],
   "source": [
    "w.shape"
   ]
  },
  {
   "cell_type": "markdown",
   "id": "2b0e50a5",
   "metadata": {},
   "source": [
    "#### apply kmeans to get centers for radial basis fucntions"
   ]
  },
  {
   "cell_type": "code",
   "execution_count": 23,
   "id": "0b3802b4",
   "metadata": {},
   "outputs": [
    {
     "name": "stdout",
     "output_type": "stream",
     "text": [
      "Initialization complete\n",
      "Iteration 0, inertia 0.7012163863927537\n",
      "Iteration 1, inertia 0.5803341179592924\n",
      "Iteration 2, inertia 0.5694275083028179\n",
      "Iteration 3, inertia 0.5652782995857207\n",
      "Iteration 4, inertia 0.5631359872166697\n",
      "Iteration 5, inertia 0.5621718435407812\n",
      "Iteration 6, inertia 0.5617685178381118\n",
      "Iteration 7, inertia 0.5614951060710942\n",
      "Iteration 8, inertia 0.5613337804733923\n",
      "Iteration 9, inertia 0.5612034111330667\n",
      "Iteration 10, inertia 0.5610981933418245\n",
      "Iteration 11, inertia 0.5610438527630491\n",
      "Iteration 12, inertia 0.5610261887306315\n",
      "Converged at iteration 12: strict convergence.\n",
      "Initialization complete\n",
      "Iteration 0, inertia 0.7012163863927537\n",
      "Iteration 1, inertia 0.5803341179592924\n",
      "Iteration 2, inertia 0.5694275083028179\n",
      "Iteration 3, inertia 0.5652782995857207\n",
      "Iteration 4, inertia 0.5631359872166697\n",
      "Iteration 5, inertia 0.5621718435407812\n",
      "Iteration 6, inertia 0.5617685178381118\n",
      "Iteration 7, inertia 0.5614951060710942\n",
      "Iteration 8, inertia 0.5613337804733923\n",
      "Iteration 9, inertia 0.5612034111330667\n",
      "Iteration 10, inertia 0.5610981933418245\n",
      "Iteration 11, inertia 0.5610438527630491\n",
      "Iteration 12, inertia 0.5610261887306315\n",
      "Converged at iteration 12: strict convergence.\n"
     ]
    },
    {
     "data": {
      "text/plain": [
       "array([[-0.00245089, -0.01908809, -0.00337707, ...,  0.08371205,\n",
       "        -0.66721874, -0.56170395],\n",
       "       [-0.00245089, -0.01908809, -0.00337707, ..., -0.2174736 ,\n",
       "        -0.19114802, -0.42391739],\n",
       "       [-0.00245089, -0.01908809, -0.00337707, ..., -0.14083285,\n",
       "         0.04053799, -0.21788493],\n",
       "       ...,\n",
       "       [-0.00245089, -0.01908809, -0.00337707, ...,  0.01439518,\n",
       "        -0.50714844, -0.52322989],\n",
       "       [-0.00245089, -0.01908809, -0.00337707, ..., -0.08371365,\n",
       "        -0.33660696, -0.4782168 ],\n",
       "       [-0.00245089, -0.01908809, -0.00337707, ..., -0.1817136 ,\n",
       "        -0.22424344, -0.43923692]])"
      ]
     },
     "execution_count": 23,
     "metadata": {},
     "output_type": "execute_result"
    }
   ],
   "source": [
    "from sklearn.cluster import KMeans, MiniBatchKMeans\n",
    "\n",
    "kmeans = KMeans(1000, verbose=1, init='k-means++', n_init=1, random_state=11)\n",
    "kmeans.fit(w)\n",
    "#def get_centers_knn():\n",
    "\n",
    "identified_clusters = kmeans.fit_predict(w)\n",
    "identified_clusters\n",
    "unique, counts = np.unique(identified_clusters, return_counts=True)\n",
    "\n",
    "centers = kmeans.cluster_centers_\n",
    "centers"
   ]
  },
  {
   "cell_type": "code",
   "execution_count": 24,
   "id": "8d7d4cd7",
   "metadata": {},
   "outputs": [
    {
     "data": {
      "text/plain": [
       "(1000, 10949)"
      ]
     },
     "execution_count": 24,
     "metadata": {},
     "output_type": "execute_result"
    }
   ],
   "source": [
    "w_t_transformed = np.apply_along_axis(lambda x: rbf_thin_plate(centers,x), 0, w.T)\n",
    "w_t_transformed.shape"
   ]
  },
  {
   "cell_type": "code",
   "execution_count": 25,
   "id": "a2f41060",
   "metadata": {},
   "outputs": [],
   "source": [
    "w_t_transformed = w_t_transformed.T"
   ]
  },
  {
   "cell_type": "code",
   "execution_count": 26,
   "id": "643f69ad",
   "metadata": {
    "scrolled": true
   },
   "outputs": [
    {
     "data": {
      "text/plain": [
       "(10949, 1000)"
      ]
     },
     "execution_count": 26,
     "metadata": {},
     "output_type": "execute_result"
    }
   ],
   "source": [
    "w_t_transformed.shape"
   ]
  },
  {
   "cell_type": "code",
   "execution_count": 27,
   "id": "0693c2e4",
   "metadata": {},
   "outputs": [
    {
     "data": {
      "text/plain": [
       "(10949, 4985)"
      ]
     },
     "execution_count": 27,
     "metadata": {},
     "output_type": "execute_result"
    }
   ],
   "source": [
    "w_t_combined = np.hstack((w_t_transformed, w))\n",
    "w_t_combined.shape"
   ]
  },
  {
   "cell_type": "code",
   "execution_count": 28,
   "id": "80c56003",
   "metadata": {},
   "outputs": [],
   "source": [
    "np.save(\"w_t_combined.pkl\", w_t_combined)"
   ]
  },
  {
   "cell_type": "code",
   "execution_count": 3,
   "id": "5fd832f8",
   "metadata": {},
   "outputs": [],
   "source": [
    "w_t_combined = np.load(\"w_t_combined.pkl.npy\")"
   ]
  },
  {
   "cell_type": "code",
   "execution_count": 5,
   "id": "b63e031d",
   "metadata": {},
   "outputs": [],
   "source": [
    "from datafold.appfold import EDMD\n",
    "from datafold.dynfold import DMDFull\n",
    "from datafold.dynfold.transform import TSCPolynomialFeatures, TSCRadialBasis, TSCIdentity, TSCApplyLambdas, TSCFeaturePreprocess\n",
    "from datafold.pcfold import GaussianKernel, TSCDataFrame"
   ]
  },
  {
   "cell_type": "code",
   "execution_count": 6,
   "id": "2de6efed",
   "metadata": {},
   "outputs": [
    {
     "data": {
      "text/plain": [
       "(10949, 4985)"
      ]
     },
     "execution_count": 6,
     "metadata": {},
     "output_type": "execute_result"
    }
   ],
   "source": [
    "w_tsc = TSCDataFrame.from_single_timeseries(pd.DataFrame(w_t_combined))\n",
    "w_tsc.shape"
   ]
  },
  {
   "cell_type": "code",
   "execution_count": 7,
   "id": "f4e17d33",
   "metadata": {
    "scrolled": true
   },
   "outputs": [
    {
     "name": "stdout",
     "output_type": "stream",
     "text": [
      "time delta: 1\n",
      "#time series: 1\n",
      "#time steps per time series: 10949\n",
      "(n_samples, n_features): (10949, 4985)\n",
      "time interval (0, 10948)\n",
      "Same time values: True\n"
     ]
    }
   ],
   "source": [
    "print(f\"time delta: {w_tsc.delta_time}\")\n",
    "print(f\"#time series: {w_tsc.n_timeseries}\")\n",
    "print(f\"#time steps per time series: {w_tsc.n_timesteps}\")\n",
    "print(f\"(n_samples, n_features): {w_tsc.shape}\")\n",
    "print(f\"time interval {w_tsc.time_interval()}\")\n",
    "print(f\"Same time values: {w_tsc.is_same_time_values()}\")"
   ]
  },
  {
   "cell_type": "code",
   "execution_count": 8,
   "id": "7ec832f4",
   "metadata": {},
   "outputs": [
    {
     "name": "stderr",
     "output_type": "stream",
     "text": [
      "/Users/saksham/Documents/tum_lecture_notes/seminar/code/datafold/datafold/dynfold/dmd.py:1187: UserWarning: Shift matrix (shape=(4985, 4985)) has not full rank (=259), falling back to least squares solution. The sum of residuals is: 0.0\n",
      "  warnings.warn(\n"
     ]
    }
   ],
   "source": [
    "\n",
    "dict_step = [\n",
    "    (\n",
    "        \"identity\",\n",
    "        TSCIdentity()\n",
    "    )\n",
    "]\n",
    "\n",
    "edmd_rbf = EDMD(dict_steps=dict_step, include_id_state=False).fit(\n",
    "    X=w_tsc\n",
    ")  # Note that the \"extended\" part is in the transformations\n"
   ]
  },
  {
   "cell_type": "code",
   "execution_count": 9,
   "id": "a7b0f690",
   "metadata": {},
   "outputs": [
    {
     "data": {
      "text/plain": [
       "EDMD(dict_steps=[('identity', TSCIdentity())], dmd_model=DMDFull(),\n",
       "     include_id_state=False)"
      ]
     },
     "execution_count": 9,
     "metadata": {},
     "output_type": "execute_result"
    }
   ],
   "source": [
    "edmd_rbf"
   ]
  },
  {
   "cell_type": "code",
   "execution_count": 10,
   "id": "519ec94d",
   "metadata": {},
   "outputs": [
    {
     "name": "stdout",
     "output_type": "stream",
     "text": [
      "shape of Koopman matrix: 4985 x 4985\n"
     ]
    }
   ],
   "source": [
    "edmd_rbf_values = edmd_rbf.predict(w_tsc.initial_states())\n",
    "\n",
    "len_koopman_matrix = len(edmd_rbf.named_steps[\"dmd\"].eigenvectors_right_)\n",
    "print(f\"shape of Koopman matrix: {len_koopman_matrix} x {len_koopman_matrix}\")\n",
    "#edmd_rbf.transform(tsc_data)"
   ]
  },
  {
   "cell_type": "code",
   "execution_count": 11,
   "id": "650808be",
   "metadata": {},
   "outputs": [
    {
     "data": {
      "text/plain": [
       "4985"
      ]
     },
     "execution_count": 11,
     "metadata": {},
     "output_type": "execute_result"
    }
   ],
   "source": [
    "len_koopman_matrix = len(edmd_rbf.named_steps[\"dmd\"].eigenvectors_right_)\n",
    "len_koopman_matrix\n"
   ]
  },
  {
   "cell_type": "code",
   "execution_count": 12,
   "id": "8ba9914c",
   "metadata": {},
   "outputs": [
    {
     "data": {
      "text/plain": [
       "(10949, 4985)"
      ]
     },
     "execution_count": 12,
     "metadata": {},
     "output_type": "execute_result"
    }
   ],
   "source": [
    "edmd_rbf_values.shape"
   ]
  },
  {
   "cell_type": "code",
   "execution_count": 14,
   "id": "14875fa2",
   "metadata": {},
   "outputs": [
    {
     "data": {
      "text/html": [
       "<div>\n",
       "<style scoped>\n",
       "    .dataframe tbody tr th:only-of-type {\n",
       "        vertical-align: middle;\n",
       "    }\n",
       "\n",
       "    .dataframe tbody tr th {\n",
       "        vertical-align: top;\n",
       "    }\n",
       "\n",
       "    .dataframe thead th {\n",
       "        text-align: right;\n",
       "    }\n",
       "</style>\n",
       "<table border=\"1\" class=\"dataframe\">\n",
       "  <thead>\n",
       "    <tr style=\"text-align: right;\">\n",
       "      <th></th>\n",
       "      <th>feature</th>\n",
       "      <th>1001</th>\n",
       "    </tr>\n",
       "    <tr>\n",
       "      <th>ID</th>\n",
       "      <th>time</th>\n",
       "      <th></th>\n",
       "    </tr>\n",
       "  </thead>\n",
       "  <tbody>\n",
       "    <tr>\n",
       "      <th rowspan=\"11\" valign=\"top\">0</th>\n",
       "      <th>0</th>\n",
       "      <td>-0.019088</td>\n",
       "    </tr>\n",
       "    <tr>\n",
       "      <th>1</th>\n",
       "      <td>-0.019089</td>\n",
       "    </tr>\n",
       "    <tr>\n",
       "      <th>2</th>\n",
       "      <td>-0.019089</td>\n",
       "    </tr>\n",
       "    <tr>\n",
       "      <th>3</th>\n",
       "      <td>-0.019089</td>\n",
       "    </tr>\n",
       "    <tr>\n",
       "      <th>4</th>\n",
       "      <td>-0.019089</td>\n",
       "    </tr>\n",
       "    <tr>\n",
       "      <th>...</th>\n",
       "      <td>...</td>\n",
       "    </tr>\n",
       "    <tr>\n",
       "      <th>10944</th>\n",
       "      <td>-0.019089</td>\n",
       "    </tr>\n",
       "    <tr>\n",
       "      <th>10945</th>\n",
       "      <td>-0.019089</td>\n",
       "    </tr>\n",
       "    <tr>\n",
       "      <th>10946</th>\n",
       "      <td>-0.019089</td>\n",
       "    </tr>\n",
       "    <tr>\n",
       "      <th>10947</th>\n",
       "      <td>-0.019089</td>\n",
       "    </tr>\n",
       "    <tr>\n",
       "      <th>10948</th>\n",
       "      <td>-0.019089</td>\n",
       "    </tr>\n",
       "  </tbody>\n",
       "</table>\n",
       "<p>10949 rows × 1 columns</p>\n",
       "</div>"
      ],
      "text/plain": [
       "feature       1001\n",
       "ID time           \n",
       "0  0     -0.019088\n",
       "   1     -0.019089\n",
       "   2     -0.019089\n",
       "   3     -0.019089\n",
       "   4     -0.019089\n",
       "...            ...\n",
       "   10944 -0.019089\n",
       "   10945 -0.019089\n",
       "   10946 -0.019089\n",
       "   10947 -0.019089\n",
       "   10948 -0.019089\n",
       "\n",
       "[10949 rows x 1 columns]"
      ]
     },
     "execution_count": 14,
     "metadata": {},
     "output_type": "execute_result"
    }
   ],
   "source": [
    "edmd_rbf_values[1001]"
   ]
  },
  {
   "cell_type": "code",
   "execution_count": null,
   "id": "3fa2abeb",
   "metadata": {},
   "outputs": [],
   "source": [
    "edmd_rbf_values"
   ]
  }
 ],
 "metadata": {
  "kernelspec": {
   "display_name": "Python 3 (ipykernel)",
   "language": "python",
   "name": "python3"
  },
  "language_info": {
   "codemirror_mode": {
    "name": "ipython",
    "version": 3
   },
   "file_extension": ".py",
   "mimetype": "text/x-python",
   "name": "python",
   "nbconvert_exporter": "python",
   "pygments_lexer": "ipython3",
   "version": "3.8.15"
  }
 },
 "nbformat": 4,
 "nbformat_minor": 5
}
